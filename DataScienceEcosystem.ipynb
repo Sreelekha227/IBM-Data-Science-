{
  "nbformat": 4,
  "nbformat_minor": 0,
  "metadata": {
    "colab": {
      "provenance": []
    },
    "kernelspec": {
      "name": "python3",
      "display_name": "Python 3"
    },
    "language_info": {
      "name": "python"
    }
  },
  "cells": [
    {
      "cell_type": "markdown",
      "source": [
        "# Data Science Tools and Ecosystem"
      ],
      "metadata": {
        "id": "HseqJTrc_A6u"
      }
    },
    {
      "cell_type": "markdown",
      "source": [
        "In this notebook, Data Science Tools and Ecosystem are summarized."
      ],
      "metadata": {
        "id": "21hxcztrAxW7"
      }
    },
    {
      "cell_type": "markdown",
      "source": [
        "Some of the popular languages that Data Scientists use are:\n",
        "\n",
        "1.   Python\n",
        "2.   Ruby\n",
        "3.   SQL\n",
        "4.   Julia\n",
        "\n"
      ],
      "metadata": {
        "id": "g89eNvd8BUKE"
      }
    },
    {
      "cell_type": "markdown",
      "source": [
        "Some of the commonly used libraries used by Data Scientists include:\n",
        "\n",
        "1.   NumPy\n",
        "2.   Pandas\n",
        "3.   Matplotlib\n",
        "4.   Scikit-learn\n",
        "5.   Seaborn\n",
        "\n"
      ],
      "metadata": {
        "id": "-xIszvrWCvEB"
      }
    },
    {
      "cell_type": "markdown",
      "source": [
        "| Data Science Tools |\n",
        "|---|\n",
        "| Apache Hadoop |\n",
        "| Apache Spark |\n",
        "| Apache Flink |"
      ],
      "metadata": {
        "id": "qQuZOtqeCvJf"
      }
    },
    {
      "cell_type": "markdown",
      "source": [
        "### Below are a few examples of evaluating arithmetic expressions in Python"
      ],
      "metadata": {
        "id": "UhcqDNOhCvL0"
      }
    },
    {
      "cell_type": "code",
      "source": [
        "# This a simple arithmetic expression to mutiply then add integers\n",
        "(3*4)+5"
      ],
      "metadata": {
        "colab": {
          "base_uri": "https://localhost:8080/"
        },
        "id": "MFJ5TpE4GrMS",
        "outputId": "25055265-f780-43f6-bf8f-910fa78b477c"
      },
      "execution_count": 2,
      "outputs": [
        {
          "output_type": "execute_result",
          "data": {
            "text/plain": [
              "17"
            ]
          },
          "metadata": {},
          "execution_count": 2
        }
      ]
    },
    {
      "cell_type": "code",
      "source": [
        "# This will convert 200 minutes to hours by diving by 60\n",
        "200 / 60"
      ],
      "metadata": {
        "colab": {
          "base_uri": "https://localhost:8080/"
        },
        "id": "xiClhFXi_Ff0",
        "outputId": "d093921c-2012-4dee-97ab-b1059376ef19"
      },
      "execution_count": 1,
      "outputs": [
        {
          "output_type": "execute_result",
          "data": {
            "text/plain": [
              "3.3333333333333335"
            ]
          },
          "metadata": {},
          "execution_count": 1
        }
      ]
    },
    {
      "cell_type": "markdown",
      "source": [
        "**Objectives:**\n",
        "\n",
        "*   List of popular languages for Data Science\n",
        "*   List of commonly used libraries used by Data Scientists\n",
        "*   List of Data Science tools\n",
        "*   Examples of evaluating arithmetic expressions in Python\n",
        "\n"
      ],
      "metadata": {
        "id": "mFJSgu7t7Vsd"
      }
    },
    {
      "cell_type": "markdown",
      "source": [
        "## Author\n",
        "Sree Lekha S"
      ],
      "metadata": {
        "id": "iHlqWSf98ESr"
      }
    }
  ]
}