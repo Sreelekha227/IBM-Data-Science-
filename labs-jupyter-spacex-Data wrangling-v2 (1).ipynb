{
 "cells": [
  {
   "cell_type": "markdown",
   "id": "610ae4ac-a846-4497-b585-840e91d603aa",
   "metadata": {},
   "source": [
    "<p style=\"text-align:center\">\n",
    "    <a href=\"https://skills.network\" target=\"_blank\">\n",
    "    <img src=\"https://cf-courses-data.s3.us.cloud-object-storage.appdomain.cloud/assets/logos/SN_web_lightmode.png\" width=\"200\" alt=\"Skills Network Logo\">\n",
    "    </a>\n",
    "</p>\n"
   ]
  },
  {
   "cell_type": "markdown",
   "id": "7bb899e0-dc6a-4fa9-9cb3-3a083502c3c3",
   "metadata": {},
   "source": [
    "# **Space X  Falcon 9 First Stage Landing Prediction**\n"
   ]
  },
  {
   "cell_type": "markdown",
   "id": "041e30a7-2b66-46cf-83e4-3244a65de068",
   "metadata": {},
   "source": [
    " ## Lab 2: Data wrangling \n"
   ]
  },
  {
   "cell_type": "markdown",
   "id": "e067aec4-2c79-4ca5-877b-4e9fd885d989",
   "metadata": {},
   "source": [
    "Estimated time needed: **60** minutes\n"
   ]
  },
  {
   "cell_type": "markdown",
   "id": "5960bcf5-903c-4a56-8881-7a1cba2b16e4",
   "metadata": {},
   "source": [
    "In this lab, we will perform some Exploratory Data Analysis (EDA) to find some patterns in the data and determine what would be the label for training supervised models. \n",
    "\n",
    "In the data set, there are several different cases where the booster did not land successfully. Sometimes a landing was attempted but failed due to an accident; for example, <code>True Ocean</code> means the mission outcome was successfully  landed to a specific region of the ocean while <code>False Ocean</code> means the mission outcome was unsuccessfully landed to a specific region of the ocean. <code>True RTLS</code> means the mission outcome was successfully  landed to a ground pad <code>False RTLS</code> means the mission outcome was unsuccessfully landed to a ground pad.<code>True ASDS</code> means the mission outcome was successfully landed on  a drone ship <code>False ASDS</code> means the mission outcome was unsuccessfully landed on a drone ship. \n",
    "\n",
    "In this lab we will mainly convert those outcomes into Training Labels with `1` means the booster successfully landed `0` means it was unsuccessful.\n"
   ]
  },
  {
   "cell_type": "markdown",
   "id": "25fd8cba-7aa5-4e97-bd9e-fafaf208d47f",
   "metadata": {},
   "source": [
    "Falcon 9 first stage will land successfully\n"
   ]
  },
  {
   "cell_type": "markdown",
   "id": "c567f975-2e7f-45be-90b7-1f72d424bd86",
   "metadata": {},
   "source": [
    "![](https://cf-courses-data.s3.us.cloud-object-storage.appdomain.cloud/IBMDeveloperSkillsNetwork-DS0701EN-SkillsNetwork/api/Images/landing_1.gif)\n"
   ]
  },
  {
   "cell_type": "markdown",
   "id": "e0a18818-7e67-4c34-97ab-8ae6f147f06c",
   "metadata": {},
   "source": [
    "Several examples of an unsuccessful landing are shown here:\n"
   ]
  },
  {
   "cell_type": "markdown",
   "id": "96958301-714a-45a4-99ee-4267f31cbdf2",
   "metadata": {},
   "source": [
    "![](https://cf-courses-data.s3.us.cloud-object-storage.appdomain.cloud/IBMDeveloperSkillsNetwork-DS0701EN-SkillsNetwork/api/Images/crash.gif)\n"
   ]
  },
  {
   "cell_type": "markdown",
   "id": "b579d666-7445-4952-959c-3e0db7b9aee7",
   "metadata": {},
   "source": [
    "   \n"
   ]
  },
  {
   "cell_type": "markdown",
   "id": "7732d06d-cc86-49ad-b70f-9fd0e17fdd5d",
   "metadata": {},
   "source": [
    "## Objectives\n",
    "Perform exploratory  Data Analysis and determine Training Labels \n",
    "\n",
    "- Exploratory Data Analysis\n",
    "- Determine Training Labels \n"
   ]
  },
  {
   "cell_type": "markdown",
   "id": "4ae349de-fe5b-4444-b6fb-ab2ed314f829",
   "metadata": {},
   "source": [
    "----\n"
   ]
  },
  {
   "cell_type": "markdown",
   "id": "6f81f4dd-d31f-4fd7-9053-5e095d1cfce4",
   "metadata": {},
   "source": [
    "Install the below libraries\n"
   ]
  },
  {
   "cell_type": "code",
   "execution_count": 7,
   "id": "b042c328-961d-4e5d-8722-c845878dc094",
   "metadata": {},
   "outputs": [
    {
     "name": "stdout",
     "output_type": "stream",
     "text": [
      "Defaulting to user installation because normal site-packages is not writeable\n",
      "Requirement already satisfied: pandas in c:\\users\\sreel\\appdata\\roaming\\python\\python312\\site-packages (2.2.2)\n",
      "Requirement already satisfied: numpy>=1.26.0 in c:\\program files\\python312\\lib\\site-packages (from pandas) (1.26.4)\n",
      "Requirement already satisfied: python-dateutil>=2.8.2 in c:\\users\\sreel\\appdata\\roaming\\python\\python312\\site-packages (from pandas) (2.9.0.post0)\n",
      "Requirement already satisfied: pytz>=2020.1 in c:\\users\\sreel\\appdata\\roaming\\python\\python312\\site-packages (from pandas) (2024.1)\n",
      "Requirement already satisfied: tzdata>=2022.7 in c:\\users\\sreel\\appdata\\roaming\\python\\python312\\site-packages (from pandas) (2023.3)\n",
      "Requirement already satisfied: six>=1.5 in c:\\users\\sreel\\appdata\\roaming\\python\\python312\\site-packages (from python-dateutil>=2.8.2->pandas) (1.16.0)\n"
     ]
    },
    {
     "name": "stderr",
     "output_type": "stream",
     "text": [
      "\n",
      "[notice] A new release of pip is available: 24.2 -> 25.1.1\n",
      "[notice] To update, run: python.exe -m pip install --upgrade pip\n"
     ]
    },
    {
     "name": "stdout",
     "output_type": "stream",
     "text": [
      "Defaulting to user installation because normal site-packages is not writeable\n",
      "Requirement already satisfied: numpy in c:\\program files\\python312\\lib\\site-packages (1.26.4)\n"
     ]
    },
    {
     "name": "stderr",
     "output_type": "stream",
     "text": [
      "\n",
      "[notice] A new release of pip is available: 24.2 -> 25.1.1\n",
      "[notice] To update, run: python.exe -m pip install --upgrade pip\n"
     ]
    }
   ],
   "source": [
    "!pip install pandas\n",
    "!pip install numpy"
   ]
  },
  {
   "cell_type": "markdown",
   "id": "f49faf40-2874-439b-a10d-9edcceb8fc95",
   "metadata": {},
   "source": [
    "## Import Libraries and Define Auxiliary Functions\n"
   ]
  },
  {
   "cell_type": "markdown",
   "id": "67ad5a91-ef45-4fb9-9326-29df99c0ba4e",
   "metadata": {},
   "source": [
    "We will import the following libraries.\n"
   ]
  },
  {
   "cell_type": "code",
   "execution_count": 8,
   "id": "22a3dafd-61af-4d04-a88c-a28b5b46fec5",
   "metadata": {},
   "outputs": [],
   "source": [
    "# Pandas is a software library written for the Python programming language for data manipulation and analysis.\n",
    "import pandas as pd\n",
    "#NumPy is a library for the Python programming language, adding support for large, multi-dimensional arrays and matrices, along with a large collection of high-level mathematical functions to operate on these arrays\n",
    "import numpy as np"
   ]
  },
  {
   "cell_type": "markdown",
   "id": "fe44bbc0-411d-4b9b-8fd9-28c9bf060cb4",
   "metadata": {},
   "source": [
    "### Data Analysis \n"
   ]
  },
  {
   "cell_type": "markdown",
   "id": "a50cb440-1feb-4188-9de0-dd5b63bb777e",
   "metadata": {},
   "source": [
    "Load Space X dataset, from last section.\n"
   ]
  },
  {
   "cell_type": "code",
   "execution_count": 9,
   "id": "3a1046e9-97cd-443f-a7e6-c643c9b5ab7a",
   "metadata": {},
   "outputs": [
    {
     "data": {
      "text/html": [
       "<div>\n",
       "<style scoped>\n",
       "    .dataframe tbody tr th:only-of-type {\n",
       "        vertical-align: middle;\n",
       "    }\n",
       "\n",
       "    .dataframe tbody tr th {\n",
       "        vertical-align: top;\n",
       "    }\n",
       "\n",
       "    .dataframe thead th {\n",
       "        text-align: right;\n",
       "    }\n",
       "</style>\n",
       "<table border=\"1\" class=\"dataframe\">\n",
       "  <thead>\n",
       "    <tr style=\"text-align: right;\">\n",
       "      <th></th>\n",
       "      <th>FlightNumber</th>\n",
       "      <th>Date</th>\n",
       "      <th>BoosterVersion</th>\n",
       "      <th>PayloadMass</th>\n",
       "      <th>Orbit</th>\n",
       "      <th>LaunchSite</th>\n",
       "      <th>Outcome</th>\n",
       "      <th>Flights</th>\n",
       "      <th>GridFins</th>\n",
       "      <th>Reused</th>\n",
       "      <th>Legs</th>\n",
       "      <th>LandingPad</th>\n",
       "      <th>Block</th>\n",
       "      <th>ReusedCount</th>\n",
       "      <th>Serial</th>\n",
       "      <th>Longitude</th>\n",
       "      <th>Latitude</th>\n",
       "    </tr>\n",
       "  </thead>\n",
       "  <tbody>\n",
       "    <tr>\n",
       "      <th>0</th>\n",
       "      <td>1</td>\n",
       "      <td>2010-06-04</td>\n",
       "      <td>Falcon 9</td>\n",
       "      <td>6104.959412</td>\n",
       "      <td>LEO</td>\n",
       "      <td>CCAFS SLC 40</td>\n",
       "      <td>None None</td>\n",
       "      <td>1</td>\n",
       "      <td>False</td>\n",
       "      <td>False</td>\n",
       "      <td>False</td>\n",
       "      <td>NaN</td>\n",
       "      <td>1.0</td>\n",
       "      <td>0</td>\n",
       "      <td>B0003</td>\n",
       "      <td>-80.577366</td>\n",
       "      <td>28.561857</td>\n",
       "    </tr>\n",
       "    <tr>\n",
       "      <th>1</th>\n",
       "      <td>2</td>\n",
       "      <td>2012-05-22</td>\n",
       "      <td>Falcon 9</td>\n",
       "      <td>525.000000</td>\n",
       "      <td>LEO</td>\n",
       "      <td>CCAFS SLC 40</td>\n",
       "      <td>None None</td>\n",
       "      <td>1</td>\n",
       "      <td>False</td>\n",
       "      <td>False</td>\n",
       "      <td>False</td>\n",
       "      <td>NaN</td>\n",
       "      <td>1.0</td>\n",
       "      <td>0</td>\n",
       "      <td>B0005</td>\n",
       "      <td>-80.577366</td>\n",
       "      <td>28.561857</td>\n",
       "    </tr>\n",
       "    <tr>\n",
       "      <th>2</th>\n",
       "      <td>3</td>\n",
       "      <td>2013-03-01</td>\n",
       "      <td>Falcon 9</td>\n",
       "      <td>677.000000</td>\n",
       "      <td>ISS</td>\n",
       "      <td>CCAFS SLC 40</td>\n",
       "      <td>None None</td>\n",
       "      <td>1</td>\n",
       "      <td>False</td>\n",
       "      <td>False</td>\n",
       "      <td>False</td>\n",
       "      <td>NaN</td>\n",
       "      <td>1.0</td>\n",
       "      <td>0</td>\n",
       "      <td>B0007</td>\n",
       "      <td>-80.577366</td>\n",
       "      <td>28.561857</td>\n",
       "    </tr>\n",
       "    <tr>\n",
       "      <th>3</th>\n",
       "      <td>4</td>\n",
       "      <td>2013-09-29</td>\n",
       "      <td>Falcon 9</td>\n",
       "      <td>500.000000</td>\n",
       "      <td>PO</td>\n",
       "      <td>VAFB SLC 4E</td>\n",
       "      <td>False Ocean</td>\n",
       "      <td>1</td>\n",
       "      <td>False</td>\n",
       "      <td>False</td>\n",
       "      <td>False</td>\n",
       "      <td>NaN</td>\n",
       "      <td>1.0</td>\n",
       "      <td>0</td>\n",
       "      <td>B1003</td>\n",
       "      <td>-120.610829</td>\n",
       "      <td>34.632093</td>\n",
       "    </tr>\n",
       "    <tr>\n",
       "      <th>4</th>\n",
       "      <td>5</td>\n",
       "      <td>2013-12-03</td>\n",
       "      <td>Falcon 9</td>\n",
       "      <td>3170.000000</td>\n",
       "      <td>GTO</td>\n",
       "      <td>CCAFS SLC 40</td>\n",
       "      <td>None None</td>\n",
       "      <td>1</td>\n",
       "      <td>False</td>\n",
       "      <td>False</td>\n",
       "      <td>False</td>\n",
       "      <td>NaN</td>\n",
       "      <td>1.0</td>\n",
       "      <td>0</td>\n",
       "      <td>B1004</td>\n",
       "      <td>-80.577366</td>\n",
       "      <td>28.561857</td>\n",
       "    </tr>\n",
       "    <tr>\n",
       "      <th>5</th>\n",
       "      <td>6</td>\n",
       "      <td>2014-01-06</td>\n",
       "      <td>Falcon 9</td>\n",
       "      <td>3325.000000</td>\n",
       "      <td>GTO</td>\n",
       "      <td>CCAFS SLC 40</td>\n",
       "      <td>None None</td>\n",
       "      <td>1</td>\n",
       "      <td>False</td>\n",
       "      <td>False</td>\n",
       "      <td>False</td>\n",
       "      <td>NaN</td>\n",
       "      <td>1.0</td>\n",
       "      <td>0</td>\n",
       "      <td>B1005</td>\n",
       "      <td>-80.577366</td>\n",
       "      <td>28.561857</td>\n",
       "    </tr>\n",
       "    <tr>\n",
       "      <th>6</th>\n",
       "      <td>7</td>\n",
       "      <td>2014-04-18</td>\n",
       "      <td>Falcon 9</td>\n",
       "      <td>2296.000000</td>\n",
       "      <td>ISS</td>\n",
       "      <td>CCAFS SLC 40</td>\n",
       "      <td>True Ocean</td>\n",
       "      <td>1</td>\n",
       "      <td>False</td>\n",
       "      <td>False</td>\n",
       "      <td>True</td>\n",
       "      <td>NaN</td>\n",
       "      <td>1.0</td>\n",
       "      <td>0</td>\n",
       "      <td>B1006</td>\n",
       "      <td>-80.577366</td>\n",
       "      <td>28.561857</td>\n",
       "    </tr>\n",
       "    <tr>\n",
       "      <th>7</th>\n",
       "      <td>8</td>\n",
       "      <td>2014-07-14</td>\n",
       "      <td>Falcon 9</td>\n",
       "      <td>1316.000000</td>\n",
       "      <td>LEO</td>\n",
       "      <td>CCAFS SLC 40</td>\n",
       "      <td>True Ocean</td>\n",
       "      <td>1</td>\n",
       "      <td>False</td>\n",
       "      <td>False</td>\n",
       "      <td>True</td>\n",
       "      <td>NaN</td>\n",
       "      <td>1.0</td>\n",
       "      <td>0</td>\n",
       "      <td>B1007</td>\n",
       "      <td>-80.577366</td>\n",
       "      <td>28.561857</td>\n",
       "    </tr>\n",
       "    <tr>\n",
       "      <th>8</th>\n",
       "      <td>9</td>\n",
       "      <td>2014-08-05</td>\n",
       "      <td>Falcon 9</td>\n",
       "      <td>4535.000000</td>\n",
       "      <td>GTO</td>\n",
       "      <td>CCAFS SLC 40</td>\n",
       "      <td>None None</td>\n",
       "      <td>1</td>\n",
       "      <td>False</td>\n",
       "      <td>False</td>\n",
       "      <td>False</td>\n",
       "      <td>NaN</td>\n",
       "      <td>1.0</td>\n",
       "      <td>0</td>\n",
       "      <td>B1008</td>\n",
       "      <td>-80.577366</td>\n",
       "      <td>28.561857</td>\n",
       "    </tr>\n",
       "    <tr>\n",
       "      <th>9</th>\n",
       "      <td>10</td>\n",
       "      <td>2014-09-07</td>\n",
       "      <td>Falcon 9</td>\n",
       "      <td>4428.000000</td>\n",
       "      <td>GTO</td>\n",
       "      <td>CCAFS SLC 40</td>\n",
       "      <td>None None</td>\n",
       "      <td>1</td>\n",
       "      <td>False</td>\n",
       "      <td>False</td>\n",
       "      <td>False</td>\n",
       "      <td>NaN</td>\n",
       "      <td>1.0</td>\n",
       "      <td>0</td>\n",
       "      <td>B1011</td>\n",
       "      <td>-80.577366</td>\n",
       "      <td>28.561857</td>\n",
       "    </tr>\n",
       "  </tbody>\n",
       "</table>\n",
       "</div>"
      ],
      "text/plain": [
       "   FlightNumber        Date BoosterVersion  PayloadMass Orbit    LaunchSite  \\\n",
       "0             1  2010-06-04       Falcon 9  6104.959412   LEO  CCAFS SLC 40   \n",
       "1             2  2012-05-22       Falcon 9   525.000000   LEO  CCAFS SLC 40   \n",
       "2             3  2013-03-01       Falcon 9   677.000000   ISS  CCAFS SLC 40   \n",
       "3             4  2013-09-29       Falcon 9   500.000000    PO   VAFB SLC 4E   \n",
       "4             5  2013-12-03       Falcon 9  3170.000000   GTO  CCAFS SLC 40   \n",
       "5             6  2014-01-06       Falcon 9  3325.000000   GTO  CCAFS SLC 40   \n",
       "6             7  2014-04-18       Falcon 9  2296.000000   ISS  CCAFS SLC 40   \n",
       "7             8  2014-07-14       Falcon 9  1316.000000   LEO  CCAFS SLC 40   \n",
       "8             9  2014-08-05       Falcon 9  4535.000000   GTO  CCAFS SLC 40   \n",
       "9            10  2014-09-07       Falcon 9  4428.000000   GTO  CCAFS SLC 40   \n",
       "\n",
       "       Outcome  Flights  GridFins  Reused   Legs LandingPad  Block  \\\n",
       "0    None None        1     False   False  False        NaN    1.0   \n",
       "1    None None        1     False   False  False        NaN    1.0   \n",
       "2    None None        1     False   False  False        NaN    1.0   \n",
       "3  False Ocean        1     False   False  False        NaN    1.0   \n",
       "4    None None        1     False   False  False        NaN    1.0   \n",
       "5    None None        1     False   False  False        NaN    1.0   \n",
       "6   True Ocean        1     False   False   True        NaN    1.0   \n",
       "7   True Ocean        1     False   False   True        NaN    1.0   \n",
       "8    None None        1     False   False  False        NaN    1.0   \n",
       "9    None None        1     False   False  False        NaN    1.0   \n",
       "\n",
       "   ReusedCount Serial   Longitude   Latitude  \n",
       "0            0  B0003  -80.577366  28.561857  \n",
       "1            0  B0005  -80.577366  28.561857  \n",
       "2            0  B0007  -80.577366  28.561857  \n",
       "3            0  B1003 -120.610829  34.632093  \n",
       "4            0  B1004  -80.577366  28.561857  \n",
       "5            0  B1005  -80.577366  28.561857  \n",
       "6            0  B1006  -80.577366  28.561857  \n",
       "7            0  B1007  -80.577366  28.561857  \n",
       "8            0  B1008  -80.577366  28.561857  \n",
       "9            0  B1011  -80.577366  28.561857  "
      ]
     },
     "execution_count": 9,
     "metadata": {},
     "output_type": "execute_result"
    }
   ],
   "source": [
    "df=pd.read_csv(\"https://cf-courses-data.s3.us.cloud-object-storage.appdomain.cloud/IBM-DS0321EN-SkillsNetwork/datasets/dataset_part_1.csv\")\n",
    "df.head(10)"
   ]
  },
  {
   "cell_type": "markdown",
   "id": "68f04865-9ca5-4c42-8fce-b28514453116",
   "metadata": {},
   "source": [
    "Identify and calculate the percentage of the missing values in each attribute\n"
   ]
  },
  {
   "cell_type": "code",
   "execution_count": 10,
   "id": "eab50dac-fb37-4579-a29f-c3309153d63a",
   "metadata": {},
   "outputs": [
    {
     "data": {
      "text/plain": [
       "FlightNumber       0.000000\n",
       "Date               0.000000\n",
       "BoosterVersion     0.000000\n",
       "PayloadMass        0.000000\n",
       "Orbit              0.000000\n",
       "LaunchSite         0.000000\n",
       "Outcome            0.000000\n",
       "Flights            0.000000\n",
       "GridFins           0.000000\n",
       "Reused             0.000000\n",
       "Legs               0.000000\n",
       "LandingPad        28.888889\n",
       "Block              0.000000\n",
       "ReusedCount        0.000000\n",
       "Serial             0.000000\n",
       "Longitude          0.000000\n",
       "Latitude           0.000000\n",
       "dtype: float64"
      ]
     },
     "execution_count": 10,
     "metadata": {},
     "output_type": "execute_result"
    }
   ],
   "source": [
    "df.isnull().sum()/len(df)*100"
   ]
  },
  {
   "cell_type": "markdown",
   "id": "f5e4bdfd-60f4-4993-8857-4a36f3baf54a",
   "metadata": {},
   "source": [
    "Identify which columns are numerical and categorical:\n"
   ]
  },
  {
   "cell_type": "code",
   "execution_count": 11,
   "id": "a5c47eeb-1d5b-498c-a264-f4ac556b5d74",
   "metadata": {},
   "outputs": [
    {
     "data": {
      "text/plain": [
       "FlightNumber        int64\n",
       "Date               object\n",
       "BoosterVersion     object\n",
       "PayloadMass       float64\n",
       "Orbit              object\n",
       "LaunchSite         object\n",
       "Outcome            object\n",
       "Flights             int64\n",
       "GridFins             bool\n",
       "Reused               bool\n",
       "Legs                 bool\n",
       "LandingPad         object\n",
       "Block             float64\n",
       "ReusedCount         int64\n",
       "Serial             object\n",
       "Longitude         float64\n",
       "Latitude          float64\n",
       "dtype: object"
      ]
     },
     "execution_count": 11,
     "metadata": {},
     "output_type": "execute_result"
    }
   ],
   "source": [
    "df.dtypes"
   ]
  },
  {
   "cell_type": "markdown",
   "id": "2e7b730e-b472-4a8d-b1ab-808548eb1f47",
   "metadata": {},
   "source": [
    "### TASK 1: Calculate the number of launches on each site\n",
    "\n",
    "The data contains several Space X  launch facilities: <a href='https://en.wikipedia.org/wiki/List_of_Cape_Canaveral_and_Merritt_Island_launch_sites'>Cape Canaveral Space</a> Launch Complex 40  <b>VAFB SLC 4E </b> , Vandenberg Air Force Base Space Launch Complex 4E <b>(SLC-4E)</b>, Kennedy Space Center Launch Complex 39A <b>KSC LC 39A </b>.The location of each Launch Is placed in the column <code>LaunchSite</code>\n"
   ]
  },
  {
   "cell_type": "markdown",
   "id": "9659cbbc-6c76-4bb0-a8af-ff1f9cf7c6e6",
   "metadata": {},
   "source": [
    "Next, let's see the number of launches for each site.\n",
    "\n",
    "Use the method  <code>value_counts()</code> on the column <code>LaunchSite</code> to determine the number of launches  on each site: \n"
   ]
  },
  {
   "cell_type": "code",
   "execution_count": 12,
   "id": "9a726390-54f2-425e-98fd-2fbdd3326772",
   "metadata": {},
   "outputs": [
    {
     "data": {
      "text/plain": [
       "LaunchSite\n",
       "CCAFS SLC 40    55\n",
       "KSC LC 39A      22\n",
       "VAFB SLC 4E     13\n",
       "Name: count, dtype: int64"
      ]
     },
     "execution_count": 12,
     "metadata": {},
     "output_type": "execute_result"
    }
   ],
   "source": [
    "# Apply value_counts() on column LaunchSite\n",
    "df['LaunchSite'].value_counts()\n",
    "\n"
   ]
  },
  {
   "cell_type": "markdown",
   "id": "812a612b-46e3-4014-88ee-6f793507ec89",
   "metadata": {},
   "source": [
    "Each launch aims to an dedicated orbit, and here are some common orbit types:\n"
   ]
  },
  {
   "cell_type": "markdown",
   "id": "0edb4aa3-babb-4305-9c6c-a1d022e38c55",
   "metadata": {},
   "source": [
    "\n",
    "\n",
    "* <b>LEO</b>: Low Earth orbit (LEO)is an Earth-centred orbit with an altitude of 2,000 km (1,200 mi) or less (approximately one-third of the radius of Earth),[1] or with at least 11.25 periods per day (an orbital period of 128 minutes or less) and an eccentricity less than 0.25.[2] Most of the manmade objects in outer space are in LEO <a href='https://en.wikipedia.org/wiki/Low_Earth_orbit'>[1]</a>.\n",
    "\n",
    "* <b>VLEO</b>: Very Low Earth Orbits (VLEO) can be defined as the orbits with a mean altitude below 450 km. Operating in these orbits can provide a number of benefits to Earth observation spacecraft as the spacecraft operates closer to the observation<a href='https://www.researchgate.net/publication/271499606_Very_Low_Earth_Orbit_mission_concepts_for_Earth_Observation_Benefits_and_challenges'>[2]</a>.\n",
    "\n",
    "\n",
    "* <b>GTO</b> A geosynchronous orbit is a high Earth orbit that allows satellites to match Earth's rotation. Located at 22,236 miles (35,786 kilometers) above Earth's equator, this position is a valuable spot for monitoring weather, communications and surveillance. Because the satellite orbits at the same speed that the Earth is turning, the satellite seems to stay in place over a single longitude, though it may drift north to south,” NASA wrote on its Earth Observatory website <a  href=\"https://www.space.com/29222-geosynchronous-orbit.html\" >[3] </a>.\n",
    "\n",
    "\n",
    "* <b>SSO (or SO)</b>: It is a Sun-synchronous orbit  also called a heliosynchronous orbit is a nearly polar orbit around a planet, in which the satellite passes over any given point of the planet's surface at the same local mean solar time <a href=\"https://en.wikipedia.org/wiki/Sun-synchronous_orbit\">[4] <a>.\n",
    "    \n",
    "    \n",
    "    \n",
    "* <b>ES-L1 </b>:At the Lagrange points the gravitational forces of the two large bodies cancel out in such a way that a small object placed in orbit there is in equilibrium relative to the center of mass of the large bodies. L1 is one such point between the sun and the earth <a href=\"https://en.wikipedia.org/wiki/Lagrange_point#L1_point\">[5]</a> .\n",
    "    \n",
    "    \n",
    "* <b>HEO</b> A highly elliptical orbit, is an elliptic orbit with high eccentricity, usually referring to one around Earth <a href=\"https://en.wikipedia.org/wiki/Highly_elliptical_orbit\">[6]</a>.\n",
    "\n",
    "\n",
    "* <b> ISS </b> A modular space station (habitable artificial satellite) in low Earth orbit. It is a multinational collaborative project between five participating space agencies: NASA (United States), Roscosmos (Russia), JAXA (Japan), ESA (Europe), and CSA (Canada)<a href=\"https://en.wikipedia.org/wiki/International_Space_Station\"> [7] </a>\n",
    "\n",
    "\n",
    "* <b> MEO </b> Geocentric orbits ranging in altitude from 2,000 km (1,200 mi) to just below geosynchronous orbit at 35,786 kilometers (22,236 mi). Also known as an intermediate circular orbit. These are \"most commonly at 20,200 kilometers (12,600 mi), or 20,650 kilometers (12,830 mi), with an orbital period of 12 hours <a href=\"https://en.wikipedia.org/wiki/List_of_orbits\"> [8] </a>\n",
    "\n",
    "\n",
    "* <b> HEO </b> Geocentric orbits above the altitude of geosynchronous orbit (35,786 km or 22,236 mi) <a href=\"https://en.wikipedia.org/wiki/List_of_orbits\"> [9] </a>\n",
    "\n",
    "\n",
    "* <b> GEO </b> It is a circular geosynchronous orbit 35,786 kilometres (22,236 miles) above Earth's equator and following the direction of Earth's rotation <a href=\"https://en.wikipedia.org/wiki/Geostationary_orbit\"> [10] </a>\n",
    "\n",
    "\n",
    "* <b> PO </b> It is one type of satellites in which a satellite passes above or nearly above both poles of the body being orbited (usually a planet such as the Earth <a href=\"https://en.wikipedia.org/wiki/Polar_orbit\"> [11] </a>\n",
    "\n",
    "some are shown in the following plot:\n"
   ]
  },
  {
   "cell_type": "markdown",
   "id": "644d8905-e290-4efc-8207-a4f746f8a55e",
   "metadata": {},
   "source": [
    "![](https://cf-courses-data.s3.us.cloud-object-storage.appdomain.cloud/IBMDeveloperSkillsNetwork-DS0701EN-SkillsNetwork/api/Images/Orbits.png)\n"
   ]
  },
  {
   "cell_type": "markdown",
   "id": "56b804d6-039b-49bf-80b5-9022ba72add5",
   "metadata": {},
   "source": [
    "### TASK 2: Calculate the number and occurrence of each orbit\n"
   ]
  },
  {
   "cell_type": "markdown",
   "id": "ffbf8422-33df-49b5-bebb-8060fdd50ae4",
   "metadata": {},
   "source": [
    " Use the method  <code>.value_counts()</code> to determine the number and occurrence of each orbit in the  column <code>Orbit</code>\n"
   ]
  },
  {
   "cell_type": "code",
   "execution_count": 13,
   "id": "2aaa5d7b-def6-4756-983d-ecb9aac1a5eb",
   "metadata": {},
   "outputs": [
    {
     "data": {
      "text/plain": [
       "Orbit\n",
       "GTO      27\n",
       "ISS      21\n",
       "VLEO     14\n",
       "PO        9\n",
       "LEO       7\n",
       "SSO       5\n",
       "MEO       3\n",
       "ES-L1     1\n",
       "HEO       1\n",
       "SO        1\n",
       "GEO       1\n",
       "Name: count, dtype: int64"
      ]
     },
     "execution_count": 13,
     "metadata": {},
     "output_type": "execute_result"
    }
   ],
   "source": [
    "# Apply value_counts on Orbit column\n",
    "df['Orbit'].value_counts()\n"
   ]
  },
  {
   "cell_type": "markdown",
   "id": "5c88f794-47d0-402e-9207-6afcacba825f",
   "metadata": {},
   "source": [
    "### TASK 3: Calculate the number and occurence of mission outcome of the orbits\n"
   ]
  },
  {
   "cell_type": "markdown",
   "id": "87cd458b-eb47-4eb8-bd0d-30a7047c94c6",
   "metadata": {},
   "source": [
    "Use the method <code>.value_counts()</code> on the column <code>Outcome</code> to determine the number of <code>landing_outcomes</code>.Then assign it to a variable landing_outcomes.\n"
   ]
  },
  {
   "cell_type": "code",
   "execution_count": 14,
   "id": "5de96f31-7282-441f-844c-9c2610d74921",
   "metadata": {},
   "outputs": [
    {
     "name": "stdout",
     "output_type": "stream",
     "text": [
      "Outcome\n",
      "True ASDS      41\n",
      "None None      19\n",
      "True RTLS      14\n",
      "False ASDS      6\n",
      "True Ocean      5\n",
      "False Ocean     2\n",
      "None ASDS       2\n",
      "False RTLS      1\n",
      "Name: count, dtype: int64\n"
     ]
    }
   ],
   "source": [
    "# landing_outcomes = values on Outcome column\n",
    "landing_outcomes = df['Outcome'].value_counts()\n",
    "print(landing_outcomes)\n"
   ]
  },
  {
   "cell_type": "markdown",
   "id": "78b7aa68-6607-4ca8-b15a-9b6c5d3e76fb",
   "metadata": {},
   "source": [
    "<code>True Ocean</code> means the mission outcome was successfully  landed to a specific region of the ocean while <code>False Ocean</code> means the mission outcome was unsuccessfully landed to a specific region of the ocean. <code>True RTLS</code> means the mission outcome was successfully  landed to a ground pad <code>False RTLS</code> means the mission outcome was unsuccessfully landed to a ground pad.<code>True ASDS</code> means the mission outcome was successfully  landed to a drone ship <code>False ASDS</code> means the mission outcome was unsuccessfully landed to a drone ship. <code>None ASDS</code> and <code>None None</code> these represent a failure to land.\n"
   ]
  },
  {
   "cell_type": "code",
   "execution_count": 15,
   "id": "6c1acbff-f2b4-41a8-af3f-e28b3abb9a76",
   "metadata": {},
   "outputs": [
    {
     "name": "stdout",
     "output_type": "stream",
     "text": [
      "0 True ASDS\n",
      "1 None None\n",
      "2 True RTLS\n",
      "3 False ASDS\n",
      "4 True Ocean\n",
      "5 False Ocean\n",
      "6 None ASDS\n",
      "7 False RTLS\n"
     ]
    }
   ],
   "source": [
    "for i,outcome in enumerate(landing_outcomes.keys()):\n",
    "    print(i,outcome)"
   ]
  },
  {
   "cell_type": "markdown",
   "id": "72ee746f-3fa7-4eaa-bc4f-3448939b6192",
   "metadata": {},
   "source": [
    "We create a set of outcomes where the second stage did not land successfully:\n"
   ]
  },
  {
   "cell_type": "code",
   "execution_count": 16,
   "id": "afea7e75-2ef5-4c5f-803e-3af6dba9c36e",
   "metadata": {},
   "outputs": [
    {
     "data": {
      "text/plain": [
       "{'False ASDS', 'False Ocean', 'False RTLS', 'None ASDS', 'None None'}"
      ]
     },
     "execution_count": 16,
     "metadata": {},
     "output_type": "execute_result"
    }
   ],
   "source": [
    "bad_outcomes=set(landing_outcomes.keys()[[1,3,5,6,7]])\n",
    "bad_outcomes"
   ]
  },
  {
   "cell_type": "code",
   "execution_count": 17,
   "metadata": {},
   "outputs": [
    {
     "data": {
      "image/png": "[encoded data removed]",
      "text/plain": [
       "<Figure size 600x400 with 1 Axes>"
      ]
     },
     "metadata": {},
     "output_type": "display_data"
    }
   ],
   "source": [
    "import matplotlib.pyplot as plt\n",
    "plt.figure(figsize=(6,4))\n",
    "df['LaunchSite'].value_counts().plot(kind='bar', color='steelblue')\n",
    "plt.title('Launches per Site')\n",
    "plt.ylabel('Count'); plt.xlabel('Launch Site')\n",
    "plt.tight_layout()\n"
   ]
  },
  {
   "cell_type": "code",
   "execution_count": 25,
   "metadata": {},
   "outputs": [
    {
     "data": {
      "image/png": "[encoded data removed]",
      "text/plain": [
       "<Figure size 640x480 with 1 Axes>"
      ]
     },
     "metadata": {},
     "output_type": "display_data"
    },
    {
     "name": "stdout",
     "output_type": "stream",
     "text": [
      "Index(['FlightNumber', 'Date', 'BoosterVersion', 'PayloadMass', 'Orbit',\n",
      "       'LaunchSite', 'Outcome', 'Flights', 'GridFins', 'Reused', 'Legs',\n",
      "       'LandingPad', 'Block', 'ReusedCount', 'Serial', 'Longitude', 'Latitude',\n",
      "       'Class'],\n",
      "      dtype='object')\n"
     ]
    }
   ],
   "source": [
    "# Example: Payload Mass vs. Launch Outcome\n",
    "sns.regplot(x='PayloadMass', y='Class', data=df)\n",
    "plt.title('Payload Mass vs Launch Success'); plt.show()\n",
    "\n",
    "# If your columns are named differently:\n",
    "print(df.columns)  # and update the plot accordingly\n"
   ]
  },
  {
   "cell_type": "code",
   "execution_count": 38,
   "metadata": {},
   "outputs": [
    {
     "name": "stdout",
     "output_type": "stream",
     "text": [
      "['FlightNumber', 'Date', 'BoosterVersion', 'PayloadMass', 'Orbit', 'LaunchSite', 'Outcome', 'Flights', 'GridFins', 'Reused', 'Legs', 'LandingPad', 'Block', 'ReusedCount', 'Serial', 'Longitude', 'Latitude', 'Class']\n"
     ]
    }
   ],
   "source": [
    "print(df.columns.tolist())\n"
   ]
  },
  {
   "cell_type": "code",
   "execution_count": 39,
   "metadata": {},
   "outputs": [
    {
     "data": {
      "image/png": "[encoded data removed]",
      "text/plain": [
       "<Figure size 800x600 with 1 Axes>"
      ]
     },
     "metadata": {},
     "output_type": "display_data"
    }
   ],
   "source": [
    "import seaborn as sns\n",
    "import matplotlib.pyplot as plt\n",
    "\n",
    "# Boxplot of PayloadMass vs Class (to see if successful landings have outliers)\n",
    "plt.figure(figsize=(8, 6))\n",
    "sns.boxplot(x='Class', y='PayloadMass', data=df)\n",
    "plt.title('Boxplot of Payload Mass by Landing Success (Class)')\n",
    "plt.xlabel('Landing Success (Class)')\n",
    "plt.ylabel('Payload Mass (kg)')\n",
    "plt.grid(True)\n",
    "plt.show()\n"
   ]
  },
  {
   "cell_type": "code",
   "execution_count": 40,
   "metadata": {},
   "outputs": [
    {
     "data": {
      "image/png": "[encoded data removed]",
      "text/plain": [
       "<Figure size 800x600 with 1 Axes>"
      ]
     },
     "metadata": {},
     "output_type": "display_data"
    }
   ],
   "source": [
    "plt.figure(figsize=(8, 6))\n",
    "sns.regplot(x='FlightNumber', y='PayloadMass', data=df, line_kws={\"color\":\"red\"})\n",
    "plt.title('Regplot: Payload Mass vs Flight Number')\n",
    "plt.xlabel('Flight Number')\n",
    "plt.ylabel('Payload Mass (kg)')\n",
    "plt.grid(True)\n",
    "plt.show()\n"
   ]
  },
  {
   "cell_type": "code",
   "execution_count": 27,
   "metadata": {},
   "outputs": [
    {
     "name": "stdout",
     "output_type": "stream",
     "text": [
      "Defaulting to user installation because normal site-packages is not writeable\n",
      "Collecting folium\n",
      "  Downloading folium-0.20.0-py2.py3-none-any.whl.metadata (4.2 kB)\n",
      "Collecting branca>=0.6.0 (from folium)\n",
      "  Downloading branca-0.8.1-py3-none-any.whl.metadata (1.5 kB)\n",
      "Requirement already satisfied: jinja2>=2.9 in c:\\users\\sreel\\appdata\\roaming\\python\\python312\\site-packages (from folium) (3.1.4)\n",
      "Requirement already satisfied: numpy in c:\\program files\\python312\\lib\\site-packages (from folium) (1.26.4)\n",
      "Requirement already satisfied: requests in c:\\program files\\python312\\lib\\site-packages (from folium) (2.32.3)\n",
      "Collecting xyzservices (from folium)\n",
      "  Downloading xyzservices-2025.4.0-py3-none-any.whl.metadata (4.3 kB)\n",
      "Requirement already satisfied: MarkupSafe>=2.0 in c:\\users\\sreel\\appdata\\roaming\\python\\python312\\site-packages (from jinja2>=2.9->folium) (2.1.5)\n",
      "Requirement already satisfied: charset-normalizer<4,>=2 in c:\\program files\\python312\\lib\\site-packages (from requests->folium) (3.3.2)\n",
      "Requirement already satisfied: idna<4,>=2.5 in c:\\program files\\python312\\lib\\site-packages (from requests->folium) (3.7)\n",
      "Requirement already satisfied: urllib3<3,>=1.21.1 in c:\\users\\sreel\\appdata\\roaming\\python\\python312\\site-packages (from requests->folium) (1.26.16)\n",
      "Requirement already satisfied: certifi>=2017.4.17 in c:\\program files\\python312\\lib\\site-packages (from requests->folium) (2024.7.4)\n",
      "Downloading folium-0.20.0-py2.py3-none-any.whl (113 kB)\n",
      "Downloading branca-0.8.1-py3-none-any.whl (26 kB)\n",
      "Downloading xyzservices-2025.4.0-py3-none-any.whl (90 kB)\n",
      "Installing collected packages: xyzservices, branca, folium\n",
      "Successfully installed branca-0.8.1 folium-0.20.0 xyzservices-2025.4.0\n"
     ]
    },
    {
     "name": "stderr",
     "output_type": "stream",
     "text": [
      "\n",
      "[notice] A new release of pip is available: 24.2 -> 25.1.1\n",
      "[notice] To update, run: python.exe -m pip install --upgrade pip\n"
     ]
    }
   ],
   "source": [
    "!pip install folium\n"
   ]
  },
  {
   "cell_type": "code",
   "execution_count": 33,
   "metadata": {},
   "outputs": [
    {
     "name": "stdout",
     "output_type": "stream",
     "text": [
      "Defaulting to user installation because normal site-packages is not writeable\n",
      "Collecting plotly\n",
      "  Downloading plotly-6.2.0-py3-none-any.whl.metadata (8.5 kB)\n",
      "Collecting narwhals>=1.15.1 (from plotly)\n",
      "  Downloading narwhals-1.47.0-py3-none-any.whl.metadata (11 kB)\n",
      "Requirement already satisfied: packaging in c:\\users\\sreel\\appdata\\roaming\\python\\python312\\site-packages (from plotly) (24.1)\n",
      "Downloading plotly-6.2.0-py3-none-any.whl (9.6 MB)\n",
      "   ---------------------------------------- 0.0/9.6 MB ? eta -:--:--\n",
      "   - -------------------------------------- 0.3/9.6 MB ? eta -:--:--\n",
      "   ---- ----------------------------------- 1.0/9.6 MB 3.1 MB/s eta 0:00:03\n",
      "   -------- ------------------------------- 2.1/9.6 MB 4.2 MB/s eta 0:00:02\n",
      "   ------------- -------------------------- 3.1/9.6 MB 4.2 MB/s eta 0:00:02\n",
      "   ----------------- ---------------------- 4.2/9.6 MB 4.5 MB/s eta 0:00:02\n",
      "   --------------------- ------------------ 5.2/9.6 MB 4.5 MB/s eta 0:00:01\n",
      "   ------------------------- -------------- 6.0/9.6 MB 4.6 MB/s eta 0:00:01\n",
      "   ------------------------------ --------- 7.3/9.6 MB 4.6 MB/s eta 0:00:01\n",
      "   ---------------------------------- ----- 8.4/9.6 MB 4.7 MB/s eta 0:00:01\n",
      "   ---------------------------------------  9.4/9.6 MB 4.8 MB/s eta 0:00:01\n",
      "   ---------------------------------------- 9.6/9.6 MB 4.7 MB/s eta 0:00:00\n",
      "Downloading narwhals-1.47.0-py3-none-any.whl (374 kB)\n",
      "Installing collected packages: narwhals, plotly\n",
      "Successfully installed narwhals-1.47.0 plotly-6.2.0\n"
     ]
    },
    {
     "name": "stderr",
     "output_type": "stream",
     "text": [
      "\n",
      "[notice] A new release of pip is available: 24.2 -> 25.1.1\n",
      "[notice] To update, run: python.exe -m pip install --upgrade pip\n"
     ]
    }
   ],
   "source": [
    "!pip install plotly\n"
   ]
  },
  {
   "cell_type": "code",
   "execution_count": null,
   "metadata": {},
   "outputs": [],
   "source": []
  },
  {
   "cell_type": "code",
   "execution_count": 28,
   "metadata": {},
   "outputs": [
    {
     "data": {
      "text/html": [
       "<div style=\"width:100%;\"><div style=\"position:relative;width:100%;height:0;padding-bottom:60%;\"><span style=\"color:#565656\">Make this Notebook Trusted to load map: File -> Trust Notebook</span><iframe srcdoc=\"&lt;!DOCTYPE html&gt;\n",
       "&lt;html&gt;\n",
       "&lt;head&gt;\n",
       "    \n",
       "    &lt;meta http-equiv=&quot;content-type&quot; content=&quot;text/html; charset=UTF-8&quot; /&gt;\n",
       "    &lt;script src=&quot;https://cdn.jsdelivr.net/npm/leaflet@1.9.3/dist/leaflet.js&quot;&gt;&lt;/script&gt;\n",
       "    &lt;script src=&quot;https://code.jquery.com/jquery-3.7.1.min.js&quot;&gt;&lt;/script&gt;\n",
       "    &lt;script src=&quot;https://cdn.jsdelivr.net/npm/bootstrap@5.2.2/dist/js/bootstrap.bundle.min.js&quot;&gt;&lt;/script&gt;\n",
       "    &lt;script src=&quot;https://cdnjs.cloudflare.com/ajax/libs/Leaflet.awesome-markers/2.0.2/leaflet.awesome-markers.js&quot;&gt;&lt;/script&gt;\n",
       "    &lt;link rel=&quot;stylesheet&quot; href=&quot;https://cdn.jsdelivr.net/npm/leaflet@1.9.3/dist/leaflet.css&quot;/&gt;\n",
       "    &lt;link rel=&quot;stylesheet&quot; href=&quot;https://cdn.jsdelivr.net/npm/bootstrap@5.2.2/dist/css/bootstrap.min.css&quot;/&gt;\n",
       "    &lt;link rel=&quot;stylesheet&quot; href=&quot;https://netdna.bootstrapcdn.com/bootstrap/3.0.0/css/bootstrap-glyphicons.css&quot;/&gt;\n",
       "    &lt;link rel=&quot;stylesheet&quot; href=&quot;https://cdn.jsdelivr.net/npm/@fortawesome/fontawesome-free@6.2.0/css/all.min.css&quot;/&gt;\n",
       "    &lt;link rel=&quot;stylesheet&quot; href=&quot;https://cdnjs.cloudflare.com/ajax/libs/Leaflet.awesome-markers/2.0.2/leaflet.awesome-markers.css&quot;/&gt;\n",
       "    &lt;link rel=&quot;stylesheet&quot; href=&quot;https://cdn.jsdelivr.net/gh/python-visualization/folium/folium/templates/leaflet.awesome.rotate.min.css&quot;/&gt;\n",
       "    \n",
       "            &lt;meta name=&quot;viewport&quot; content=&quot;width=device-width,\n",
       "                initial-scale=1.0, maximum-scale=1.0, user-scalable=no&quot; /&gt;\n",
       "            &lt;style&gt;\n",
       "                #map_93fd54de75ac8712b24d4c562f2f91ec {\n",
       "                    position: relative;\n",
       "                    width: 100.0%;\n",
       "                    height: 100.0%;\n",
       "                    left: 0.0%;\n",
       "                    top: 0.0%;\n",
       "                }\n",
       "                .leaflet-container { font-size: 1rem; }\n",
       "            &lt;/style&gt;\n",
       "\n",
       "            &lt;style&gt;html, body {\n",
       "                width: 100%;\n",
       "                height: 100%;\n",
       "                margin: 0;\n",
       "                padding: 0;\n",
       "            }\n",
       "            &lt;/style&gt;\n",
       "\n",
       "            &lt;style&gt;#map {\n",
       "                position:absolute;\n",
       "                top:0;\n",
       "                bottom:0;\n",
       "                right:0;\n",
       "                left:0;\n",
       "                }\n",
       "            &lt;/style&gt;\n",
       "\n",
       "            &lt;script&gt;\n",
       "                L_NO_TOUCH = false;\n",
       "                L_DISABLE_3D = false;\n",
       "            &lt;/script&gt;\n",
       "\n",
       "        \n",
       "&lt;/head&gt;\n",
       "&lt;body&gt;\n",
       "    \n",
       "    \n",
       "            &lt;div class=&quot;folium-map&quot; id=&quot;map_93fd54de75ac8712b24d4c562f2f91ec&quot; &gt;&lt;/div&gt;\n",
       "        \n",
       "&lt;/body&gt;\n",
       "&lt;script&gt;\n",
       "    \n",
       "    \n",
       "            var map_93fd54de75ac8712b24d4c562f2f91ec = L.map(\n",
       "                &quot;map_93fd54de75ac8712b24d4c562f2f91ec&quot;,\n",
       "                {\n",
       "                    center: [29.44996262777778, -86.36647705111112],\n",
       "                    crs: L.CRS.EPSG3857,\n",
       "                    ...{\n",
       "  &quot;zoom&quot;: 2,\n",
       "  &quot;zoomControl&quot;: true,\n",
       "  &quot;preferCanvas&quot;: false,\n",
       "}\n",
       "\n",
       "                }\n",
       "            );\n",
       "\n",
       "            \n",
       "\n",
       "        \n",
       "    \n",
       "            var tile_layer_83e51ed03b360e69aabfdeab1d72a9cc = L.tileLayer(\n",
       "                &quot;https://{s}.basemaps.cartocdn.com/light_all/{z}/{x}/{y}{r}.png&quot;,\n",
       "                {\n",
       "  &quot;minZoom&quot;: 0,\n",
       "  &quot;maxZoom&quot;: 20,\n",
       "  &quot;maxNativeZoom&quot;: 20,\n",
       "  &quot;noWrap&quot;: false,\n",
       "  &quot;attribution&quot;: &quot;\\u0026copy; \\u003ca href=\\&quot;https://www.openstreetmap.org/copyright\\&quot;\\u003eOpenStreetMap\\u003c/a\\u003e contributors \\u0026copy; \\u003ca href=\\&quot;https://carto.com/attributions\\&quot;\\u003eCARTO\\u003c/a\\u003e&quot;,\n",
       "  &quot;subdomains&quot;: &quot;abcd&quot;,\n",
       "  &quot;detectRetina&quot;: false,\n",
       "  &quot;tms&quot;: false,\n",
       "  &quot;opacity&quot;: 1,\n",
       "}\n",
       "\n",
       "            );\n",
       "        \n",
       "    \n",
       "            tile_layer_83e51ed03b360e69aabfdeab1d72a9cc.addTo(map_93fd54de75ac8712b24d4c562f2f91ec);\n",
       "        \n",
       "    \n",
       "            var circle_marker_5755ced6d19f49d20b7cf0f20909deef = L.circleMarker(\n",
       "                [28.5618571, -80.577366],\n",
       "                {&quot;bubblingMouseEvents&quot;: true, &quot;color&quot;: &quot;red&quot;, &quot;dashArray&quot;: null, &quot;dashOffset&quot;: null, &quot;fill&quot;: false, &quot;fillColor&quot;: &quot;red&quot;, &quot;fillOpacity&quot;: 0.2, &quot;fillRule&quot;: &quot;evenodd&quot;, &quot;lineCap&quot;: &quot;round&quot;, &quot;lineJoin&quot;: &quot;round&quot;, &quot;opacity&quot;: 1.0, &quot;radius&quot;: 5, &quot;stroke&quot;: true, &quot;weight&quot;: 3}\n",
       "            ).addTo(map_93fd54de75ac8712b24d4c562f2f91ec);\n",
       "        \n",
       "    \n",
       "        var popup_f7d12ccb1afb8fd3f20fc11b7b3570f2 = L.popup({\n",
       "  &quot;maxWidth&quot;: &quot;100%&quot;,\n",
       "});\n",
       "\n",
       "        \n",
       "            \n",
       "                var html_524b3d4f30ce6a39f6ab96f6b41733b4 = $(`&lt;div id=&quot;html_524b3d4f30ce6a39f6ab96f6b41733b4&quot; style=&quot;width: 100.0%; height: 100.0%;&quot;&gt;CCAFS SLC 40 – None None&lt;/div&gt;`)[0];\n",
       "                popup_f7d12ccb1afb8fd3f20fc11b7b3570f2.setContent(html_524b3d4f30ce6a39f6ab96f6b41733b4);\n",
       "            \n",
       "        \n",
       "\n",
       "        circle_marker_5755ced6d19f49d20b7cf0f20909deef.bindPopup(popup_f7d12ccb1afb8fd3f20fc11b7b3570f2)\n",
       "        ;\n",
       "\n",
       "        \n",
       "    \n",
       "    \n",
       "            var circle_marker_126a73233692cc58aa98c9974bae7b76 = L.circleMarker(\n",
       "                [28.5618571, -80.577366],\n",
       "                {&quot;bubblingMouseEvents&quot;: true, &quot;color&quot;: &quot;red&quot;, &quot;dashArray&quot;: null, &quot;dashOffset&quot;: null, &quot;fill&quot;: false, &quot;fillColor&quot;: &quot;red&quot;, &quot;fillOpacity&quot;: 0.2, &quot;fillRule&quot;: &quot;evenodd&quot;, &quot;lineCap&quot;: &quot;round&quot;, &quot;lineJoin&quot;: &quot;round&quot;, &quot;opacity&quot;: 1.0, &quot;radius&quot;: 5, &quot;stroke&quot;: true, &quot;weight&quot;: 3}\n",
       "            ).addTo(map_93fd54de75ac8712b24d4c562f2f91ec);\n",
       "        \n",
       "    \n",
       "        var popup_af1da5f15580f0137910cc143c33fcba = L.popup({\n",
       "  &quot;maxWidth&quot;: &quot;100%&quot;,\n",
       "});\n",
       "\n",
       "        \n",
       "            \n",
       "                var html_e9b22082d783deb1b96799cf0f88b454 = $(`&lt;div id=&quot;html_e9b22082d783deb1b96799cf0f88b454&quot; style=&quot;width: 100.0%; height: 100.0%;&quot;&gt;CCAFS SLC 40 – None None&lt;/div&gt;`)[0];\n",
       "                popup_af1da5f15580f0137910cc143c33fcba.setContent(html_e9b22082d783deb1b96799cf0f88b454);\n",
       "            \n",
       "        \n",
       "\n",
       "        circle_marker_126a73233692cc58aa98c9974bae7b76.bindPopup(popup_af1da5f15580f0137910cc143c33fcba)\n",
       "        ;\n",
       "\n",
       "        \n",
       "    \n",
       "    \n",
       "            var circle_marker_3981b1d72dd231364e73d9a7734f9d9f = L.circleMarker(\n",
       "                [28.5618571, -80.577366],\n",
       "                {&quot;bubblingMouseEvents&quot;: true, &quot;color&quot;: &quot;red&quot;, &quot;dashArray&quot;: null, &quot;dashOffset&quot;: null, &quot;fill&quot;: false, &quot;fillColor&quot;: &quot;red&quot;, &quot;fillOpacity&quot;: 0.2, &quot;fillRule&quot;: &quot;evenodd&quot;, &quot;lineCap&quot;: &quot;round&quot;, &quot;lineJoin&quot;: &quot;round&quot;, &quot;opacity&quot;: 1.0, &quot;radius&quot;: 5, &quot;stroke&quot;: true, &quot;weight&quot;: 3}\n",
       "            ).addTo(map_93fd54de75ac8712b24d4c562f2f91ec);\n",
       "        \n",
       "    \n",
       "        var popup_39f65d7b7d271d87f7407c766ca482d9 = L.popup({\n",
       "  &quot;maxWidth&quot;: &quot;100%&quot;,\n",
       "});\n",
       "\n",
       "        \n",
       "            \n",
       "                var html_a32e92aaa6ee014e43c70ac919287353 = $(`&lt;div id=&quot;html_a32e92aaa6ee014e43c70ac919287353&quot; style=&quot;width: 100.0%; height: 100.0%;&quot;&gt;CCAFS SLC 40 – None None&lt;/div&gt;`)[0];\n",
       "                popup_39f65d7b7d271d87f7407c766ca482d9.setContent(html_a32e92aaa6ee014e43c70ac919287353);\n",
       "            \n",
       "        \n",
       "\n",
       "        circle_marker_3981b1d72dd231364e73d9a7734f9d9f.bindPopup(popup_39f65d7b7d271d87f7407c766ca482d9)\n",
       "        ;\n",
       "\n",
       "        \n",
       "    \n",
       "    \n",
       "            var circle_marker_43d3756e9b4c3521247ac12b9c845cad = L.circleMarker(\n",
       "                [34.632093, -120.610829],\n",
       "                {&quot;bubblingMouseEvents&quot;: true, &quot;color&quot;: &quot;red&quot;, &quot;dashArray&quot;: null, &quot;dashOffset&quot;: null, &quot;fill&quot;: false, &quot;fillColor&quot;: &quot;red&quot;, &quot;fillOpacity&quot;: 0.2, &quot;fillRule&quot;: &quot;evenodd&quot;, &quot;lineCap&quot;: &quot;round&quot;, &quot;lineJoin&quot;: &quot;round&quot;, &quot;opacity&quot;: 1.0, &quot;radius&quot;: 5, &quot;stroke&quot;: true, &quot;weight&quot;: 3}\n",
       "            ).addTo(map_93fd54de75ac8712b24d4c562f2f91ec);\n",
       "        \n",
       "    \n",
       "        var popup_84e50fa83ab1fd24aaf96037b6664bf9 = L.popup({\n",
       "  &quot;maxWidth&quot;: &quot;100%&quot;,\n",
       "});\n",
       "\n",
       "        \n",
       "            \n",
       "                var html_674455b80d12bfbe61e02464a22d3e8f = $(`&lt;div id=&quot;html_674455b80d12bfbe61e02464a22d3e8f&quot; style=&quot;width: 100.0%; height: 100.0%;&quot;&gt;VAFB SLC 4E – False Ocean&lt;/div&gt;`)[0];\n",
       "                popup_84e50fa83ab1fd24aaf96037b6664bf9.setContent(html_674455b80d12bfbe61e02464a22d3e8f);\n",
       "            \n",
       "        \n",
       "\n",
       "        circle_marker_43d3756e9b4c3521247ac12b9c845cad.bindPopup(popup_84e50fa83ab1fd24aaf96037b6664bf9)\n",
       "        ;\n",
       "\n",
       "        \n",
       "    \n",
       "    \n",
       "            var circle_marker_76daf33f38bbfa7863bf598c95197fd2 = L.circleMarker(\n",
       "                [28.5618571, -80.577366],\n",
       "                {&quot;bubblingMouseEvents&quot;: true, &quot;color&quot;: &quot;red&quot;, &quot;dashArray&quot;: null, &quot;dashOffset&quot;: null, &quot;fill&quot;: false, &quot;fillColor&quot;: &quot;red&quot;, &quot;fillOpacity&quot;: 0.2, &quot;fillRule&quot;: &quot;evenodd&quot;, &quot;lineCap&quot;: &quot;round&quot;, &quot;lineJoin&quot;: &quot;round&quot;, &quot;opacity&quot;: 1.0, &quot;radius&quot;: 5, &quot;stroke&quot;: true, &quot;weight&quot;: 3}\n",
       "            ).addTo(map_93fd54de75ac8712b24d4c562f2f91ec);\n",
       "        \n",
       "    \n",
       "        var popup_13571f03f64f44090a961df51bbd327e = L.popup({\n",
       "  &quot;maxWidth&quot;: &quot;100%&quot;,\n",
       "});\n",
       "\n",
       "        \n",
       "            \n",
       "                var html_af482ae7194cb0ee0db58c3d80fca219 = $(`&lt;div id=&quot;html_af482ae7194cb0ee0db58c3d80fca219&quot; style=&quot;width: 100.0%; height: 100.0%;&quot;&gt;CCAFS SLC 40 – None None&lt;/div&gt;`)[0];\n",
       "                popup_13571f03f64f44090a961df51bbd327e.setContent(html_af482ae7194cb0ee0db58c3d80fca219);\n",
       "            \n",
       "        \n",
       "\n",
       "        circle_marker_76daf33f38bbfa7863bf598c95197fd2.bindPopup(popup_13571f03f64f44090a961df51bbd327e)\n",
       "        ;\n",
       "\n",
       "        \n",
       "    \n",
       "    \n",
       "            var circle_marker_a4a078db556d2133a1783672880e5c8c = L.circleMarker(\n",
       "                [28.5618571, -80.577366],\n",
       "                {&quot;bubblingMouseEvents&quot;: true, &quot;color&quot;: &quot;red&quot;, &quot;dashArray&quot;: null, &quot;dashOffset&quot;: null, &quot;fill&quot;: false, &quot;fillColor&quot;: &quot;red&quot;, &quot;fillOpacity&quot;: 0.2, &quot;fillRule&quot;: &quot;evenodd&quot;, &quot;lineCap&quot;: &quot;round&quot;, &quot;lineJoin&quot;: &quot;round&quot;, &quot;opacity&quot;: 1.0, &quot;radius&quot;: 5, &quot;stroke&quot;: true, &quot;weight&quot;: 3}\n",
       "            ).addTo(map_93fd54de75ac8712b24d4c562f2f91ec);\n",
       "        \n",
       "    \n",
       "        var popup_572d7e0545f04891895a73cfb0981ba6 = L.popup({\n",
       "  &quot;maxWidth&quot;: &quot;100%&quot;,\n",
       "});\n",
       "\n",
       "        \n",
       "            \n",
       "                var html_4c54b85b91d69935dd0b43151f6af14c = $(`&lt;div id=&quot;html_4c54b85b91d69935dd0b43151f6af14c&quot; style=&quot;width: 100.0%; height: 100.0%;&quot;&gt;CCAFS SLC 40 – None None&lt;/div&gt;`)[0];\n",
       "                popup_572d7e0545f04891895a73cfb0981ba6.setContent(html_4c54b85b91d69935dd0b43151f6af14c);\n",
       "            \n",
       "        \n",
       "\n",
       "        circle_marker_a4a078db556d2133a1783672880e5c8c.bindPopup(popup_572d7e0545f04891895a73cfb0981ba6)\n",
       "        ;\n",
       "\n",
       "        \n",
       "    \n",
       "    \n",
       "            var circle_marker_de60168b38145b0afac151424142bcbf = L.circleMarker(\n",
       "                [28.5618571, -80.577366],\n",
       "                {&quot;bubblingMouseEvents&quot;: true, &quot;color&quot;: &quot;green&quot;, &quot;dashArray&quot;: null, &quot;dashOffset&quot;: null, &quot;fill&quot;: false, &quot;fillColor&quot;: &quot;green&quot;, &quot;fillOpacity&quot;: 0.2, &quot;fillRule&quot;: &quot;evenodd&quot;, &quot;lineCap&quot;: &quot;round&quot;, &quot;lineJoin&quot;: &quot;round&quot;, &quot;opacity&quot;: 1.0, &quot;radius&quot;: 5, &quot;stroke&quot;: true, &quot;weight&quot;: 3}\n",
       "            ).addTo(map_93fd54de75ac8712b24d4c562f2f91ec);\n",
       "        \n",
       "    \n",
       "        var popup_ef24b5a8b98da8b9eec04ed16f562dfd = L.popup({\n",
       "  &quot;maxWidth&quot;: &quot;100%&quot;,\n",
       "});\n",
       "\n",
       "        \n",
       "            \n",
       "                var html_c73c89fc13e2f230393cf446a9fbb6c3 = $(`&lt;div id=&quot;html_c73c89fc13e2f230393cf446a9fbb6c3&quot; style=&quot;width: 100.0%; height: 100.0%;&quot;&gt;CCAFS SLC 40 – True Ocean&lt;/div&gt;`)[0];\n",
       "                popup_ef24b5a8b98da8b9eec04ed16f562dfd.setContent(html_c73c89fc13e2f230393cf446a9fbb6c3);\n",
       "            \n",
       "        \n",
       "\n",
       "        circle_marker_de60168b38145b0afac151424142bcbf.bindPopup(popup_ef24b5a8b98da8b9eec04ed16f562dfd)\n",
       "        ;\n",
       "\n",
       "        \n",
       "    \n",
       "    \n",
       "            var circle_marker_14110ad89da7c7b5303b2a90f562548c = L.circleMarker(\n",
       "                [28.5618571, -80.577366],\n",
       "                {&quot;bubblingMouseEvents&quot;: true, &quot;color&quot;: &quot;green&quot;, &quot;dashArray&quot;: null, &quot;dashOffset&quot;: null, &quot;fill&quot;: false, &quot;fillColor&quot;: &quot;green&quot;, &quot;fillOpacity&quot;: 0.2, &quot;fillRule&quot;: &quot;evenodd&quot;, &quot;lineCap&quot;: &quot;round&quot;, &quot;lineJoin&quot;: &quot;round&quot;, &quot;opacity&quot;: 1.0, &quot;radius&quot;: 5, &quot;stroke&quot;: true, &quot;weight&quot;: 3}\n",
       "            ).addTo(map_93fd54de75ac8712b24d4c562f2f91ec);\n",
       "        \n",
       "    \n",
       "        var popup_593afd938551244d3523f3c51fb1e8e7 = L.popup({\n",
       "  &quot;maxWidth&quot;: &quot;100%&quot;,\n",
       "});\n",
       "\n",
       "        \n",
       "            \n",
       "                var html_044c83a9948831b2ab3e526e7b556f3f = $(`&lt;div id=&quot;html_044c83a9948831b2ab3e526e7b556f3f&quot; style=&quot;width: 100.0%; height: 100.0%;&quot;&gt;CCAFS SLC 40 – True Ocean&lt;/div&gt;`)[0];\n",
       "                popup_593afd938551244d3523f3c51fb1e8e7.setContent(html_044c83a9948831b2ab3e526e7b556f3f);\n",
       "            \n",
       "        \n",
       "\n",
       "        circle_marker_14110ad89da7c7b5303b2a90f562548c.bindPopup(popup_593afd938551244d3523f3c51fb1e8e7)\n",
       "        ;\n",
       "\n",
       "        \n",
       "    \n",
       "    \n",
       "            var circle_marker_f4097a52cde3dab95cb12401cdd04a40 = L.circleMarker(\n",
       "                [28.5618571, -80.577366],\n",
       "                {&quot;bubblingMouseEvents&quot;: true, &quot;color&quot;: &quot;red&quot;, &quot;dashArray&quot;: null, &quot;dashOffset&quot;: null, &quot;fill&quot;: false, &quot;fillColor&quot;: &quot;red&quot;, &quot;fillOpacity&quot;: 0.2, &quot;fillRule&quot;: &quot;evenodd&quot;, &quot;lineCap&quot;: &quot;round&quot;, &quot;lineJoin&quot;: &quot;round&quot;, &quot;opacity&quot;: 1.0, &quot;radius&quot;: 5, &quot;stroke&quot;: true, &quot;weight&quot;: 3}\n",
       "            ).addTo(map_93fd54de75ac8712b24d4c562f2f91ec);\n",
       "        \n",
       "    \n",
       "        var popup_06aa9422d12b8a782f4d201c9ca8aae3 = L.popup({\n",
       "  &quot;maxWidth&quot;: &quot;100%&quot;,\n",
       "});\n",
       "\n",
       "        \n",
       "            \n",
       "                var html_81be8882f47496674a05ae74e0827a02 = $(`&lt;div id=&quot;html_81be8882f47496674a05ae74e0827a02&quot; style=&quot;width: 100.0%; height: 100.0%;&quot;&gt;CCAFS SLC 40 – None None&lt;/div&gt;`)[0];\n",
       "                popup_06aa9422d12b8a782f4d201c9ca8aae3.setContent(html_81be8882f47496674a05ae74e0827a02);\n",
       "            \n",
       "        \n",
       "\n",
       "        circle_marker_f4097a52cde3dab95cb12401cdd04a40.bindPopup(popup_06aa9422d12b8a782f4d201c9ca8aae3)\n",
       "        ;\n",
       "\n",
       "        \n",
       "    \n",
       "    \n",
       "            var circle_marker_dbae0e8484baca15cf72cf6120ce37d1 = L.circleMarker(\n",
       "                [28.5618571, -80.577366],\n",
       "                {&quot;bubblingMouseEvents&quot;: true, &quot;color&quot;: &quot;red&quot;, &quot;dashArray&quot;: null, &quot;dashOffset&quot;: null, &quot;fill&quot;: false, &quot;fillColor&quot;: &quot;red&quot;, &quot;fillOpacity&quot;: 0.2, &quot;fillRule&quot;: &quot;evenodd&quot;, &quot;lineCap&quot;: &quot;round&quot;, &quot;lineJoin&quot;: &quot;round&quot;, &quot;opacity&quot;: 1.0, &quot;radius&quot;: 5, &quot;stroke&quot;: true, &quot;weight&quot;: 3}\n",
       "            ).addTo(map_93fd54de75ac8712b24d4c562f2f91ec);\n",
       "        \n",
       "    \n",
       "        var popup_1db56328a5f6abce2dcbb7162bf4cfae = L.popup({\n",
       "  &quot;maxWidth&quot;: &quot;100%&quot;,\n",
       "});\n",
       "\n",
       "        \n",
       "            \n",
       "                var html_ad47bfa87ff68693aed6830b85baf752 = $(`&lt;div id=&quot;html_ad47bfa87ff68693aed6830b85baf752&quot; style=&quot;width: 100.0%; height: 100.0%;&quot;&gt;CCAFS SLC 40 – None None&lt;/div&gt;`)[0];\n",
       "                popup_1db56328a5f6abce2dcbb7162bf4cfae.setContent(html_ad47bfa87ff68693aed6830b85baf752);\n",
       "            \n",
       "        \n",
       "\n",
       "        circle_marker_dbae0e8484baca15cf72cf6120ce37d1.bindPopup(popup_1db56328a5f6abce2dcbb7162bf4cfae)\n",
       "        ;\n",
       "\n",
       "        \n",
       "    \n",
       "    \n",
       "            var circle_marker_67ff9d6783180b766867185c263e65eb = L.circleMarker(\n",
       "                [28.5618571, -80.577366],\n",
       "                {&quot;bubblingMouseEvents&quot;: true, &quot;color&quot;: &quot;red&quot;, &quot;dashArray&quot;: null, &quot;dashOffset&quot;: null, &quot;fill&quot;: false, &quot;fillColor&quot;: &quot;red&quot;, &quot;fillOpacity&quot;: 0.2, &quot;fillRule&quot;: &quot;evenodd&quot;, &quot;lineCap&quot;: &quot;round&quot;, &quot;lineJoin&quot;: &quot;round&quot;, &quot;opacity&quot;: 1.0, &quot;radius&quot;: 5, &quot;stroke&quot;: true, &quot;weight&quot;: 3}\n",
       "            ).addTo(map_93fd54de75ac8712b24d4c562f2f91ec);\n",
       "        \n",
       "    \n",
       "        var popup_61f966a82f68faf299daab910ecbe497 = L.popup({\n",
       "  &quot;maxWidth&quot;: &quot;100%&quot;,\n",
       "});\n",
       "\n",
       "        \n",
       "            \n",
       "                var html_0d97f338516b03f062f2ce57e2037b87 = $(`&lt;div id=&quot;html_0d97f338516b03f062f2ce57e2037b87&quot; style=&quot;width: 100.0%; height: 100.0%;&quot;&gt;CCAFS SLC 40 – False Ocean&lt;/div&gt;`)[0];\n",
       "                popup_61f966a82f68faf299daab910ecbe497.setContent(html_0d97f338516b03f062f2ce57e2037b87);\n",
       "            \n",
       "        \n",
       "\n",
       "        circle_marker_67ff9d6783180b766867185c263e65eb.bindPopup(popup_61f966a82f68faf299daab910ecbe497)\n",
       "        ;\n",
       "\n",
       "        \n",
       "    \n",
       "    \n",
       "            var circle_marker_dce80d3c537ae9fa1782cab38cb23ef8 = L.circleMarker(\n",
       "                [28.5618571, -80.577366],\n",
       "                {&quot;bubblingMouseEvents&quot;: true, &quot;color&quot;: &quot;red&quot;, &quot;dashArray&quot;: null, &quot;dashOffset&quot;: null, &quot;fill&quot;: false, &quot;fillColor&quot;: &quot;red&quot;, &quot;fillOpacity&quot;: 0.2, &quot;fillRule&quot;: &quot;evenodd&quot;, &quot;lineCap&quot;: &quot;round&quot;, &quot;lineJoin&quot;: &quot;round&quot;, &quot;opacity&quot;: 1.0, &quot;radius&quot;: 5, &quot;stroke&quot;: true, &quot;weight&quot;: 3}\n",
       "            ).addTo(map_93fd54de75ac8712b24d4c562f2f91ec);\n",
       "        \n",
       "    \n",
       "        var popup_2bef3a1d0a9a02f772c9fc39e53103ee = L.popup({\n",
       "  &quot;maxWidth&quot;: &quot;100%&quot;,\n",
       "});\n",
       "\n",
       "        \n",
       "            \n",
       "                var html_fc9ab87e352f17b16a9660ee8bbe5104 = $(`&lt;div id=&quot;html_fc9ab87e352f17b16a9660ee8bbe5104&quot; style=&quot;width: 100.0%; height: 100.0%;&quot;&gt;CCAFS SLC 40 – False ASDS&lt;/div&gt;`)[0];\n",
       "                popup_2bef3a1d0a9a02f772c9fc39e53103ee.setContent(html_fc9ab87e352f17b16a9660ee8bbe5104);\n",
       "            \n",
       "        \n",
       "\n",
       "        circle_marker_dce80d3c537ae9fa1782cab38cb23ef8.bindPopup(popup_2bef3a1d0a9a02f772c9fc39e53103ee)\n",
       "        ;\n",
       "\n",
       "        \n",
       "    \n",
       "    \n",
       "            var circle_marker_ab57e5d5e728bd92d18000be7fc6a4d6 = L.circleMarker(\n",
       "                [28.5618571, -80.577366],\n",
       "                {&quot;bubblingMouseEvents&quot;: true, &quot;color&quot;: &quot;green&quot;, &quot;dashArray&quot;: null, &quot;dashOffset&quot;: null, &quot;fill&quot;: false, &quot;fillColor&quot;: &quot;green&quot;, &quot;fillOpacity&quot;: 0.2, &quot;fillRule&quot;: &quot;evenodd&quot;, &quot;lineCap&quot;: &quot;round&quot;, &quot;lineJoin&quot;: &quot;round&quot;, &quot;opacity&quot;: 1.0, &quot;radius&quot;: 5, &quot;stroke&quot;: true, &quot;weight&quot;: 3}\n",
       "            ).addTo(map_93fd54de75ac8712b24d4c562f2f91ec);\n",
       "        \n",
       "    \n",
       "        var popup_e11d5af76057f863e6fa5e1cde91d940 = L.popup({\n",
       "  &quot;maxWidth&quot;: &quot;100%&quot;,\n",
       "});\n",
       "\n",
       "        \n",
       "            \n",
       "                var html_f8088099a64f5c7f071ee2b6d519503a = $(`&lt;div id=&quot;html_f8088099a64f5c7f071ee2b6d519503a&quot; style=&quot;width: 100.0%; height: 100.0%;&quot;&gt;CCAFS SLC 40 – True Ocean&lt;/div&gt;`)[0];\n",
       "                popup_e11d5af76057f863e6fa5e1cde91d940.setContent(html_f8088099a64f5c7f071ee2b6d519503a);\n",
       "            \n",
       "        \n",
       "\n",
       "        circle_marker_ab57e5d5e728bd92d18000be7fc6a4d6.bindPopup(popup_e11d5af76057f863e6fa5e1cde91d940)\n",
       "        ;\n",
       "\n",
       "        \n",
       "    \n",
       "    \n",
       "            var circle_marker_95af479adc8661647e5bcab9b5bfbc50 = L.circleMarker(\n",
       "                [28.5618571, -80.577366],\n",
       "                {&quot;bubblingMouseEvents&quot;: true, &quot;color&quot;: &quot;red&quot;, &quot;dashArray&quot;: null, &quot;dashOffset&quot;: null, &quot;fill&quot;: false, &quot;fillColor&quot;: &quot;red&quot;, &quot;fillOpacity&quot;: 0.2, &quot;fillRule&quot;: &quot;evenodd&quot;, &quot;lineCap&quot;: &quot;round&quot;, &quot;lineJoin&quot;: &quot;round&quot;, &quot;opacity&quot;: 1.0, &quot;radius&quot;: 5, &quot;stroke&quot;: true, &quot;weight&quot;: 3}\n",
       "            ).addTo(map_93fd54de75ac8712b24d4c562f2f91ec);\n",
       "        \n",
       "    \n",
       "        var popup_19c3568a62b9acb38656ea55b71fcb7b = L.popup({\n",
       "  &quot;maxWidth&quot;: &quot;100%&quot;,\n",
       "});\n",
       "\n",
       "        \n",
       "            \n",
       "                var html_87c4697769bb07c9f0e747f67f2dc208 = $(`&lt;div id=&quot;html_87c4697769bb07c9f0e747f67f2dc208&quot; style=&quot;width: 100.0%; height: 100.0%;&quot;&gt;CCAFS SLC 40 – False ASDS&lt;/div&gt;`)[0];\n",
       "                popup_19c3568a62b9acb38656ea55b71fcb7b.setContent(html_87c4697769bb07c9f0e747f67f2dc208);\n",
       "            \n",
       "        \n",
       "\n",
       "        circle_marker_95af479adc8661647e5bcab9b5bfbc50.bindPopup(popup_19c3568a62b9acb38656ea55b71fcb7b)\n",
       "        ;\n",
       "\n",
       "        \n",
       "    \n",
       "    \n",
       "            var circle_marker_a4fd21f0fe1b7b6b7e5cf2344f416a4f = L.circleMarker(\n",
       "                [28.5618571, -80.577366],\n",
       "                {&quot;bubblingMouseEvents&quot;: true, &quot;color&quot;: &quot;red&quot;, &quot;dashArray&quot;: null, &quot;dashOffset&quot;: null, &quot;fill&quot;: false, &quot;fillColor&quot;: &quot;red&quot;, &quot;fillOpacity&quot;: 0.2, &quot;fillRule&quot;: &quot;evenodd&quot;, &quot;lineCap&quot;: &quot;round&quot;, &quot;lineJoin&quot;: &quot;round&quot;, &quot;opacity&quot;: 1.0, &quot;radius&quot;: 5, &quot;stroke&quot;: true, &quot;weight&quot;: 3}\n",
       "            ).addTo(map_93fd54de75ac8712b24d4c562f2f91ec);\n",
       "        \n",
       "    \n",
       "        var popup_989cea9659375d88900b4e41721e5628 = L.popup({\n",
       "  &quot;maxWidth&quot;: &quot;100%&quot;,\n",
       "});\n",
       "\n",
       "        \n",
       "            \n",
       "                var html_b3571bc6f6d35f25b686fa1b625c6b3e = $(`&lt;div id=&quot;html_b3571bc6f6d35f25b686fa1b625c6b3e&quot; style=&quot;width: 100.0%; height: 100.0%;&quot;&gt;CCAFS SLC 40 – None None&lt;/div&gt;`)[0];\n",
       "                popup_989cea9659375d88900b4e41721e5628.setContent(html_b3571bc6f6d35f25b686fa1b625c6b3e);\n",
       "            \n",
       "        \n",
       "\n",
       "        circle_marker_a4fd21f0fe1b7b6b7e5cf2344f416a4f.bindPopup(popup_989cea9659375d88900b4e41721e5628)\n",
       "        ;\n",
       "\n",
       "        \n",
       "    \n",
       "    \n",
       "            var circle_marker_28d483c63f23fdfc605c259c6e3daaa3 = L.circleMarker(\n",
       "                [28.5618571, -80.577366],\n",
       "                {&quot;bubblingMouseEvents&quot;: true, &quot;color&quot;: &quot;red&quot;, &quot;dashArray&quot;: null, &quot;dashOffset&quot;: null, &quot;fill&quot;: false, &quot;fillColor&quot;: &quot;red&quot;, &quot;fillOpacity&quot;: 0.2, &quot;fillRule&quot;: &quot;evenodd&quot;, &quot;lineCap&quot;: &quot;round&quot;, &quot;lineJoin&quot;: &quot;round&quot;, &quot;opacity&quot;: 1.0, &quot;radius&quot;: 5, &quot;stroke&quot;: true, &quot;weight&quot;: 3}\n",
       "            ).addTo(map_93fd54de75ac8712b24d4c562f2f91ec);\n",
       "        \n",
       "    \n",
       "        var popup_f9a12580bc69d321e59a08b7e1f90e50 = L.popup({\n",
       "  &quot;maxWidth&quot;: &quot;100%&quot;,\n",
       "});\n",
       "\n",
       "        \n",
       "            \n",
       "                var html_44c05865e4dd67f53eb1cfbe77ab4606 = $(`&lt;div id=&quot;html_44c05865e4dd67f53eb1cfbe77ab4606&quot; style=&quot;width: 100.0%; height: 100.0%;&quot;&gt;CCAFS SLC 40 – None ASDS&lt;/div&gt;`)[0];\n",
       "                popup_f9a12580bc69d321e59a08b7e1f90e50.setContent(html_44c05865e4dd67f53eb1cfbe77ab4606);\n",
       "            \n",
       "        \n",
       "\n",
       "        circle_marker_28d483c63f23fdfc605c259c6e3daaa3.bindPopup(popup_f9a12580bc69d321e59a08b7e1f90e50)\n",
       "        ;\n",
       "\n",
       "        \n",
       "    \n",
       "    \n",
       "            var circle_marker_c32b740810600141af27b508081ec844 = L.circleMarker(\n",
       "                [28.5618571, -80.577366],\n",
       "                {&quot;bubblingMouseEvents&quot;: true, &quot;color&quot;: &quot;green&quot;, &quot;dashArray&quot;: null, &quot;dashOffset&quot;: null, &quot;fill&quot;: false, &quot;fillColor&quot;: &quot;green&quot;, &quot;fillOpacity&quot;: 0.2, &quot;fillRule&quot;: &quot;evenodd&quot;, &quot;lineCap&quot;: &quot;round&quot;, &quot;lineJoin&quot;: &quot;round&quot;, &quot;opacity&quot;: 1.0, &quot;radius&quot;: 5, &quot;stroke&quot;: true, &quot;weight&quot;: 3}\n",
       "            ).addTo(map_93fd54de75ac8712b24d4c562f2f91ec);\n",
       "        \n",
       "    \n",
       "        var popup_b91aa6db036e8f705b1098180a01ec8f = L.popup({\n",
       "  &quot;maxWidth&quot;: &quot;100%&quot;,\n",
       "});\n",
       "\n",
       "        \n",
       "            \n",
       "                var html_463b76e8c2755584d76ab711ec508fa1 = $(`&lt;div id=&quot;html_463b76e8c2755584d76ab711ec508fa1&quot; style=&quot;width: 100.0%; height: 100.0%;&quot;&gt;CCAFS SLC 40 – True RTLS&lt;/div&gt;`)[0];\n",
       "                popup_b91aa6db036e8f705b1098180a01ec8f.setContent(html_463b76e8c2755584d76ab711ec508fa1);\n",
       "            \n",
       "        \n",
       "\n",
       "        circle_marker_c32b740810600141af27b508081ec844.bindPopup(popup_b91aa6db036e8f705b1098180a01ec8f)\n",
       "        ;\n",
       "\n",
       "        \n",
       "    \n",
       "    \n",
       "            var circle_marker_b93a624c9bd88eafaf8a9ae6ef623995 = L.circleMarker(\n",
       "                [34.632093, -120.610829],\n",
       "                {&quot;bubblingMouseEvents&quot;: true, &quot;color&quot;: &quot;red&quot;, &quot;dashArray&quot;: null, &quot;dashOffset&quot;: null, &quot;fill&quot;: false, &quot;fillColor&quot;: &quot;red&quot;, &quot;fillOpacity&quot;: 0.2, &quot;fillRule&quot;: &quot;evenodd&quot;, &quot;lineCap&quot;: &quot;round&quot;, &quot;lineJoin&quot;: &quot;round&quot;, &quot;opacity&quot;: 1.0, &quot;radius&quot;: 5, &quot;stroke&quot;: true, &quot;weight&quot;: 3}\n",
       "            ).addTo(map_93fd54de75ac8712b24d4c562f2f91ec);\n",
       "        \n",
       "    \n",
       "        var popup_8c0150683cefa607687b794450444d63 = L.popup({\n",
       "  &quot;maxWidth&quot;: &quot;100%&quot;,\n",
       "});\n",
       "\n",
       "        \n",
       "            \n",
       "                var html_04df739f6806c396d334c0a3a36d28e2 = $(`&lt;div id=&quot;html_04df739f6806c396d334c0a3a36d28e2&quot; style=&quot;width: 100.0%; height: 100.0%;&quot;&gt;VAFB SLC 4E – False ASDS&lt;/div&gt;`)[0];\n",
       "                popup_8c0150683cefa607687b794450444d63.setContent(html_04df739f6806c396d334c0a3a36d28e2);\n",
       "            \n",
       "        \n",
       "\n",
       "        circle_marker_b93a624c9bd88eafaf8a9ae6ef623995.bindPopup(popup_8c0150683cefa607687b794450444d63)\n",
       "        ;\n",
       "\n",
       "        \n",
       "    \n",
       "    \n",
       "            var circle_marker_6609d8ce36a4f1fd5814291a48ea4d81 = L.circleMarker(\n",
       "                [28.5618571, -80.577366],\n",
       "                {&quot;bubblingMouseEvents&quot;: true, &quot;color&quot;: &quot;red&quot;, &quot;dashArray&quot;: null, &quot;dashOffset&quot;: null, &quot;fill&quot;: false, &quot;fillColor&quot;: &quot;red&quot;, &quot;fillOpacity&quot;: 0.2, &quot;fillRule&quot;: &quot;evenodd&quot;, &quot;lineCap&quot;: &quot;round&quot;, &quot;lineJoin&quot;: &quot;round&quot;, &quot;opacity&quot;: 1.0, &quot;radius&quot;: 5, &quot;stroke&quot;: true, &quot;weight&quot;: 3}\n",
       "            ).addTo(map_93fd54de75ac8712b24d4c562f2f91ec);\n",
       "        \n",
       "    \n",
       "        var popup_79166c729149b0260b21d473d67e1bf0 = L.popup({\n",
       "  &quot;maxWidth&quot;: &quot;100%&quot;,\n",
       "});\n",
       "\n",
       "        \n",
       "            \n",
       "                var html_27b56cd6ef94ad98c2c5eef995de1d0c = $(`&lt;div id=&quot;html_27b56cd6ef94ad98c2c5eef995de1d0c&quot; style=&quot;width: 100.0%; height: 100.0%;&quot;&gt;CCAFS SLC 40 – False ASDS&lt;/div&gt;`)[0];\n",
       "                popup_79166c729149b0260b21d473d67e1bf0.setContent(html_27b56cd6ef94ad98c2c5eef995de1d0c);\n",
       "            \n",
       "        \n",
       "\n",
       "        circle_marker_6609d8ce36a4f1fd5814291a48ea4d81.bindPopup(popup_79166c729149b0260b21d473d67e1bf0)\n",
       "        ;\n",
       "\n",
       "        \n",
       "    \n",
       "    \n",
       "            var circle_marker_260194c59b39b0c23daea8574096a459 = L.circleMarker(\n",
       "                [28.5618571, -80.577366],\n",
       "                {&quot;bubblingMouseEvents&quot;: true, &quot;color&quot;: &quot;green&quot;, &quot;dashArray&quot;: null, &quot;dashOffset&quot;: null, &quot;fill&quot;: false, &quot;fillColor&quot;: &quot;green&quot;, &quot;fillOpacity&quot;: 0.2, &quot;fillRule&quot;: &quot;evenodd&quot;, &quot;lineCap&quot;: &quot;round&quot;, &quot;lineJoin&quot;: &quot;round&quot;, &quot;opacity&quot;: 1.0, &quot;radius&quot;: 5, &quot;stroke&quot;: true, &quot;weight&quot;: 3}\n",
       "            ).addTo(map_93fd54de75ac8712b24d4c562f2f91ec);\n",
       "        \n",
       "    \n",
       "        var popup_811f42922af94edd2d05b188394bbd26 = L.popup({\n",
       "  &quot;maxWidth&quot;: &quot;100%&quot;,\n",
       "});\n",
       "\n",
       "        \n",
       "            \n",
       "                var html_340a311a9d1befd6a9c41466e3c99c63 = $(`&lt;div id=&quot;html_340a311a9d1befd6a9c41466e3c99c63&quot; style=&quot;width: 100.0%; height: 100.0%;&quot;&gt;CCAFS SLC 40 – True ASDS&lt;/div&gt;`)[0];\n",
       "                popup_811f42922af94edd2d05b188394bbd26.setContent(html_340a311a9d1befd6a9c41466e3c99c63);\n",
       "            \n",
       "        \n",
       "\n",
       "        circle_marker_260194c59b39b0c23daea8574096a459.bindPopup(popup_811f42922af94edd2d05b188394bbd26)\n",
       "        ;\n",
       "\n",
       "        \n",
       "    \n",
       "    \n",
       "            var circle_marker_87965fe30ee524ac0ed15516156580bd = L.circleMarker(\n",
       "                [28.5618571, -80.577366],\n",
       "                {&quot;bubblingMouseEvents&quot;: true, &quot;color&quot;: &quot;green&quot;, &quot;dashArray&quot;: null, &quot;dashOffset&quot;: null, &quot;fill&quot;: false, &quot;fillColor&quot;: &quot;green&quot;, &quot;fillOpacity&quot;: 0.2, &quot;fillRule&quot;: &quot;evenodd&quot;, &quot;lineCap&quot;: &quot;round&quot;, &quot;lineJoin&quot;: &quot;round&quot;, &quot;opacity&quot;: 1.0, &quot;radius&quot;: 5, &quot;stroke&quot;: true, &quot;weight&quot;: 3}\n",
       "            ).addTo(map_93fd54de75ac8712b24d4c562f2f91ec);\n",
       "        \n",
       "    \n",
       "        var popup_ff14b73562253856b593d9be61af51f6 = L.popup({\n",
       "  &quot;maxWidth&quot;: &quot;100%&quot;,\n",
       "});\n",
       "\n",
       "        \n",
       "            \n",
       "                var html_5741c2a41c6436dc6a3dd4a496599be2 = $(`&lt;div id=&quot;html_5741c2a41c6436dc6a3dd4a496599be2&quot; style=&quot;width: 100.0%; height: 100.0%;&quot;&gt;CCAFS SLC 40 – True ASDS&lt;/div&gt;`)[0];\n",
       "                popup_ff14b73562253856b593d9be61af51f6.setContent(html_5741c2a41c6436dc6a3dd4a496599be2);\n",
       "            \n",
       "        \n",
       "\n",
       "        circle_marker_87965fe30ee524ac0ed15516156580bd.bindPopup(popup_ff14b73562253856b593d9be61af51f6)\n",
       "        ;\n",
       "\n",
       "        \n",
       "    \n",
       "    \n",
       "            var circle_marker_cb2fa09fd0cec5f197434aa8099adaba = L.circleMarker(\n",
       "                [28.5618571, -80.577366],\n",
       "                {&quot;bubblingMouseEvents&quot;: true, &quot;color&quot;: &quot;green&quot;, &quot;dashArray&quot;: null, &quot;dashOffset&quot;: null, &quot;fill&quot;: false, &quot;fillColor&quot;: &quot;green&quot;, &quot;fillOpacity&quot;: 0.2, &quot;fillRule&quot;: &quot;evenodd&quot;, &quot;lineCap&quot;: &quot;round&quot;, &quot;lineJoin&quot;: &quot;round&quot;, &quot;opacity&quot;: 1.0, &quot;radius&quot;: 5, &quot;stroke&quot;: true, &quot;weight&quot;: 3}\n",
       "            ).addTo(map_93fd54de75ac8712b24d4c562f2f91ec);\n",
       "        \n",
       "    \n",
       "        var popup_e27d4fe3b74b7143304085791165438b = L.popup({\n",
       "  &quot;maxWidth&quot;: &quot;100%&quot;,\n",
       "});\n",
       "\n",
       "        \n",
       "            \n",
       "                var html_0bd2fecb4a24976b24766b570f19df4b = $(`&lt;div id=&quot;html_0bd2fecb4a24976b24766b570f19df4b&quot; style=&quot;width: 100.0%; height: 100.0%;&quot;&gt;CCAFS SLC 40 – True ASDS&lt;/div&gt;`)[0];\n",
       "                popup_e27d4fe3b74b7143304085791165438b.setContent(html_0bd2fecb4a24976b24766b570f19df4b);\n",
       "            \n",
       "        \n",
       "\n",
       "        circle_marker_cb2fa09fd0cec5f197434aa8099adaba.bindPopup(popup_e27d4fe3b74b7143304085791165438b)\n",
       "        ;\n",
       "\n",
       "        \n",
       "    \n",
       "    \n",
       "            var circle_marker_d2f1987c0c79fb61aed991df5196b319 = L.circleMarker(\n",
       "                [28.5618571, -80.577366],\n",
       "                {&quot;bubblingMouseEvents&quot;: true, &quot;color&quot;: &quot;green&quot;, &quot;dashArray&quot;: null, &quot;dashOffset&quot;: null, &quot;fill&quot;: false, &quot;fillColor&quot;: &quot;green&quot;, &quot;fillOpacity&quot;: 0.2, &quot;fillRule&quot;: &quot;evenodd&quot;, &quot;lineCap&quot;: &quot;round&quot;, &quot;lineJoin&quot;: &quot;round&quot;, &quot;opacity&quot;: 1.0, &quot;radius&quot;: 5, &quot;stroke&quot;: true, &quot;weight&quot;: 3}\n",
       "            ).addTo(map_93fd54de75ac8712b24d4c562f2f91ec);\n",
       "        \n",
       "    \n",
       "        var popup_c337350c2ea23e306d1d183b0e9499a3 = L.popup({\n",
       "  &quot;maxWidth&quot;: &quot;100%&quot;,\n",
       "});\n",
       "\n",
       "        \n",
       "            \n",
       "                var html_86c67f3bb2b2a3034390bd9b8aab0551 = $(`&lt;div id=&quot;html_86c67f3bb2b2a3034390bd9b8aab0551&quot; style=&quot;width: 100.0%; height: 100.0%;&quot;&gt;CCAFS SLC 40 – True RTLS&lt;/div&gt;`)[0];\n",
       "                popup_c337350c2ea23e306d1d183b0e9499a3.setContent(html_86c67f3bb2b2a3034390bd9b8aab0551);\n",
       "            \n",
       "        \n",
       "\n",
       "        circle_marker_d2f1987c0c79fb61aed991df5196b319.bindPopup(popup_c337350c2ea23e306d1d183b0e9499a3)\n",
       "        ;\n",
       "\n",
       "        \n",
       "    \n",
       "    \n",
       "            var circle_marker_f924b5fd935584bbb86c70b9eb44de9e = L.circleMarker(\n",
       "                [28.5618571, -80.577366],\n",
       "                {&quot;bubblingMouseEvents&quot;: true, &quot;color&quot;: &quot;green&quot;, &quot;dashArray&quot;: null, &quot;dashOffset&quot;: null, &quot;fill&quot;: false, &quot;fillColor&quot;: &quot;green&quot;, &quot;fillOpacity&quot;: 0.2, &quot;fillRule&quot;: &quot;evenodd&quot;, &quot;lineCap&quot;: &quot;round&quot;, &quot;lineJoin&quot;: &quot;round&quot;, &quot;opacity&quot;: 1.0, &quot;radius&quot;: 5, &quot;stroke&quot;: true, &quot;weight&quot;: 3}\n",
       "            ).addTo(map_93fd54de75ac8712b24d4c562f2f91ec);\n",
       "        \n",
       "    \n",
       "        var popup_a12e144de84cf5a8e7a0aa573284184b = L.popup({\n",
       "  &quot;maxWidth&quot;: &quot;100%&quot;,\n",
       "});\n",
       "\n",
       "        \n",
       "            \n",
       "                var html_27717c74ff21117c8de96a048bbfc55d = $(`&lt;div id=&quot;html_27717c74ff21117c8de96a048bbfc55d&quot; style=&quot;width: 100.0%; height: 100.0%;&quot;&gt;CCAFS SLC 40 – True ASDS&lt;/div&gt;`)[0];\n",
       "                popup_a12e144de84cf5a8e7a0aa573284184b.setContent(html_27717c74ff21117c8de96a048bbfc55d);\n",
       "            \n",
       "        \n",
       "\n",
       "        circle_marker_f924b5fd935584bbb86c70b9eb44de9e.bindPopup(popup_a12e144de84cf5a8e7a0aa573284184b)\n",
       "        ;\n",
       "\n",
       "        \n",
       "    \n",
       "    \n",
       "            var circle_marker_61c6dce8bd65529978e5270e7a56660b = L.circleMarker(\n",
       "                [28.5618571, -80.577366],\n",
       "                {&quot;bubblingMouseEvents&quot;: true, &quot;color&quot;: &quot;red&quot;, &quot;dashArray&quot;: null, &quot;dashOffset&quot;: null, &quot;fill&quot;: false, &quot;fillColor&quot;: &quot;red&quot;, &quot;fillOpacity&quot;: 0.2, &quot;fillRule&quot;: &quot;evenodd&quot;, &quot;lineCap&quot;: &quot;round&quot;, &quot;lineJoin&quot;: &quot;round&quot;, &quot;opacity&quot;: 1.0, &quot;radius&quot;: 5, &quot;stroke&quot;: true, &quot;weight&quot;: 3}\n",
       "            ).addTo(map_93fd54de75ac8712b24d4c562f2f91ec);\n",
       "        \n",
       "    \n",
       "        var popup_49f104397190f606e81a8a83bafd3a76 = L.popup({\n",
       "  &quot;maxWidth&quot;: &quot;100%&quot;,\n",
       "});\n",
       "\n",
       "        \n",
       "            \n",
       "                var html_7855f06b5caa7d224540a3411cd1ea1a = $(`&lt;div id=&quot;html_7855f06b5caa7d224540a3411cd1ea1a&quot; style=&quot;width: 100.0%; height: 100.0%;&quot;&gt;CCAFS SLC 40 – None ASDS&lt;/div&gt;`)[0];\n",
       "                popup_49f104397190f606e81a8a83bafd3a76.setContent(html_7855f06b5caa7d224540a3411cd1ea1a);\n",
       "            \n",
       "        \n",
       "\n",
       "        circle_marker_61c6dce8bd65529978e5270e7a56660b.bindPopup(popup_49f104397190f606e81a8a83bafd3a76)\n",
       "        ;\n",
       "\n",
       "        \n",
       "    \n",
       "    \n",
       "            var circle_marker_c76909dd2d7fc7c816dffab00d5a7c6e = L.circleMarker(\n",
       "                [34.632093, -120.610829],\n",
       "                {&quot;bubblingMouseEvents&quot;: true, &quot;color&quot;: &quot;green&quot;, &quot;dashArray&quot;: null, &quot;dashOffset&quot;: null, &quot;fill&quot;: false, &quot;fillColor&quot;: &quot;green&quot;, &quot;fillOpacity&quot;: 0.2, &quot;fillRule&quot;: &quot;evenodd&quot;, &quot;lineCap&quot;: &quot;round&quot;, &quot;lineJoin&quot;: &quot;round&quot;, &quot;opacity&quot;: 1.0, &quot;radius&quot;: 5, &quot;stroke&quot;: true, &quot;weight&quot;: 3}\n",
       "            ).addTo(map_93fd54de75ac8712b24d4c562f2f91ec);\n",
       "        \n",
       "    \n",
       "        var popup_471dc23536107db5a3e404b5e16f1adb = L.popup({\n",
       "  &quot;maxWidth&quot;: &quot;100%&quot;,\n",
       "});\n",
       "\n",
       "        \n",
       "            \n",
       "                var html_9116735087dc82439c2a1d21752f1607 = $(`&lt;div id=&quot;html_9116735087dc82439c2a1d21752f1607&quot; style=&quot;width: 100.0%; height: 100.0%;&quot;&gt;VAFB SLC 4E – True ASDS&lt;/div&gt;`)[0];\n",
       "                popup_471dc23536107db5a3e404b5e16f1adb.setContent(html_9116735087dc82439c2a1d21752f1607);\n",
       "            \n",
       "        \n",
       "\n",
       "        circle_marker_c76909dd2d7fc7c816dffab00d5a7c6e.bindPopup(popup_471dc23536107db5a3e404b5e16f1adb)\n",
       "        ;\n",
       "\n",
       "        \n",
       "    \n",
       "    \n",
       "            var circle_marker_bf082f11f3faa7051ff23269f862ea9a = L.circleMarker(\n",
       "                [28.6080585, -80.6039558],\n",
       "                {&quot;bubblingMouseEvents&quot;: true, &quot;color&quot;: &quot;green&quot;, &quot;dashArray&quot;: null, &quot;dashOffset&quot;: null, &quot;fill&quot;: false, &quot;fillColor&quot;: &quot;green&quot;, &quot;fillOpacity&quot;: 0.2, &quot;fillRule&quot;: &quot;evenodd&quot;, &quot;lineCap&quot;: &quot;round&quot;, &quot;lineJoin&quot;: &quot;round&quot;, &quot;opacity&quot;: 1.0, &quot;radius&quot;: 5, &quot;stroke&quot;: true, &quot;weight&quot;: 3}\n",
       "            ).addTo(map_93fd54de75ac8712b24d4c562f2f91ec);\n",
       "        \n",
       "    \n",
       "        var popup_da671e4b740ead365aa50137e027dfbe = L.popup({\n",
       "  &quot;maxWidth&quot;: &quot;100%&quot;,\n",
       "});\n",
       "\n",
       "        \n",
       "            \n",
       "                var html_389b8e57633e8278bbe06ecbabc3b0eb = $(`&lt;div id=&quot;html_389b8e57633e8278bbe06ecbabc3b0eb&quot; style=&quot;width: 100.0%; height: 100.0%;&quot;&gt;KSC LC 39A – True RTLS&lt;/div&gt;`)[0];\n",
       "                popup_da671e4b740ead365aa50137e027dfbe.setContent(html_389b8e57633e8278bbe06ecbabc3b0eb);\n",
       "            \n",
       "        \n",
       "\n",
       "        circle_marker_bf082f11f3faa7051ff23269f862ea9a.bindPopup(popup_da671e4b740ead365aa50137e027dfbe)\n",
       "        ;\n",
       "\n",
       "        \n",
       "    \n",
       "    \n",
       "            var circle_marker_eba59d0f58d674138805b32b7cc89344 = L.circleMarker(\n",
       "                [28.6080585, -80.6039558],\n",
       "                {&quot;bubblingMouseEvents&quot;: true, &quot;color&quot;: &quot;red&quot;, &quot;dashArray&quot;: null, &quot;dashOffset&quot;: null, &quot;fill&quot;: false, &quot;fillColor&quot;: &quot;red&quot;, &quot;fillOpacity&quot;: 0.2, &quot;fillRule&quot;: &quot;evenodd&quot;, &quot;lineCap&quot;: &quot;round&quot;, &quot;lineJoin&quot;: &quot;round&quot;, &quot;opacity&quot;: 1.0, &quot;radius&quot;: 5, &quot;stroke&quot;: true, &quot;weight&quot;: 3}\n",
       "            ).addTo(map_93fd54de75ac8712b24d4c562f2f91ec);\n",
       "        \n",
       "    \n",
       "        var popup_96a4710e8dc4c62c7236989916f50c89 = L.popup({\n",
       "  &quot;maxWidth&quot;: &quot;100%&quot;,\n",
       "});\n",
       "\n",
       "        \n",
       "            \n",
       "                var html_e9b0061f7e13f9c389006a7b0fb82a23 = $(`&lt;div id=&quot;html_e9b0061f7e13f9c389006a7b0fb82a23&quot; style=&quot;width: 100.0%; height: 100.0%;&quot;&gt;KSC LC 39A – None None&lt;/div&gt;`)[0];\n",
       "                popup_96a4710e8dc4c62c7236989916f50c89.setContent(html_e9b0061f7e13f9c389006a7b0fb82a23);\n",
       "            \n",
       "        \n",
       "\n",
       "        circle_marker_eba59d0f58d674138805b32b7cc89344.bindPopup(popup_96a4710e8dc4c62c7236989916f50c89)\n",
       "        ;\n",
       "\n",
       "        \n",
       "    \n",
       "    \n",
       "            var circle_marker_4f77df8997ef52c2b42f588877f1e4b1 = L.circleMarker(\n",
       "                [28.6080585, -80.6039558],\n",
       "                {&quot;bubblingMouseEvents&quot;: true, &quot;color&quot;: &quot;green&quot;, &quot;dashArray&quot;: null, &quot;dashOffset&quot;: null, &quot;fill&quot;: false, &quot;fillColor&quot;: &quot;green&quot;, &quot;fillOpacity&quot;: 0.2, &quot;fillRule&quot;: &quot;evenodd&quot;, &quot;lineCap&quot;: &quot;round&quot;, &quot;lineJoin&quot;: &quot;round&quot;, &quot;opacity&quot;: 1.0, &quot;radius&quot;: 5, &quot;stroke&quot;: true, &quot;weight&quot;: 3}\n",
       "            ).addTo(map_93fd54de75ac8712b24d4c562f2f91ec);\n",
       "        \n",
       "    \n",
       "        var popup_d7f8269bd00103215864a6cd2816c73b = L.popup({\n",
       "  &quot;maxWidth&quot;: &quot;100%&quot;,\n",
       "});\n",
       "\n",
       "        \n",
       "            \n",
       "                var html_10d0c64fff0e98be437d071e3ded104a = $(`&lt;div id=&quot;html_10d0c64fff0e98be437d071e3ded104a&quot; style=&quot;width: 100.0%; height: 100.0%;&quot;&gt;KSC LC 39A – True ASDS&lt;/div&gt;`)[0];\n",
       "                popup_d7f8269bd00103215864a6cd2816c73b.setContent(html_10d0c64fff0e98be437d071e3ded104a);\n",
       "            \n",
       "        \n",
       "\n",
       "        circle_marker_4f77df8997ef52c2b42f588877f1e4b1.bindPopup(popup_d7f8269bd00103215864a6cd2816c73b)\n",
       "        ;\n",
       "\n",
       "        \n",
       "    \n",
       "    \n",
       "            var circle_marker_a55a69d3a6d42495de60c6046e5ec679 = L.circleMarker(\n",
       "                [28.6080585, -80.6039558],\n",
       "                {&quot;bubblingMouseEvents&quot;: true, &quot;color&quot;: &quot;green&quot;, &quot;dashArray&quot;: null, &quot;dashOffset&quot;: null, &quot;fill&quot;: false, &quot;fillColor&quot;: &quot;green&quot;, &quot;fillOpacity&quot;: 0.2, &quot;fillRule&quot;: &quot;evenodd&quot;, &quot;lineCap&quot;: &quot;round&quot;, &quot;lineJoin&quot;: &quot;round&quot;, &quot;opacity&quot;: 1.0, &quot;radius&quot;: 5, &quot;stroke&quot;: true, &quot;weight&quot;: 3}\n",
       "            ).addTo(map_93fd54de75ac8712b24d4c562f2f91ec);\n",
       "        \n",
       "    \n",
       "        var popup_b3b5b6c6e145e3c7148f252f2caabca9 = L.popup({\n",
       "  &quot;maxWidth&quot;: &quot;100%&quot;,\n",
       "});\n",
       "\n",
       "        \n",
       "            \n",
       "                var html_dfa30c273bed3fc8e140131bba91c5ae = $(`&lt;div id=&quot;html_dfa30c273bed3fc8e140131bba91c5ae&quot; style=&quot;width: 100.0%; height: 100.0%;&quot;&gt;KSC LC 39A – True RTLS&lt;/div&gt;`)[0];\n",
       "                popup_b3b5b6c6e145e3c7148f252f2caabca9.setContent(html_dfa30c273bed3fc8e140131bba91c5ae);\n",
       "            \n",
       "        \n",
       "\n",
       "        circle_marker_a55a69d3a6d42495de60c6046e5ec679.bindPopup(popup_b3b5b6c6e145e3c7148f252f2caabca9)\n",
       "        ;\n",
       "\n",
       "        \n",
       "    \n",
       "    \n",
       "            var circle_marker_4601478fbaf3f451b0204f3b4ea92dbe = L.circleMarker(\n",
       "                [28.6080585, -80.6039558],\n",
       "                {&quot;bubblingMouseEvents&quot;: true, &quot;color&quot;: &quot;red&quot;, &quot;dashArray&quot;: null, &quot;dashOffset&quot;: null, &quot;fill&quot;: false, &quot;fillColor&quot;: &quot;red&quot;, &quot;fillOpacity&quot;: 0.2, &quot;fillRule&quot;: &quot;evenodd&quot;, &quot;lineCap&quot;: &quot;round&quot;, &quot;lineJoin&quot;: &quot;round&quot;, &quot;opacity&quot;: 1.0, &quot;radius&quot;: 5, &quot;stroke&quot;: true, &quot;weight&quot;: 3}\n",
       "            ).addTo(map_93fd54de75ac8712b24d4c562f2f91ec);\n",
       "        \n",
       "    \n",
       "        var popup_b4e733d519701f43c03be1dd39e3eded = L.popup({\n",
       "  &quot;maxWidth&quot;: &quot;100%&quot;,\n",
       "});\n",
       "\n",
       "        \n",
       "            \n",
       "                var html_8dfd881d5cb878b46f874397dd57d0ad = $(`&lt;div id=&quot;html_8dfd881d5cb878b46f874397dd57d0ad&quot; style=&quot;width: 100.0%; height: 100.0%;&quot;&gt;KSC LC 39A – None None&lt;/div&gt;`)[0];\n",
       "                popup_b4e733d519701f43c03be1dd39e3eded.setContent(html_8dfd881d5cb878b46f874397dd57d0ad);\n",
       "            \n",
       "        \n",
       "\n",
       "        circle_marker_4601478fbaf3f451b0204f3b4ea92dbe.bindPopup(popup_b4e733d519701f43c03be1dd39e3eded)\n",
       "        ;\n",
       "\n",
       "        \n",
       "    \n",
       "    \n",
       "            var circle_marker_68c44ada316b5f7b8f8bd010a14ad642 = L.circleMarker(\n",
       "                [28.6080585, -80.6039558],\n",
       "                {&quot;bubblingMouseEvents&quot;: true, &quot;color&quot;: &quot;green&quot;, &quot;dashArray&quot;: null, &quot;dashOffset&quot;: null, &quot;fill&quot;: false, &quot;fillColor&quot;: &quot;green&quot;, &quot;fillOpacity&quot;: 0.2, &quot;fillRule&quot;: &quot;evenodd&quot;, &quot;lineCap&quot;: &quot;round&quot;, &quot;lineJoin&quot;: &quot;round&quot;, &quot;opacity&quot;: 1.0, &quot;radius&quot;: 5, &quot;stroke&quot;: true, &quot;weight&quot;: 3}\n",
       "            ).addTo(map_93fd54de75ac8712b24d4c562f2f91ec);\n",
       "        \n",
       "    \n",
       "        var popup_39cfd494b47cd7069d67cf29494b6315 = L.popup({\n",
       "  &quot;maxWidth&quot;: &quot;100%&quot;,\n",
       "});\n",
       "\n",
       "        \n",
       "            \n",
       "                var html_f655ff65d24320530ba98ed7d26d1465 = $(`&lt;div id=&quot;html_f655ff65d24320530ba98ed7d26d1465&quot; style=&quot;width: 100.0%; height: 100.0%;&quot;&gt;KSC LC 39A – True RTLS&lt;/div&gt;`)[0];\n",
       "                popup_39cfd494b47cd7069d67cf29494b6315.setContent(html_f655ff65d24320530ba98ed7d26d1465);\n",
       "            \n",
       "        \n",
       "\n",
       "        circle_marker_68c44ada316b5f7b8f8bd010a14ad642.bindPopup(popup_39cfd494b47cd7069d67cf29494b6315)\n",
       "        ;\n",
       "\n",
       "        \n",
       "    \n",
       "    \n",
       "            var circle_marker_eb1960306aa0e2184e76ecee3da275b0 = L.circleMarker(\n",
       "                [28.6080585, -80.6039558],\n",
       "                {&quot;bubblingMouseEvents&quot;: true, &quot;color&quot;: &quot;green&quot;, &quot;dashArray&quot;: null, &quot;dashOffset&quot;: null, &quot;fill&quot;: false, &quot;fillColor&quot;: &quot;green&quot;, &quot;fillOpacity&quot;: 0.2, &quot;fillRule&quot;: &quot;evenodd&quot;, &quot;lineCap&quot;: &quot;round&quot;, &quot;lineJoin&quot;: &quot;round&quot;, &quot;opacity&quot;: 1.0, &quot;radius&quot;: 5, &quot;stroke&quot;: true, &quot;weight&quot;: 3}\n",
       "            ).addTo(map_93fd54de75ac8712b24d4c562f2f91ec);\n",
       "        \n",
       "    \n",
       "        var popup_8592402ebf5342e85fff75a89701a5ec = L.popup({\n",
       "  &quot;maxWidth&quot;: &quot;100%&quot;,\n",
       "});\n",
       "\n",
       "        \n",
       "            \n",
       "                var html_0ded1136b85c8d4c31b7fc157f0d3e2b = $(`&lt;div id=&quot;html_0ded1136b85c8d4c31b7fc157f0d3e2b&quot; style=&quot;width: 100.0%; height: 100.0%;&quot;&gt;KSC LC 39A – True ASDS&lt;/div&gt;`)[0];\n",
       "                popup_8592402ebf5342e85fff75a89701a5ec.setContent(html_0ded1136b85c8d4c31b7fc157f0d3e2b);\n",
       "            \n",
       "        \n",
       "\n",
       "        circle_marker_eb1960306aa0e2184e76ecee3da275b0.bindPopup(popup_8592402ebf5342e85fff75a89701a5ec)\n",
       "        ;\n",
       "\n",
       "        \n",
       "    \n",
       "    \n",
       "            var circle_marker_8cea0994c691f7d3307f7380685cf989 = L.circleMarker(\n",
       "                [34.632093, -120.610829],\n",
       "                {&quot;bubblingMouseEvents&quot;: true, &quot;color&quot;: &quot;green&quot;, &quot;dashArray&quot;: null, &quot;dashOffset&quot;: null, &quot;fill&quot;: false, &quot;fillColor&quot;: &quot;green&quot;, &quot;fillOpacity&quot;: 0.2, &quot;fillRule&quot;: &quot;evenodd&quot;, &quot;lineCap&quot;: &quot;round&quot;, &quot;lineJoin&quot;: &quot;round&quot;, &quot;opacity&quot;: 1.0, &quot;radius&quot;: 5, &quot;stroke&quot;: true, &quot;weight&quot;: 3}\n",
       "            ).addTo(map_93fd54de75ac8712b24d4c562f2f91ec);\n",
       "        \n",
       "    \n",
       "        var popup_9b25c246e62ec5d8f9b320175ce4f2ec = L.popup({\n",
       "  &quot;maxWidth&quot;: &quot;100%&quot;,\n",
       "});\n",
       "\n",
       "        \n",
       "            \n",
       "                var html_3881e73dfe5b9664d89948e5ac5b5883 = $(`&lt;div id=&quot;html_3881e73dfe5b9664d89948e5ac5b5883&quot; style=&quot;width: 100.0%; height: 100.0%;&quot;&gt;VAFB SLC 4E – True ASDS&lt;/div&gt;`)[0];\n",
       "                popup_9b25c246e62ec5d8f9b320175ce4f2ec.setContent(html_3881e73dfe5b9664d89948e5ac5b5883);\n",
       "            \n",
       "        \n",
       "\n",
       "        circle_marker_8cea0994c691f7d3307f7380685cf989.bindPopup(popup_9b25c246e62ec5d8f9b320175ce4f2ec)\n",
       "        ;\n",
       "\n",
       "        \n",
       "    \n",
       "    \n",
       "            var circle_marker_495ecb3c8476b3f8dd64cf31411f7579 = L.circleMarker(\n",
       "                [28.6080585, -80.6039558],\n",
       "                {&quot;bubblingMouseEvents&quot;: true, &quot;color&quot;: &quot;red&quot;, &quot;dashArray&quot;: null, &quot;dashOffset&quot;: null, &quot;fill&quot;: false, &quot;fillColor&quot;: &quot;red&quot;, &quot;fillOpacity&quot;: 0.2, &quot;fillRule&quot;: &quot;evenodd&quot;, &quot;lineCap&quot;: &quot;round&quot;, &quot;lineJoin&quot;: &quot;round&quot;, &quot;opacity&quot;: 1.0, &quot;radius&quot;: 5, &quot;stroke&quot;: true, &quot;weight&quot;: 3}\n",
       "            ).addTo(map_93fd54de75ac8712b24d4c562f2f91ec);\n",
       "        \n",
       "    \n",
       "        var popup_358e314b2ee405555c580d1e8aa3f3ef = L.popup({\n",
       "  &quot;maxWidth&quot;: &quot;100%&quot;,\n",
       "});\n",
       "\n",
       "        \n",
       "            \n",
       "                var html_f4e380e33651e336d1016e103974afa1 = $(`&lt;div id=&quot;html_f4e380e33651e336d1016e103974afa1&quot; style=&quot;width: 100.0%; height: 100.0%;&quot;&gt;KSC LC 39A – None None&lt;/div&gt;`)[0];\n",
       "                popup_358e314b2ee405555c580d1e8aa3f3ef.setContent(html_f4e380e33651e336d1016e103974afa1);\n",
       "            \n",
       "        \n",
       "\n",
       "        circle_marker_495ecb3c8476b3f8dd64cf31411f7579.bindPopup(popup_358e314b2ee405555c580d1e8aa3f3ef)\n",
       "        ;\n",
       "\n",
       "        \n",
       "    \n",
       "    \n",
       "            var circle_marker_5fa7e015b5137635268df666195a3af6 = L.circleMarker(\n",
       "                [28.6080585, -80.6039558],\n",
       "                {&quot;bubblingMouseEvents&quot;: true, &quot;color&quot;: &quot;green&quot;, &quot;dashArray&quot;: null, &quot;dashOffset&quot;: null, &quot;fill&quot;: false, &quot;fillColor&quot;: &quot;green&quot;, &quot;fillOpacity&quot;: 0.2, &quot;fillRule&quot;: &quot;evenodd&quot;, &quot;lineCap&quot;: &quot;round&quot;, &quot;lineJoin&quot;: &quot;round&quot;, &quot;opacity&quot;: 1.0, &quot;radius&quot;: 5, &quot;stroke&quot;: true, &quot;weight&quot;: 3}\n",
       "            ).addTo(map_93fd54de75ac8712b24d4c562f2f91ec);\n",
       "        \n",
       "    \n",
       "        var popup_7d239ccbe3562c062ad16b003b6da2d5 = L.popup({\n",
       "  &quot;maxWidth&quot;: &quot;100%&quot;,\n",
       "});\n",
       "\n",
       "        \n",
       "            \n",
       "                var html_aa1eb9283cd68973beeaaf0653f32aee = $(`&lt;div id=&quot;html_aa1eb9283cd68973beeaaf0653f32aee&quot; style=&quot;width: 100.0%; height: 100.0%;&quot;&gt;KSC LC 39A – True RTLS&lt;/div&gt;`)[0];\n",
       "                popup_7d239ccbe3562c062ad16b003b6da2d5.setContent(html_aa1eb9283cd68973beeaaf0653f32aee);\n",
       "            \n",
       "        \n",
       "\n",
       "        circle_marker_5fa7e015b5137635268df666195a3af6.bindPopup(popup_7d239ccbe3562c062ad16b003b6da2d5)\n",
       "        ;\n",
       "\n",
       "        \n",
       "    \n",
       "    \n",
       "            var circle_marker_ff214acf018472e441cb4f83f5a830c1 = L.circleMarker(\n",
       "                [34.632093, -120.610829],\n",
       "                {&quot;bubblingMouseEvents&quot;: true, &quot;color&quot;: &quot;green&quot;, &quot;dashArray&quot;: null, &quot;dashOffset&quot;: null, &quot;fill&quot;: false, &quot;fillColor&quot;: &quot;green&quot;, &quot;fillOpacity&quot;: 0.2, &quot;fillRule&quot;: &quot;evenodd&quot;, &quot;lineCap&quot;: &quot;round&quot;, &quot;lineJoin&quot;: &quot;round&quot;, &quot;opacity&quot;: 1.0, &quot;radius&quot;: 5, &quot;stroke&quot;: true, &quot;weight&quot;: 3}\n",
       "            ).addTo(map_93fd54de75ac8712b24d4c562f2f91ec);\n",
       "        \n",
       "    \n",
       "        var popup_1b812b96424f2092d6e732ec6a373eeb = L.popup({\n",
       "  &quot;maxWidth&quot;: &quot;100%&quot;,\n",
       "});\n",
       "\n",
       "        \n",
       "            \n",
       "                var html_c70752e4f828647beaba2c7dd6f95966 = $(`&lt;div id=&quot;html_c70752e4f828647beaba2c7dd6f95966&quot; style=&quot;width: 100.0%; height: 100.0%;&quot;&gt;VAFB SLC 4E – True ASDS&lt;/div&gt;`)[0];\n",
       "                popup_1b812b96424f2092d6e732ec6a373eeb.setContent(html_c70752e4f828647beaba2c7dd6f95966);\n",
       "            \n",
       "        \n",
       "\n",
       "        circle_marker_ff214acf018472e441cb4f83f5a830c1.bindPopup(popup_1b812b96424f2092d6e732ec6a373eeb)\n",
       "        ;\n",
       "\n",
       "        \n",
       "    \n",
       "    \n",
       "            var circle_marker_811992bbb12fcdc49a042f6b952977ad = L.circleMarker(\n",
       "                [28.6080585, -80.6039558],\n",
       "                {&quot;bubblingMouseEvents&quot;: true, &quot;color&quot;: &quot;green&quot;, &quot;dashArray&quot;: null, &quot;dashOffset&quot;: null, &quot;fill&quot;: false, &quot;fillColor&quot;: &quot;green&quot;, &quot;fillOpacity&quot;: 0.2, &quot;fillRule&quot;: &quot;evenodd&quot;, &quot;lineCap&quot;: &quot;round&quot;, &quot;lineJoin&quot;: &quot;round&quot;, &quot;opacity&quot;: 1.0, &quot;radius&quot;: 5, &quot;stroke&quot;: true, &quot;weight&quot;: 3}\n",
       "            ).addTo(map_93fd54de75ac8712b24d4c562f2f91ec);\n",
       "        \n",
       "    \n",
       "        var popup_5f1e230e46ce97b82179cce2ca36bcbf = L.popup({\n",
       "  &quot;maxWidth&quot;: &quot;100%&quot;,\n",
       "});\n",
       "\n",
       "        \n",
       "            \n",
       "                var html_8bfc9a5bb4f14d7f2ab2eda7f735b8b6 = $(`&lt;div id=&quot;html_8bfc9a5bb4f14d7f2ab2eda7f735b8b6&quot; style=&quot;width: 100.0%; height: 100.0%;&quot;&gt;KSC LC 39A – True RTLS&lt;/div&gt;`)[0];\n",
       "                popup_5f1e230e46ce97b82179cce2ca36bcbf.setContent(html_8bfc9a5bb4f14d7f2ab2eda7f735b8b6);\n",
       "            \n",
       "        \n",
       "\n",
       "        circle_marker_811992bbb12fcdc49a042f6b952977ad.bindPopup(popup_5f1e230e46ce97b82179cce2ca36bcbf)\n",
       "        ;\n",
       "\n",
       "        \n",
       "    \n",
       "    \n",
       "            var circle_marker_b22b6124a408e09ee4a114d02636a9ed = L.circleMarker(\n",
       "                [34.632093, -120.610829],\n",
       "                {&quot;bubblingMouseEvents&quot;: true, &quot;color&quot;: &quot;green&quot;, &quot;dashArray&quot;: null, &quot;dashOffset&quot;: null, &quot;fill&quot;: false, &quot;fillColor&quot;: &quot;green&quot;, &quot;fillOpacity&quot;: 0.2, &quot;fillRule&quot;: &quot;evenodd&quot;, &quot;lineCap&quot;: &quot;round&quot;, &quot;lineJoin&quot;: &quot;round&quot;, &quot;opacity&quot;: 1.0, &quot;radius&quot;: 5, &quot;stroke&quot;: true, &quot;weight&quot;: 3}\n",
       "            ).addTo(map_93fd54de75ac8712b24d4c562f2f91ec);\n",
       "        \n",
       "    \n",
       "        var popup_79ee90ea7254580f5a456bf7e4752195 = L.popup({\n",
       "  &quot;maxWidth&quot;: &quot;100%&quot;,\n",
       "});\n",
       "\n",
       "        \n",
       "            \n",
       "                var html_dded2c6405b6b1552c7a3cd954fd1ad5 = $(`&lt;div id=&quot;html_dded2c6405b6b1552c7a3cd954fd1ad5&quot; style=&quot;width: 100.0%; height: 100.0%;&quot;&gt;VAFB SLC 4E – True ASDS&lt;/div&gt;`)[0];\n",
       "                popup_79ee90ea7254580f5a456bf7e4752195.setContent(html_dded2c6405b6b1552c7a3cd954fd1ad5);\n",
       "            \n",
       "        \n",
       "\n",
       "        circle_marker_b22b6124a408e09ee4a114d02636a9ed.bindPopup(popup_79ee90ea7254580f5a456bf7e4752195)\n",
       "        ;\n",
       "\n",
       "        \n",
       "    \n",
       "    \n",
       "            var circle_marker_76637f8e467f0f6026e9ff1879cd800c = L.circleMarker(\n",
       "                [28.6080585, -80.6039558],\n",
       "                {&quot;bubblingMouseEvents&quot;: true, &quot;color&quot;: &quot;green&quot;, &quot;dashArray&quot;: null, &quot;dashOffset&quot;: null, &quot;fill&quot;: false, &quot;fillColor&quot;: &quot;green&quot;, &quot;fillOpacity&quot;: 0.2, &quot;fillRule&quot;: &quot;evenodd&quot;, &quot;lineCap&quot;: &quot;round&quot;, &quot;lineJoin&quot;: &quot;round&quot;, &quot;opacity&quot;: 1.0, &quot;radius&quot;: 5, &quot;stroke&quot;: true, &quot;weight&quot;: 3}\n",
       "            ).addTo(map_93fd54de75ac8712b24d4c562f2f91ec);\n",
       "        \n",
       "    \n",
       "        var popup_a74d0fd715f87e9a34088d0637cd3eb9 = L.popup({\n",
       "  &quot;maxWidth&quot;: &quot;100%&quot;,\n",
       "});\n",
       "\n",
       "        \n",
       "            \n",
       "                var html_a94a0063299a500af1175725f3ced056 = $(`&lt;div id=&quot;html_a94a0063299a500af1175725f3ced056&quot; style=&quot;width: 100.0%; height: 100.0%;&quot;&gt;KSC LC 39A – True ASDS&lt;/div&gt;`)[0];\n",
       "                popup_a74d0fd715f87e9a34088d0637cd3eb9.setContent(html_a94a0063299a500af1175725f3ced056);\n",
       "            \n",
       "        \n",
       "\n",
       "        circle_marker_76637f8e467f0f6026e9ff1879cd800c.bindPopup(popup_a74d0fd715f87e9a34088d0637cd3eb9)\n",
       "        ;\n",
       "\n",
       "        \n",
       "    \n",
       "    \n",
       "            var circle_marker_60035555816fa664cf3b8fce47136dae = L.circleMarker(\n",
       "                [28.6080585, -80.6039558],\n",
       "                {&quot;bubblingMouseEvents&quot;: true, &quot;color&quot;: &quot;green&quot;, &quot;dashArray&quot;: null, &quot;dashOffset&quot;: null, &quot;fill&quot;: false, &quot;fillColor&quot;: &quot;green&quot;, &quot;fillOpacity&quot;: 0.2, &quot;fillRule&quot;: &quot;evenodd&quot;, &quot;lineCap&quot;: &quot;round&quot;, &quot;lineJoin&quot;: &quot;round&quot;, &quot;opacity&quot;: 1.0, &quot;radius&quot;: 5, &quot;stroke&quot;: true, &quot;weight&quot;: 3}\n",
       "            ).addTo(map_93fd54de75ac8712b24d4c562f2f91ec);\n",
       "        \n",
       "    \n",
       "        var popup_9c75ceea73e0e0f6186f8a0dd8c80c4c = L.popup({\n",
       "  &quot;maxWidth&quot;: &quot;100%&quot;,\n",
       "});\n",
       "\n",
       "        \n",
       "            \n",
       "                var html_8021a8257d54899be99f0ce5665efc35 = $(`&lt;div id=&quot;html_8021a8257d54899be99f0ce5665efc35&quot; style=&quot;width: 100.0%; height: 100.0%;&quot;&gt;KSC LC 39A – True ASDS&lt;/div&gt;`)[0];\n",
       "                popup_9c75ceea73e0e0f6186f8a0dd8c80c4c.setContent(html_8021a8257d54899be99f0ce5665efc35);\n",
       "            \n",
       "        \n",
       "\n",
       "        circle_marker_60035555816fa664cf3b8fce47136dae.bindPopup(popup_9c75ceea73e0e0f6186f8a0dd8c80c4c)\n",
       "        ;\n",
       "\n",
       "        \n",
       "    \n",
       "    \n",
       "            var circle_marker_99684ff08f9fe8e88d41ed85034dd5e8 = L.circleMarker(\n",
       "                [28.5618571, -80.577366],\n",
       "                {&quot;bubblingMouseEvents&quot;: true, &quot;color&quot;: &quot;green&quot;, &quot;dashArray&quot;: null, &quot;dashOffset&quot;: null, &quot;fill&quot;: false, &quot;fillColor&quot;: &quot;green&quot;, &quot;fillOpacity&quot;: 0.2, &quot;fillRule&quot;: &quot;evenodd&quot;, &quot;lineCap&quot;: &quot;round&quot;, &quot;lineJoin&quot;: &quot;round&quot;, &quot;opacity&quot;: 1.0, &quot;radius&quot;: 5, &quot;stroke&quot;: true, &quot;weight&quot;: 3}\n",
       "            ).addTo(map_93fd54de75ac8712b24d4c562f2f91ec);\n",
       "        \n",
       "    \n",
       "        var popup_8d73d281eec0ca8c938a9549fe3e3642 = L.popup({\n",
       "  &quot;maxWidth&quot;: &quot;100%&quot;,\n",
       "});\n",
       "\n",
       "        \n",
       "            \n",
       "                var html_5f32c0e4c3dd969bc9ba4e2380b3f79c = $(`&lt;div id=&quot;html_5f32c0e4c3dd969bc9ba4e2380b3f79c&quot; style=&quot;width: 100.0%; height: 100.0%;&quot;&gt;CCAFS SLC 40 – True RTLS&lt;/div&gt;`)[0];\n",
       "                popup_8d73d281eec0ca8c938a9549fe3e3642.setContent(html_5f32c0e4c3dd969bc9ba4e2380b3f79c);\n",
       "            \n",
       "        \n",
       "\n",
       "        circle_marker_99684ff08f9fe8e88d41ed85034dd5e8.bindPopup(popup_8d73d281eec0ca8c938a9549fe3e3642)\n",
       "        ;\n",
       "\n",
       "        \n",
       "    \n",
       "    \n",
       "            var circle_marker_d8f74538d6b5782e565b80acceab6e14 = L.circleMarker(\n",
       "                [34.632093, -120.610829],\n",
       "                {&quot;bubblingMouseEvents&quot;: true, &quot;color&quot;: &quot;green&quot;, &quot;dashArray&quot;: null, &quot;dashOffset&quot;: null, &quot;fill&quot;: false, &quot;fillColor&quot;: &quot;green&quot;, &quot;fillOpacity&quot;: 0.2, &quot;fillRule&quot;: &quot;evenodd&quot;, &quot;lineCap&quot;: &quot;round&quot;, &quot;lineJoin&quot;: &quot;round&quot;, &quot;opacity&quot;: 1.0, &quot;radius&quot;: 5, &quot;stroke&quot;: true, &quot;weight&quot;: 3}\n",
       "            ).addTo(map_93fd54de75ac8712b24d4c562f2f91ec);\n",
       "        \n",
       "    \n",
       "        var popup_c0d563ab09e468232a9aa4ba5ed337bd = L.popup({\n",
       "  &quot;maxWidth&quot;: &quot;100%&quot;,\n",
       "});\n",
       "\n",
       "        \n",
       "            \n",
       "                var html_d93db64b38982d62da77d5f820facd7f = $(`&lt;div id=&quot;html_d93db64b38982d62da77d5f820facd7f&quot; style=&quot;width: 100.0%; height: 100.0%;&quot;&gt;VAFB SLC 4E – True Ocean&lt;/div&gt;`)[0];\n",
       "                popup_c0d563ab09e468232a9aa4ba5ed337bd.setContent(html_d93db64b38982d62da77d5f820facd7f);\n",
       "            \n",
       "        \n",
       "\n",
       "        circle_marker_d8f74538d6b5782e565b80acceab6e14.bindPopup(popup_c0d563ab09e468232a9aa4ba5ed337bd)\n",
       "        ;\n",
       "\n",
       "        \n",
       "    \n",
       "    \n",
       "            var circle_marker_d34127d3bac7aa5df09ecf3381eefec2 = L.circleMarker(\n",
       "                [28.5618571, -80.577366],\n",
       "                {&quot;bubblingMouseEvents&quot;: true, &quot;color&quot;: &quot;green&quot;, &quot;dashArray&quot;: null, &quot;dashOffset&quot;: null, &quot;fill&quot;: false, &quot;fillColor&quot;: &quot;green&quot;, &quot;fillOpacity&quot;: 0.2, &quot;fillRule&quot;: &quot;evenodd&quot;, &quot;lineCap&quot;: &quot;round&quot;, &quot;lineJoin&quot;: &quot;round&quot;, &quot;opacity&quot;: 1.0, &quot;radius&quot;: 5, &quot;stroke&quot;: true, &quot;weight&quot;: 3}\n",
       "            ).addTo(map_93fd54de75ac8712b24d4c562f2f91ec);\n",
       "        \n",
       "    \n",
       "        var popup_eef3d522f0e4835bf611f33168197773 = L.popup({\n",
       "  &quot;maxWidth&quot;: &quot;100%&quot;,\n",
       "});\n",
       "\n",
       "        \n",
       "            \n",
       "                var html_b4e754a4a200010fd24835fd687b8f27 = $(`&lt;div id=&quot;html_b4e754a4a200010fd24835fd687b8f27&quot; style=&quot;width: 100.0%; height: 100.0%;&quot;&gt;CCAFS SLC 40 – True RTLS&lt;/div&gt;`)[0];\n",
       "                popup_eef3d522f0e4835bf611f33168197773.setContent(html_b4e754a4a200010fd24835fd687b8f27);\n",
       "            \n",
       "        \n",
       "\n",
       "        circle_marker_d34127d3bac7aa5df09ecf3381eefec2.bindPopup(popup_eef3d522f0e4835bf611f33168197773)\n",
       "        ;\n",
       "\n",
       "        \n",
       "    \n",
       "    \n",
       "            var circle_marker_0d850108fd76ce7c8b19b1334d1db803 = L.circleMarker(\n",
       "                [28.5618571, -80.577366],\n",
       "                {&quot;bubblingMouseEvents&quot;: true, &quot;color&quot;: &quot;green&quot;, &quot;dashArray&quot;: null, &quot;dashOffset&quot;: null, &quot;fill&quot;: false, &quot;fillColor&quot;: &quot;green&quot;, &quot;fillOpacity&quot;: 0.2, &quot;fillRule&quot;: &quot;evenodd&quot;, &quot;lineCap&quot;: &quot;round&quot;, &quot;lineJoin&quot;: &quot;round&quot;, &quot;opacity&quot;: 1.0, &quot;radius&quot;: 5, &quot;stroke&quot;: true, &quot;weight&quot;: 3}\n",
       "            ).addTo(map_93fd54de75ac8712b24d4c562f2f91ec);\n",
       "        \n",
       "    \n",
       "        var popup_1c56cccb3ee8f071f323aa2afd25996a = L.popup({\n",
       "  &quot;maxWidth&quot;: &quot;100%&quot;,\n",
       "});\n",
       "\n",
       "        \n",
       "            \n",
       "                var html_54ee4438651487e8ce120e9846f5a88a = $(`&lt;div id=&quot;html_54ee4438651487e8ce120e9846f5a88a&quot; style=&quot;width: 100.0%; height: 100.0%;&quot;&gt;CCAFS SLC 40 – True Ocean&lt;/div&gt;`)[0];\n",
       "                popup_1c56cccb3ee8f071f323aa2afd25996a.setContent(html_54ee4438651487e8ce120e9846f5a88a);\n",
       "            \n",
       "        \n",
       "\n",
       "        circle_marker_0d850108fd76ce7c8b19b1334d1db803.bindPopup(popup_1c56cccb3ee8f071f323aa2afd25996a)\n",
       "        ;\n",
       "\n",
       "        \n",
       "    \n",
       "    \n",
       "            var circle_marker_4315d7397201c46bc2313a50852ac1dc = L.circleMarker(\n",
       "                [28.5618571, -80.577366],\n",
       "                {&quot;bubblingMouseEvents&quot;: true, &quot;color&quot;: &quot;red&quot;, &quot;dashArray&quot;: null, &quot;dashOffset&quot;: null, &quot;fill&quot;: false, &quot;fillColor&quot;: &quot;red&quot;, &quot;fillOpacity&quot;: 0.2, &quot;fillRule&quot;: &quot;evenodd&quot;, &quot;lineCap&quot;: &quot;round&quot;, &quot;lineJoin&quot;: &quot;round&quot;, &quot;opacity&quot;: 1.0, &quot;radius&quot;: 5, &quot;stroke&quot;: true, &quot;weight&quot;: 3}\n",
       "            ).addTo(map_93fd54de75ac8712b24d4c562f2f91ec);\n",
       "        \n",
       "    \n",
       "        var popup_cf4c18cf6a3330b8f876409bdd0394f6 = L.popup({\n",
       "  &quot;maxWidth&quot;: &quot;100%&quot;,\n",
       "});\n",
       "\n",
       "        \n",
       "            \n",
       "                var html_3c6998691d1abd2e6769f9398aab5833 = $(`&lt;div id=&quot;html_3c6998691d1abd2e6769f9398aab5833&quot; style=&quot;width: 100.0%; height: 100.0%;&quot;&gt;CCAFS SLC 40 – None None&lt;/div&gt;`)[0];\n",
       "                popup_cf4c18cf6a3330b8f876409bdd0394f6.setContent(html_3c6998691d1abd2e6769f9398aab5833);\n",
       "            \n",
       "        \n",
       "\n",
       "        circle_marker_4315d7397201c46bc2313a50852ac1dc.bindPopup(popup_cf4c18cf6a3330b8f876409bdd0394f6)\n",
       "        ;\n",
       "\n",
       "        \n",
       "    \n",
       "    \n",
       "            var circle_marker_8cb34cc54eeacd97a0153463ebb54a8c = L.circleMarker(\n",
       "                [34.632093, -120.610829],\n",
       "                {&quot;bubblingMouseEvents&quot;: true, &quot;color&quot;: &quot;red&quot;, &quot;dashArray&quot;: null, &quot;dashOffset&quot;: null, &quot;fill&quot;: false, &quot;fillColor&quot;: &quot;red&quot;, &quot;fillOpacity&quot;: 0.2, &quot;fillRule&quot;: &quot;evenodd&quot;, &quot;lineCap&quot;: &quot;round&quot;, &quot;lineJoin&quot;: &quot;round&quot;, &quot;opacity&quot;: 1.0, &quot;radius&quot;: 5, &quot;stroke&quot;: true, &quot;weight&quot;: 3}\n",
       "            ).addTo(map_93fd54de75ac8712b24d4c562f2f91ec);\n",
       "        \n",
       "    \n",
       "        var popup_6e80cca58e00fbea8b45086bd124a7ce = L.popup({\n",
       "  &quot;maxWidth&quot;: &quot;100%&quot;,\n",
       "});\n",
       "\n",
       "        \n",
       "            \n",
       "                var html_7abf3b9050759ec0178f5fbb8de4c220 = $(`&lt;div id=&quot;html_7abf3b9050759ec0178f5fbb8de4c220&quot; style=&quot;width: 100.0%; height: 100.0%;&quot;&gt;VAFB SLC 4E – None None&lt;/div&gt;`)[0];\n",
       "                popup_6e80cca58e00fbea8b45086bd124a7ce.setContent(html_7abf3b9050759ec0178f5fbb8de4c220);\n",
       "            \n",
       "        \n",
       "\n",
       "        circle_marker_8cb34cc54eeacd97a0153463ebb54a8c.bindPopup(popup_6e80cca58e00fbea8b45086bd124a7ce)\n",
       "        ;\n",
       "\n",
       "        \n",
       "    \n",
       "    \n",
       "            var circle_marker_78e08aa2a07867357a8727fcc2da778d = L.circleMarker(\n",
       "                [28.5618571, -80.577366],\n",
       "                {&quot;bubblingMouseEvents&quot;: true, &quot;color&quot;: &quot;red&quot;, &quot;dashArray&quot;: null, &quot;dashOffset&quot;: null, &quot;fill&quot;: false, &quot;fillColor&quot;: &quot;red&quot;, &quot;fillOpacity&quot;: 0.2, &quot;fillRule&quot;: &quot;evenodd&quot;, &quot;lineCap&quot;: &quot;round&quot;, &quot;lineJoin&quot;: &quot;round&quot;, &quot;opacity&quot;: 1.0, &quot;radius&quot;: 5, &quot;stroke&quot;: true, &quot;weight&quot;: 3}\n",
       "            ).addTo(map_93fd54de75ac8712b24d4c562f2f91ec);\n",
       "        \n",
       "    \n",
       "        var popup_2675d3d2b639b2d4f818c49f1b8b800f = L.popup({\n",
       "  &quot;maxWidth&quot;: &quot;100%&quot;,\n",
       "});\n",
       "\n",
       "        \n",
       "            \n",
       "                var html_80e2e7145e75a025610f47e56ead1843 = $(`&lt;div id=&quot;html_80e2e7145e75a025610f47e56ead1843&quot; style=&quot;width: 100.0%; height: 100.0%;&quot;&gt;CCAFS SLC 40 – None None&lt;/div&gt;`)[0];\n",
       "                popup_2675d3d2b639b2d4f818c49f1b8b800f.setContent(html_80e2e7145e75a025610f47e56ead1843);\n",
       "            \n",
       "        \n",
       "\n",
       "        circle_marker_78e08aa2a07867357a8727fcc2da778d.bindPopup(popup_2675d3d2b639b2d4f818c49f1b8b800f)\n",
       "        ;\n",
       "\n",
       "        \n",
       "    \n",
       "    \n",
       "            var circle_marker_f8fd38eab175cbf7fbea01c076726a91 = L.circleMarker(\n",
       "                [28.5618571, -80.577366],\n",
       "                {&quot;bubblingMouseEvents&quot;: true, &quot;color&quot;: &quot;green&quot;, &quot;dashArray&quot;: null, &quot;dashOffset&quot;: null, &quot;fill&quot;: false, &quot;fillColor&quot;: &quot;green&quot;, &quot;fillOpacity&quot;: 0.2, &quot;fillRule&quot;: &quot;evenodd&quot;, &quot;lineCap&quot;: &quot;round&quot;, &quot;lineJoin&quot;: &quot;round&quot;, &quot;opacity&quot;: 1.0, &quot;radius&quot;: 5, &quot;stroke&quot;: true, &quot;weight&quot;: 3}\n",
       "            ).addTo(map_93fd54de75ac8712b24d4c562f2f91ec);\n",
       "        \n",
       "    \n",
       "        var popup_bc6445087d267c795b810925e0abae5d = L.popup({\n",
       "  &quot;maxWidth&quot;: &quot;100%&quot;,\n",
       "});\n",
       "\n",
       "        \n",
       "            \n",
       "                var html_ef6333d9be9796ff698da5bbedbffa9c = $(`&lt;div id=&quot;html_ef6333d9be9796ff698da5bbedbffa9c&quot; style=&quot;width: 100.0%; height: 100.0%;&quot;&gt;CCAFS SLC 40 – True ASDS&lt;/div&gt;`)[0];\n",
       "                popup_bc6445087d267c795b810925e0abae5d.setContent(html_ef6333d9be9796ff698da5bbedbffa9c);\n",
       "            \n",
       "        \n",
       "\n",
       "        circle_marker_f8fd38eab175cbf7fbea01c076726a91.bindPopup(popup_bc6445087d267c795b810925e0abae5d)\n",
       "        ;\n",
       "\n",
       "        \n",
       "    \n",
       "    \n",
       "            var circle_marker_49dfd1fd7fe2fc5443100826852f1f2e = L.circleMarker(\n",
       "                [28.6080585, -80.6039558],\n",
       "                {&quot;bubblingMouseEvents&quot;: true, &quot;color&quot;: &quot;green&quot;, &quot;dashArray&quot;: null, &quot;dashOffset&quot;: null, &quot;fill&quot;: false, &quot;fillColor&quot;: &quot;green&quot;, &quot;fillOpacity&quot;: 0.2, &quot;fillRule&quot;: &quot;evenodd&quot;, &quot;lineCap&quot;: &quot;round&quot;, &quot;lineJoin&quot;: &quot;round&quot;, &quot;opacity&quot;: 1.0, &quot;radius&quot;: 5, &quot;stroke&quot;: true, &quot;weight&quot;: 3}\n",
       "            ).addTo(map_93fd54de75ac8712b24d4c562f2f91ec);\n",
       "        \n",
       "    \n",
       "        var popup_cae0d602d5de0ead94a97c1158d56daa = L.popup({\n",
       "  &quot;maxWidth&quot;: &quot;100%&quot;,\n",
       "});\n",
       "\n",
       "        \n",
       "            \n",
       "                var html_680e93b9367e2158a607dcac71d84db6 = $(`&lt;div id=&quot;html_680e93b9367e2158a607dcac71d84db6&quot; style=&quot;width: 100.0%; height: 100.0%;&quot;&gt;KSC LC 39A – True ASDS&lt;/div&gt;`)[0];\n",
       "                popup_cae0d602d5de0ead94a97c1158d56daa.setContent(html_680e93b9367e2158a607dcac71d84db6);\n",
       "            \n",
       "        \n",
       "\n",
       "        circle_marker_49dfd1fd7fe2fc5443100826852f1f2e.bindPopup(popup_cae0d602d5de0ead94a97c1158d56daa)\n",
       "        ;\n",
       "\n",
       "        \n",
       "    \n",
       "    \n",
       "            var circle_marker_0b13227e092482137083ebf25b789960 = L.circleMarker(\n",
       "                [28.5618571, -80.577366],\n",
       "                {&quot;bubblingMouseEvents&quot;: true, &quot;color&quot;: &quot;red&quot;, &quot;dashArray&quot;: null, &quot;dashOffset&quot;: null, &quot;fill&quot;: false, &quot;fillColor&quot;: &quot;red&quot;, &quot;fillOpacity&quot;: 0.2, &quot;fillRule&quot;: &quot;evenodd&quot;, &quot;lineCap&quot;: &quot;round&quot;, &quot;lineJoin&quot;: &quot;round&quot;, &quot;opacity&quot;: 1.0, &quot;radius&quot;: 5, &quot;stroke&quot;: true, &quot;weight&quot;: 3}\n",
       "            ).addTo(map_93fd54de75ac8712b24d4c562f2f91ec);\n",
       "        \n",
       "    \n",
       "        var popup_d0dc452d458b70f14c12e518dfbbed97 = L.popup({\n",
       "  &quot;maxWidth&quot;: &quot;100%&quot;,\n",
       "});\n",
       "\n",
       "        \n",
       "            \n",
       "                var html_f82f08f4c4a27df8f0273399319c1394 = $(`&lt;div id=&quot;html_f82f08f4c4a27df8f0273399319c1394&quot; style=&quot;width: 100.0%; height: 100.0%;&quot;&gt;CCAFS SLC 40 – None None&lt;/div&gt;`)[0];\n",
       "                popup_d0dc452d458b70f14c12e518dfbbed97.setContent(html_f82f08f4c4a27df8f0273399319c1394);\n",
       "            \n",
       "        \n",
       "\n",
       "        circle_marker_0b13227e092482137083ebf25b789960.bindPopup(popup_d0dc452d458b70f14c12e518dfbbed97)\n",
       "        ;\n",
       "\n",
       "        \n",
       "    \n",
       "    \n",
       "            var circle_marker_20698fde986c2bac70a22a6f9ab529b7 = L.circleMarker(\n",
       "                [28.5618571, -80.577366],\n",
       "                {&quot;bubblingMouseEvents&quot;: true, &quot;color&quot;: &quot;red&quot;, &quot;dashArray&quot;: null, &quot;dashOffset&quot;: null, &quot;fill&quot;: false, &quot;fillColor&quot;: &quot;red&quot;, &quot;fillOpacity&quot;: 0.2, &quot;fillRule&quot;: &quot;evenodd&quot;, &quot;lineCap&quot;: &quot;round&quot;, &quot;lineJoin&quot;: &quot;round&quot;, &quot;opacity&quot;: 1.0, &quot;radius&quot;: 5, &quot;stroke&quot;: true, &quot;weight&quot;: 3}\n",
       "            ).addTo(map_93fd54de75ac8712b24d4c562f2f91ec);\n",
       "        \n",
       "    \n",
       "        var popup_7409b3fcc86ba5315c1facd6634659ee = L.popup({\n",
       "  &quot;maxWidth&quot;: &quot;100%&quot;,\n",
       "});\n",
       "\n",
       "        \n",
       "            \n",
       "                var html_3b90b8e309c4593e1702359c21c14ba9 = $(`&lt;div id=&quot;html_3b90b8e309c4593e1702359c21c14ba9&quot; style=&quot;width: 100.0%; height: 100.0%;&quot;&gt;CCAFS SLC 40 – None None&lt;/div&gt;`)[0];\n",
       "                popup_7409b3fcc86ba5315c1facd6634659ee.setContent(html_3b90b8e309c4593e1702359c21c14ba9);\n",
       "            \n",
       "        \n",
       "\n",
       "        circle_marker_20698fde986c2bac70a22a6f9ab529b7.bindPopup(popup_7409b3fcc86ba5315c1facd6634659ee)\n",
       "        ;\n",
       "\n",
       "        \n",
       "    \n",
       "    \n",
       "            var circle_marker_0b334e2594dafdd2a3145b59007e47f2 = L.circleMarker(\n",
       "                [28.5618571, -80.577366],\n",
       "                {&quot;bubblingMouseEvents&quot;: true, &quot;color&quot;: &quot;green&quot;, &quot;dashArray&quot;: null, &quot;dashOffset&quot;: null, &quot;fill&quot;: false, &quot;fillColor&quot;: &quot;green&quot;, &quot;fillOpacity&quot;: 0.2, &quot;fillRule&quot;: &quot;evenodd&quot;, &quot;lineCap&quot;: &quot;round&quot;, &quot;lineJoin&quot;: &quot;round&quot;, &quot;opacity&quot;: 1.0, &quot;radius&quot;: 5, &quot;stroke&quot;: true, &quot;weight&quot;: 3}\n",
       "            ).addTo(map_93fd54de75ac8712b24d4c562f2f91ec);\n",
       "        \n",
       "    \n",
       "        var popup_d5b0b0b77bbb0bd85b31461d7e2de2e1 = L.popup({\n",
       "  &quot;maxWidth&quot;: &quot;100%&quot;,\n",
       "});\n",
       "\n",
       "        \n",
       "            \n",
       "                var html_759aa88ac3f153d53e19c74e358267e1 = $(`&lt;div id=&quot;html_759aa88ac3f153d53e19c74e358267e1&quot; style=&quot;width: 100.0%; height: 100.0%;&quot;&gt;CCAFS SLC 40 – True ASDS&lt;/div&gt;`)[0];\n",
       "                popup_d5b0b0b77bbb0bd85b31461d7e2de2e1.setContent(html_759aa88ac3f153d53e19c74e358267e1);\n",
       "            \n",
       "        \n",
       "\n",
       "        circle_marker_0b334e2594dafdd2a3145b59007e47f2.bindPopup(popup_d5b0b0b77bbb0bd85b31461d7e2de2e1)\n",
       "        ;\n",
       "\n",
       "        \n",
       "    \n",
       "    \n",
       "            var circle_marker_cf56d31a54cc3aa37c875233292effdb = L.circleMarker(\n",
       "                [34.632093, -120.610829],\n",
       "                {&quot;bubblingMouseEvents&quot;: true, &quot;color&quot;: &quot;green&quot;, &quot;dashArray&quot;: null, &quot;dashOffset&quot;: null, &quot;fill&quot;: false, &quot;fillColor&quot;: &quot;green&quot;, &quot;fillOpacity&quot;: 0.2, &quot;fillRule&quot;: &quot;evenodd&quot;, &quot;lineCap&quot;: &quot;round&quot;, &quot;lineJoin&quot;: &quot;round&quot;, &quot;opacity&quot;: 1.0, &quot;radius&quot;: 5, &quot;stroke&quot;: true, &quot;weight&quot;: 3}\n",
       "            ).addTo(map_93fd54de75ac8712b24d4c562f2f91ec);\n",
       "        \n",
       "    \n",
       "        var popup_abcaea798f66fb19e22563b60814e4b9 = L.popup({\n",
       "  &quot;maxWidth&quot;: &quot;100%&quot;,\n",
       "});\n",
       "\n",
       "        \n",
       "            \n",
       "                var html_7a7fb5f93f9ba4ce6ca6934551a52043 = $(`&lt;div id=&quot;html_7a7fb5f93f9ba4ce6ca6934551a52043&quot; style=&quot;width: 100.0%; height: 100.0%;&quot;&gt;VAFB SLC 4E – True ASDS&lt;/div&gt;`)[0];\n",
       "                popup_abcaea798f66fb19e22563b60814e4b9.setContent(html_7a7fb5f93f9ba4ce6ca6934551a52043);\n",
       "            \n",
       "        \n",
       "\n",
       "        circle_marker_cf56d31a54cc3aa37c875233292effdb.bindPopup(popup_abcaea798f66fb19e22563b60814e4b9)\n",
       "        ;\n",
       "\n",
       "        \n",
       "    \n",
       "    \n",
       "            var circle_marker_205364a55fac41a040a0b90baa96ec6e = L.circleMarker(\n",
       "                [28.5618571, -80.577366],\n",
       "                {&quot;bubblingMouseEvents&quot;: true, &quot;color&quot;: &quot;green&quot;, &quot;dashArray&quot;: null, &quot;dashOffset&quot;: null, &quot;fill&quot;: false, &quot;fillColor&quot;: &quot;green&quot;, &quot;fillOpacity&quot;: 0.2, &quot;fillRule&quot;: &quot;evenodd&quot;, &quot;lineCap&quot;: &quot;round&quot;, &quot;lineJoin&quot;: &quot;round&quot;, &quot;opacity&quot;: 1.0, &quot;radius&quot;: 5, &quot;stroke&quot;: true, &quot;weight&quot;: 3}\n",
       "            ).addTo(map_93fd54de75ac8712b24d4c562f2f91ec);\n",
       "        \n",
       "    \n",
       "        var popup_df8263cd4ffbd174b4914cdc8bcf78ab = L.popup({\n",
       "  &quot;maxWidth&quot;: &quot;100%&quot;,\n",
       "});\n",
       "\n",
       "        \n",
       "            \n",
       "                var html_d40bdb568b36935af2effb9441e35240 = $(`&lt;div id=&quot;html_d40bdb568b36935af2effb9441e35240&quot; style=&quot;width: 100.0%; height: 100.0%;&quot;&gt;CCAFS SLC 40 – True ASDS&lt;/div&gt;`)[0];\n",
       "                popup_df8263cd4ffbd174b4914cdc8bcf78ab.setContent(html_d40bdb568b36935af2effb9441e35240);\n",
       "            \n",
       "        \n",
       "\n",
       "        circle_marker_205364a55fac41a040a0b90baa96ec6e.bindPopup(popup_df8263cd4ffbd174b4914cdc8bcf78ab)\n",
       "        ;\n",
       "\n",
       "        \n",
       "    \n",
       "    \n",
       "            var circle_marker_087cbcfd350a49acd7ba497f057a202f = L.circleMarker(\n",
       "                [28.5618571, -80.577366],\n",
       "                {&quot;bubblingMouseEvents&quot;: true, &quot;color&quot;: &quot;green&quot;, &quot;dashArray&quot;: null, &quot;dashOffset&quot;: null, &quot;fill&quot;: false, &quot;fillColor&quot;: &quot;green&quot;, &quot;fillOpacity&quot;: 0.2, &quot;fillRule&quot;: &quot;evenodd&quot;, &quot;lineCap&quot;: &quot;round&quot;, &quot;lineJoin&quot;: &quot;round&quot;, &quot;opacity&quot;: 1.0, &quot;radius&quot;: 5, &quot;stroke&quot;: true, &quot;weight&quot;: 3}\n",
       "            ).addTo(map_93fd54de75ac8712b24d4c562f2f91ec);\n",
       "        \n",
       "    \n",
       "        var popup_154b8bc89e87c24979c19402dae032d5 = L.popup({\n",
       "  &quot;maxWidth&quot;: &quot;100%&quot;,\n",
       "});\n",
       "\n",
       "        \n",
       "            \n",
       "                var html_30b6e36a98bc1f52dcc3ef68f475507e = $(`&lt;div id=&quot;html_30b6e36a98bc1f52dcc3ef68f475507e&quot; style=&quot;width: 100.0%; height: 100.0%;&quot;&gt;CCAFS SLC 40 – True ASDS&lt;/div&gt;`)[0];\n",
       "                popup_154b8bc89e87c24979c19402dae032d5.setContent(html_30b6e36a98bc1f52dcc3ef68f475507e);\n",
       "            \n",
       "        \n",
       "\n",
       "        circle_marker_087cbcfd350a49acd7ba497f057a202f.bindPopup(popup_154b8bc89e87c24979c19402dae032d5)\n",
       "        ;\n",
       "\n",
       "        \n",
       "    \n",
       "    \n",
       "            var circle_marker_4738037d1cb69d7ac5d017cf1b8a145c = L.circleMarker(\n",
       "                [34.632093, -120.610829],\n",
       "                {&quot;bubblingMouseEvents&quot;: true, &quot;color&quot;: &quot;green&quot;, &quot;dashArray&quot;: null, &quot;dashOffset&quot;: null, &quot;fill&quot;: false, &quot;fillColor&quot;: &quot;green&quot;, &quot;fillOpacity&quot;: 0.2, &quot;fillRule&quot;: &quot;evenodd&quot;, &quot;lineCap&quot;: &quot;round&quot;, &quot;lineJoin&quot;: &quot;round&quot;, &quot;opacity&quot;: 1.0, &quot;radius&quot;: 5, &quot;stroke&quot;: true, &quot;weight&quot;: 3}\n",
       "            ).addTo(map_93fd54de75ac8712b24d4c562f2f91ec);\n",
       "        \n",
       "    \n",
       "        var popup_434ebe4ea63db112b5684b2d6d76c787 = L.popup({\n",
       "  &quot;maxWidth&quot;: &quot;100%&quot;,\n",
       "});\n",
       "\n",
       "        \n",
       "            \n",
       "                var html_d9bd2006daa3865d619d66f01646b4c4 = $(`&lt;div id=&quot;html_d9bd2006daa3865d619d66f01646b4c4&quot; style=&quot;width: 100.0%; height: 100.0%;&quot;&gt;VAFB SLC 4E – True RTLS&lt;/div&gt;`)[0];\n",
       "                popup_434ebe4ea63db112b5684b2d6d76c787.setContent(html_d9bd2006daa3865d619d66f01646b4c4);\n",
       "            \n",
       "        \n",
       "\n",
       "        circle_marker_4738037d1cb69d7ac5d017cf1b8a145c.bindPopup(popup_434ebe4ea63db112b5684b2d6d76c787)\n",
       "        ;\n",
       "\n",
       "        \n",
       "    \n",
       "    \n",
       "            var circle_marker_823e7fc015a96dfd4f959861927a5145 = L.circleMarker(\n",
       "                [28.6080585, -80.6039558],\n",
       "                {&quot;bubblingMouseEvents&quot;: true, &quot;color&quot;: &quot;green&quot;, &quot;dashArray&quot;: null, &quot;dashOffset&quot;: null, &quot;fill&quot;: false, &quot;fillColor&quot;: &quot;green&quot;, &quot;fillOpacity&quot;: 0.2, &quot;fillRule&quot;: &quot;evenodd&quot;, &quot;lineCap&quot;: &quot;round&quot;, &quot;lineJoin&quot;: &quot;round&quot;, &quot;opacity&quot;: 1.0, &quot;radius&quot;: 5, &quot;stroke&quot;: true, &quot;weight&quot;: 3}\n",
       "            ).addTo(map_93fd54de75ac8712b24d4c562f2f91ec);\n",
       "        \n",
       "    \n",
       "        var popup_6d38b93c5bd858c07f3ee973989d3d1f = L.popup({\n",
       "  &quot;maxWidth&quot;: &quot;100%&quot;,\n",
       "});\n",
       "\n",
       "        \n",
       "            \n",
       "                var html_16adff7993ed964cf73802ec5989a184 = $(`&lt;div id=&quot;html_16adff7993ed964cf73802ec5989a184&quot; style=&quot;width: 100.0%; height: 100.0%;&quot;&gt;KSC LC 39A – True ASDS&lt;/div&gt;`)[0];\n",
       "                popup_6d38b93c5bd858c07f3ee973989d3d1f.setContent(html_16adff7993ed964cf73802ec5989a184);\n",
       "            \n",
       "        \n",
       "\n",
       "        circle_marker_823e7fc015a96dfd4f959861927a5145.bindPopup(popup_6d38b93c5bd858c07f3ee973989d3d1f)\n",
       "        ;\n",
       "\n",
       "        \n",
       "    \n",
       "    \n",
       "            var circle_marker_2b5930f16a84688ba8d120ce4868bf81 = L.circleMarker(\n",
       "                [34.632093, -120.610829],\n",
       "                {&quot;bubblingMouseEvents&quot;: true, &quot;color&quot;: &quot;green&quot;, &quot;dashArray&quot;: null, &quot;dashOffset&quot;: null, &quot;fill&quot;: false, &quot;fillColor&quot;: &quot;green&quot;, &quot;fillOpacity&quot;: 0.2, &quot;fillRule&quot;: &quot;evenodd&quot;, &quot;lineCap&quot;: &quot;round&quot;, &quot;lineJoin&quot;: &quot;round&quot;, &quot;opacity&quot;: 1.0, &quot;radius&quot;: 5, &quot;stroke&quot;: true, &quot;weight&quot;: 3}\n",
       "            ).addTo(map_93fd54de75ac8712b24d4c562f2f91ec);\n",
       "        \n",
       "    \n",
       "        var popup_0d8dc73dddbae2045645f5a510b6f917 = L.popup({\n",
       "  &quot;maxWidth&quot;: &quot;100%&quot;,\n",
       "});\n",
       "\n",
       "        \n",
       "            \n",
       "                var html_7ea99bc80a05060498a2a54e04b80518 = $(`&lt;div id=&quot;html_7ea99bc80a05060498a2a54e04b80518&quot; style=&quot;width: 100.0%; height: 100.0%;&quot;&gt;VAFB SLC 4E – True ASDS&lt;/div&gt;`)[0];\n",
       "                popup_0d8dc73dddbae2045645f5a510b6f917.setContent(html_7ea99bc80a05060498a2a54e04b80518);\n",
       "            \n",
       "        \n",
       "\n",
       "        circle_marker_2b5930f16a84688ba8d120ce4868bf81.bindPopup(popup_0d8dc73dddbae2045645f5a510b6f917)\n",
       "        ;\n",
       "\n",
       "        \n",
       "    \n",
       "    \n",
       "            var circle_marker_72c20d3116ac9fcc36fb1edd5013084d = L.circleMarker(\n",
       "                [28.5618571, -80.577366],\n",
       "                {&quot;bubblingMouseEvents&quot;: true, &quot;color&quot;: &quot;red&quot;, &quot;dashArray&quot;: null, &quot;dashOffset&quot;: null, &quot;fill&quot;: false, &quot;fillColor&quot;: &quot;red&quot;, &quot;fillOpacity&quot;: 0.2, &quot;fillRule&quot;: &quot;evenodd&quot;, &quot;lineCap&quot;: &quot;round&quot;, &quot;lineJoin&quot;: &quot;round&quot;, &quot;opacity&quot;: 1.0, &quot;radius&quot;: 5, &quot;stroke&quot;: true, &quot;weight&quot;: 3}\n",
       "            ).addTo(map_93fd54de75ac8712b24d4c562f2f91ec);\n",
       "        \n",
       "    \n",
       "        var popup_bba92ec966f07401014be0c814721e1c = L.popup({\n",
       "  &quot;maxWidth&quot;: &quot;100%&quot;,\n",
       "});\n",
       "\n",
       "        \n",
       "            \n",
       "                var html_324077a6ee451bd1625dd922fdd5aebf = $(`&lt;div id=&quot;html_324077a6ee451bd1625dd922fdd5aebf&quot; style=&quot;width: 100.0%; height: 100.0%;&quot;&gt;CCAFS SLC 40 – False RTLS&lt;/div&gt;`)[0];\n",
       "                popup_bba92ec966f07401014be0c814721e1c.setContent(html_324077a6ee451bd1625dd922fdd5aebf);\n",
       "            \n",
       "        \n",
       "\n",
       "        circle_marker_72c20d3116ac9fcc36fb1edd5013084d.bindPopup(popup_bba92ec966f07401014be0c814721e1c)\n",
       "        ;\n",
       "\n",
       "        \n",
       "    \n",
       "    \n",
       "            var circle_marker_3decf3a74fd93fbb90280e2920aaba59 = L.circleMarker(\n",
       "                [28.5618571, -80.577366],\n",
       "                {&quot;bubblingMouseEvents&quot;: true, &quot;color&quot;: &quot;red&quot;, &quot;dashArray&quot;: null, &quot;dashOffset&quot;: null, &quot;fill&quot;: false, &quot;fillColor&quot;: &quot;red&quot;, &quot;fillOpacity&quot;: 0.2, &quot;fillRule&quot;: &quot;evenodd&quot;, &quot;lineCap&quot;: &quot;round&quot;, &quot;lineJoin&quot;: &quot;round&quot;, &quot;opacity&quot;: 1.0, &quot;radius&quot;: 5, &quot;stroke&quot;: true, &quot;weight&quot;: 3}\n",
       "            ).addTo(map_93fd54de75ac8712b24d4c562f2f91ec);\n",
       "        \n",
       "    \n",
       "        var popup_874279a72f8c978657b6bd376e8d1369 = L.popup({\n",
       "  &quot;maxWidth&quot;: &quot;100%&quot;,\n",
       "});\n",
       "\n",
       "        \n",
       "            \n",
       "                var html_81114be1cd289e6fb27af3765f10d053 = $(`&lt;div id=&quot;html_81114be1cd289e6fb27af3765f10d053&quot; style=&quot;width: 100.0%; height: 100.0%;&quot;&gt;CCAFS SLC 40 – None None&lt;/div&gt;`)[0];\n",
       "                popup_874279a72f8c978657b6bd376e8d1369.setContent(html_81114be1cd289e6fb27af3765f10d053);\n",
       "            \n",
       "        \n",
       "\n",
       "        circle_marker_3decf3a74fd93fbb90280e2920aaba59.bindPopup(popup_874279a72f8c978657b6bd376e8d1369)\n",
       "        ;\n",
       "\n",
       "        \n",
       "    \n",
       "    \n",
       "            var circle_marker_96f9d25c9319cc667312afb3d438d439 = L.circleMarker(\n",
       "                [34.632093, -120.610829],\n",
       "                {&quot;bubblingMouseEvents&quot;: true, &quot;color&quot;: &quot;green&quot;, &quot;dashArray&quot;: null, &quot;dashOffset&quot;: null, &quot;fill&quot;: false, &quot;fillColor&quot;: &quot;green&quot;, &quot;fillOpacity&quot;: 0.2, &quot;fillRule&quot;: &quot;evenodd&quot;, &quot;lineCap&quot;: &quot;round&quot;, &quot;lineJoin&quot;: &quot;round&quot;, &quot;opacity&quot;: 1.0, &quot;radius&quot;: 5, &quot;stroke&quot;: true, &quot;weight&quot;: 3}\n",
       "            ).addTo(map_93fd54de75ac8712b24d4c562f2f91ec);\n",
       "        \n",
       "    \n",
       "        var popup_600da8da0e160703fe8af47102c6f3f5 = L.popup({\n",
       "  &quot;maxWidth&quot;: &quot;100%&quot;,\n",
       "});\n",
       "\n",
       "        \n",
       "            \n",
       "                var html_c634f05914c9f39cebde647ad9112b14 = $(`&lt;div id=&quot;html_c634f05914c9f39cebde647ad9112b14&quot; style=&quot;width: 100.0%; height: 100.0%;&quot;&gt;VAFB SLC 4E – True ASDS&lt;/div&gt;`)[0];\n",
       "                popup_600da8da0e160703fe8af47102c6f3f5.setContent(html_c634f05914c9f39cebde647ad9112b14);\n",
       "            \n",
       "        \n",
       "\n",
       "        circle_marker_96f9d25c9319cc667312afb3d438d439.bindPopup(popup_600da8da0e160703fe8af47102c6f3f5)\n",
       "        ;\n",
       "\n",
       "        \n",
       "    \n",
       "    \n",
       "            var circle_marker_68f332d54eb18e81c1acf85530361a92 = L.circleMarker(\n",
       "                [28.6080585, -80.6039558],\n",
       "                {&quot;bubblingMouseEvents&quot;: true, &quot;color&quot;: &quot;green&quot;, &quot;dashArray&quot;: null, &quot;dashOffset&quot;: null, &quot;fill&quot;: false, &quot;fillColor&quot;: &quot;green&quot;, &quot;fillOpacity&quot;: 0.2, &quot;fillRule&quot;: &quot;evenodd&quot;, &quot;lineCap&quot;: &quot;round&quot;, &quot;lineJoin&quot;: &quot;round&quot;, &quot;opacity&quot;: 1.0, &quot;radius&quot;: 5, &quot;stroke&quot;: true, &quot;weight&quot;: 3}\n",
       "            ).addTo(map_93fd54de75ac8712b24d4c562f2f91ec);\n",
       "        \n",
       "    \n",
       "        var popup_fe0147f182c65e45a5fbb8a97ce5354d = L.popup({\n",
       "  &quot;maxWidth&quot;: &quot;100%&quot;,\n",
       "});\n",
       "\n",
       "        \n",
       "            \n",
       "                var html_10a73b90f99e08022ea493879a349dca = $(`&lt;div id=&quot;html_10a73b90f99e08022ea493879a349dca&quot; style=&quot;width: 100.0%; height: 100.0%;&quot;&gt;KSC LC 39A – True ASDS&lt;/div&gt;`)[0];\n",
       "                popup_fe0147f182c65e45a5fbb8a97ce5354d.setContent(html_10a73b90f99e08022ea493879a349dca);\n",
       "            \n",
       "        \n",
       "\n",
       "        circle_marker_68f332d54eb18e81c1acf85530361a92.bindPopup(popup_fe0147f182c65e45a5fbb8a97ce5354d)\n",
       "        ;\n",
       "\n",
       "        \n",
       "    \n",
       "    \n",
       "            var circle_marker_60ff67fcc289feaaf6cb2ae0cf86e2fa = L.circleMarker(\n",
       "                [28.5618571, -80.577366],\n",
       "                {&quot;bubblingMouseEvents&quot;: true, &quot;color&quot;: &quot;green&quot;, &quot;dashArray&quot;: null, &quot;dashOffset&quot;: null, &quot;fill&quot;: false, &quot;fillColor&quot;: &quot;green&quot;, &quot;fillOpacity&quot;: 0.2, &quot;fillRule&quot;: &quot;evenodd&quot;, &quot;lineCap&quot;: &quot;round&quot;, &quot;lineJoin&quot;: &quot;round&quot;, &quot;opacity&quot;: 1.0, &quot;radius&quot;: 5, &quot;stroke&quot;: true, &quot;weight&quot;: 3}\n",
       "            ).addTo(map_93fd54de75ac8712b24d4c562f2f91ec);\n",
       "        \n",
       "    \n",
       "        var popup_afe7d49f28817e68a326332ec63015a7 = L.popup({\n",
       "  &quot;maxWidth&quot;: &quot;100%&quot;,\n",
       "});\n",
       "\n",
       "        \n",
       "            \n",
       "                var html_98680ff7108f576cd24c706ce533e16f = $(`&lt;div id=&quot;html_98680ff7108f576cd24c706ce533e16f&quot; style=&quot;width: 100.0%; height: 100.0%;&quot;&gt;CCAFS SLC 40 – True ASDS&lt;/div&gt;`)[0];\n",
       "                popup_afe7d49f28817e68a326332ec63015a7.setContent(html_98680ff7108f576cd24c706ce533e16f);\n",
       "            \n",
       "        \n",
       "\n",
       "        circle_marker_60ff67fcc289feaaf6cb2ae0cf86e2fa.bindPopup(popup_afe7d49f28817e68a326332ec63015a7)\n",
       "        ;\n",
       "\n",
       "        \n",
       "    \n",
       "    \n",
       "            var circle_marker_dd5c0ac32b8508bf6d4fb4e537e30877 = L.circleMarker(\n",
       "                [28.5618571, -80.577366],\n",
       "                {&quot;bubblingMouseEvents&quot;: true, &quot;color&quot;: &quot;green&quot;, &quot;dashArray&quot;: null, &quot;dashOffset&quot;: null, &quot;fill&quot;: false, &quot;fillColor&quot;: &quot;green&quot;, &quot;fillOpacity&quot;: 0.2, &quot;fillRule&quot;: &quot;evenodd&quot;, &quot;lineCap&quot;: &quot;round&quot;, &quot;lineJoin&quot;: &quot;round&quot;, &quot;opacity&quot;: 1.0, &quot;radius&quot;: 5, &quot;stroke&quot;: true, &quot;weight&quot;: 3}\n",
       "            ).addTo(map_93fd54de75ac8712b24d4c562f2f91ec);\n",
       "        \n",
       "    \n",
       "        var popup_19fefe06f7fbca9a8cc1a245f1a83932 = L.popup({\n",
       "  &quot;maxWidth&quot;: &quot;100%&quot;,\n",
       "});\n",
       "\n",
       "        \n",
       "            \n",
       "                var html_90a084c739d7915a687faec61a04ee5d = $(`&lt;div id=&quot;html_90a084c739d7915a687faec61a04ee5d&quot; style=&quot;width: 100.0%; height: 100.0%;&quot;&gt;CCAFS SLC 40 – True ASDS&lt;/div&gt;`)[0];\n",
       "                popup_19fefe06f7fbca9a8cc1a245f1a83932.setContent(html_90a084c739d7915a687faec61a04ee5d);\n",
       "            \n",
       "        \n",
       "\n",
       "        circle_marker_dd5c0ac32b8508bf6d4fb4e537e30877.bindPopup(popup_19fefe06f7fbca9a8cc1a245f1a83932)\n",
       "        ;\n",
       "\n",
       "        \n",
       "    \n",
       "    \n",
       "            var circle_marker_cfe720c35ee1355b03b8581f2703a4c5 = L.circleMarker(\n",
       "                [34.632093, -120.610829],\n",
       "                {&quot;bubblingMouseEvents&quot;: true, &quot;color&quot;: &quot;green&quot;, &quot;dashArray&quot;: null, &quot;dashOffset&quot;: null, &quot;fill&quot;: false, &quot;fillColor&quot;: &quot;green&quot;, &quot;fillOpacity&quot;: 0.2, &quot;fillRule&quot;: &quot;evenodd&quot;, &quot;lineCap&quot;: &quot;round&quot;, &quot;lineJoin&quot;: &quot;round&quot;, &quot;opacity&quot;: 1.0, &quot;radius&quot;: 5, &quot;stroke&quot;: true, &quot;weight&quot;: 3}\n",
       "            ).addTo(map_93fd54de75ac8712b24d4c562f2f91ec);\n",
       "        \n",
       "    \n",
       "        var popup_01d8228f495e6442211a56afb38f26cc = L.popup({\n",
       "  &quot;maxWidth&quot;: &quot;100%&quot;,\n",
       "});\n",
       "\n",
       "        \n",
       "            \n",
       "                var html_d2a8d95ddc9b19a9d91a138094dde767 = $(`&lt;div id=&quot;html_d2a8d95ddc9b19a9d91a138094dde767&quot; style=&quot;width: 100.0%; height: 100.0%;&quot;&gt;VAFB SLC 4E – True RTLS&lt;/div&gt;`)[0];\n",
       "                popup_01d8228f495e6442211a56afb38f26cc.setContent(html_d2a8d95ddc9b19a9d91a138094dde767);\n",
       "            \n",
       "        \n",
       "\n",
       "        circle_marker_cfe720c35ee1355b03b8581f2703a4c5.bindPopup(popup_01d8228f495e6442211a56afb38f26cc)\n",
       "        ;\n",
       "\n",
       "        \n",
       "    \n",
       "    \n",
       "            var circle_marker_0ee65043119ee3ee856f4d18e6b6e961 = L.circleMarker(\n",
       "                [28.5618571, -80.577366],\n",
       "                {&quot;bubblingMouseEvents&quot;: true, &quot;color&quot;: &quot;green&quot;, &quot;dashArray&quot;: null, &quot;dashOffset&quot;: null, &quot;fill&quot;: false, &quot;fillColor&quot;: &quot;green&quot;, &quot;fillOpacity&quot;: 0.2, &quot;fillRule&quot;: &quot;evenodd&quot;, &quot;lineCap&quot;: &quot;round&quot;, &quot;lineJoin&quot;: &quot;round&quot;, &quot;opacity&quot;: 1.0, &quot;radius&quot;: 5, &quot;stroke&quot;: true, &quot;weight&quot;: 3}\n",
       "            ).addTo(map_93fd54de75ac8712b24d4c562f2f91ec);\n",
       "        \n",
       "    \n",
       "        var popup_eb325a0be88803e1b47d24504c16963d = L.popup({\n",
       "  &quot;maxWidth&quot;: &quot;100%&quot;,\n",
       "});\n",
       "\n",
       "        \n",
       "            \n",
       "                var html_5ea8d77703b1713cfe4699ff2df0bd5f = $(`&lt;div id=&quot;html_5ea8d77703b1713cfe4699ff2df0bd5f&quot; style=&quot;width: 100.0%; height: 100.0%;&quot;&gt;CCAFS SLC 40 – True RTLS&lt;/div&gt;`)[0];\n",
       "                popup_eb325a0be88803e1b47d24504c16963d.setContent(html_5ea8d77703b1713cfe4699ff2df0bd5f);\n",
       "            \n",
       "        \n",
       "\n",
       "        circle_marker_0ee65043119ee3ee856f4d18e6b6e961.bindPopup(popup_eb325a0be88803e1b47d24504c16963d)\n",
       "        ;\n",
       "\n",
       "        \n",
       "    \n",
       "    \n",
       "            var circle_marker_a5c7022a87416230e543f80f0e2d3553 = L.circleMarker(\n",
       "                [28.5618571, -80.577366],\n",
       "                {&quot;bubblingMouseEvents&quot;: true, &quot;color&quot;: &quot;red&quot;, &quot;dashArray&quot;: null, &quot;dashOffset&quot;: null, &quot;fill&quot;: false, &quot;fillColor&quot;: &quot;red&quot;, &quot;fillOpacity&quot;: 0.2, &quot;fillRule&quot;: &quot;evenodd&quot;, &quot;lineCap&quot;: &quot;round&quot;, &quot;lineJoin&quot;: &quot;round&quot;, &quot;opacity&quot;: 1.0, &quot;radius&quot;: 5, &quot;stroke&quot;: true, &quot;weight&quot;: 3}\n",
       "            ).addTo(map_93fd54de75ac8712b24d4c562f2f91ec);\n",
       "        \n",
       "    \n",
       "        var popup_9e749ddc503cfb537ac2e40f335a427a = L.popup({\n",
       "  &quot;maxWidth&quot;: &quot;100%&quot;,\n",
       "});\n",
       "\n",
       "        \n",
       "            \n",
       "                var html_3e5a6fd40ed459a5f4d4846a097f36be = $(`&lt;div id=&quot;html_3e5a6fd40ed459a5f4d4846a097f36be&quot; style=&quot;width: 100.0%; height: 100.0%;&quot;&gt;CCAFS SLC 40 – None None&lt;/div&gt;`)[0];\n",
       "                popup_9e749ddc503cfb537ac2e40f335a427a.setContent(html_3e5a6fd40ed459a5f4d4846a097f36be);\n",
       "            \n",
       "        \n",
       "\n",
       "        circle_marker_a5c7022a87416230e543f80f0e2d3553.bindPopup(popup_9e749ddc503cfb537ac2e40f335a427a)\n",
       "        ;\n",
       "\n",
       "        \n",
       "    \n",
       "    \n",
       "            var circle_marker_01db1e2a4fbc684e169e92469f77a285 = L.circleMarker(\n",
       "                [28.5618571, -80.577366],\n",
       "                {&quot;bubblingMouseEvents&quot;: true, &quot;color&quot;: &quot;green&quot;, &quot;dashArray&quot;: null, &quot;dashOffset&quot;: null, &quot;fill&quot;: false, &quot;fillColor&quot;: &quot;green&quot;, &quot;fillOpacity&quot;: 0.2, &quot;fillRule&quot;: &quot;evenodd&quot;, &quot;lineCap&quot;: &quot;round&quot;, &quot;lineJoin&quot;: &quot;round&quot;, &quot;opacity&quot;: 1.0, &quot;radius&quot;: 5, &quot;stroke&quot;: true, &quot;weight&quot;: 3}\n",
       "            ).addTo(map_93fd54de75ac8712b24d4c562f2f91ec);\n",
       "        \n",
       "    \n",
       "        var popup_5eada109ea6133b4e244c02901660f1d = L.popup({\n",
       "  &quot;maxWidth&quot;: &quot;100%&quot;,\n",
       "});\n",
       "\n",
       "        \n",
       "            \n",
       "                var html_8a63bb509310f28e4ed99137ec0b2801 = $(`&lt;div id=&quot;html_8a63bb509310f28e4ed99137ec0b2801&quot; style=&quot;width: 100.0%; height: 100.0%;&quot;&gt;CCAFS SLC 40 – True ASDS&lt;/div&gt;`)[0];\n",
       "                popup_5eada109ea6133b4e244c02901660f1d.setContent(html_8a63bb509310f28e4ed99137ec0b2801);\n",
       "            \n",
       "        \n",
       "\n",
       "        circle_marker_01db1e2a4fbc684e169e92469f77a285.bindPopup(popup_5eada109ea6133b4e244c02901660f1d)\n",
       "        ;\n",
       "\n",
       "        \n",
       "    \n",
       "    \n",
       "            var circle_marker_1945cc1ad43292c14955797a1c05741d = L.circleMarker(\n",
       "                [28.5618571, -80.577366],\n",
       "                {&quot;bubblingMouseEvents&quot;: true, &quot;color&quot;: &quot;green&quot;, &quot;dashArray&quot;: null, &quot;dashOffset&quot;: null, &quot;fill&quot;: false, &quot;fillColor&quot;: &quot;green&quot;, &quot;fillOpacity&quot;: 0.2, &quot;fillRule&quot;: &quot;evenodd&quot;, &quot;lineCap&quot;: &quot;round&quot;, &quot;lineJoin&quot;: &quot;round&quot;, &quot;opacity&quot;: 1.0, &quot;radius&quot;: 5, &quot;stroke&quot;: true, &quot;weight&quot;: 3}\n",
       "            ).addTo(map_93fd54de75ac8712b24d4c562f2f91ec);\n",
       "        \n",
       "    \n",
       "        var popup_9b82ba41d7e3283870cc13f2c2e89377 = L.popup({\n",
       "  &quot;maxWidth&quot;: &quot;100%&quot;,\n",
       "});\n",
       "\n",
       "        \n",
       "            \n",
       "                var html_5b6f23d614f3a3b29525f3428c718544 = $(`&lt;div id=&quot;html_5b6f23d614f3a3b29525f3428c718544&quot; style=&quot;width: 100.0%; height: 100.0%;&quot;&gt;CCAFS SLC 40 – True ASDS&lt;/div&gt;`)[0];\n",
       "                popup_9b82ba41d7e3283870cc13f2c2e89377.setContent(html_5b6f23d614f3a3b29525f3428c718544);\n",
       "            \n",
       "        \n",
       "\n",
       "        circle_marker_1945cc1ad43292c14955797a1c05741d.bindPopup(popup_9b82ba41d7e3283870cc13f2c2e89377)\n",
       "        ;\n",
       "\n",
       "        \n",
       "    \n",
       "    \n",
       "            var circle_marker_181c7bbc2056c9090b5e0ad6fef9435a = L.circleMarker(\n",
       "                [28.5618571, -80.577366],\n",
       "                {&quot;bubblingMouseEvents&quot;: true, &quot;color&quot;: &quot;green&quot;, &quot;dashArray&quot;: null, &quot;dashOffset&quot;: null, &quot;fill&quot;: false, &quot;fillColor&quot;: &quot;green&quot;, &quot;fillOpacity&quot;: 0.2, &quot;fillRule&quot;: &quot;evenodd&quot;, &quot;lineCap&quot;: &quot;round&quot;, &quot;lineJoin&quot;: &quot;round&quot;, &quot;opacity&quot;: 1.0, &quot;radius&quot;: 5, &quot;stroke&quot;: true, &quot;weight&quot;: 3}\n",
       "            ).addTo(map_93fd54de75ac8712b24d4c562f2f91ec);\n",
       "        \n",
       "    \n",
       "        var popup_e4206a8b59d607621c8ae09d02f2ecc2 = L.popup({\n",
       "  &quot;maxWidth&quot;: &quot;100%&quot;,\n",
       "});\n",
       "\n",
       "        \n",
       "            \n",
       "                var html_6798c545cc48956178d2c43261d71cdb = $(`&lt;div id=&quot;html_6798c545cc48956178d2c43261d71cdb&quot; style=&quot;width: 100.0%; height: 100.0%;&quot;&gt;CCAFS SLC 40 – True ASDS&lt;/div&gt;`)[0];\n",
       "                popup_e4206a8b59d607621c8ae09d02f2ecc2.setContent(html_6798c545cc48956178d2c43261d71cdb);\n",
       "            \n",
       "        \n",
       "\n",
       "        circle_marker_181c7bbc2056c9090b5e0ad6fef9435a.bindPopup(popup_e4206a8b59d607621c8ae09d02f2ecc2)\n",
       "        ;\n",
       "\n",
       "        \n",
       "    \n",
       "    \n",
       "            var circle_marker_88ab1bceee2417fea25c8fa7d37ab0e6 = L.circleMarker(\n",
       "                [28.5618571, -80.577366],\n",
       "                {&quot;bubblingMouseEvents&quot;: true, &quot;color&quot;: &quot;green&quot;, &quot;dashArray&quot;: null, &quot;dashOffset&quot;: null, &quot;fill&quot;: false, &quot;fillColor&quot;: &quot;green&quot;, &quot;fillOpacity&quot;: 0.2, &quot;fillRule&quot;: &quot;evenodd&quot;, &quot;lineCap&quot;: &quot;round&quot;, &quot;lineJoin&quot;: &quot;round&quot;, &quot;opacity&quot;: 1.0, &quot;radius&quot;: 5, &quot;stroke&quot;: true, &quot;weight&quot;: 3}\n",
       "            ).addTo(map_93fd54de75ac8712b24d4c562f2f91ec);\n",
       "        \n",
       "    \n",
       "        var popup_e98a88bd80a3fd08832a48f6409faed9 = L.popup({\n",
       "  &quot;maxWidth&quot;: &quot;100%&quot;,\n",
       "});\n",
       "\n",
       "        \n",
       "            \n",
       "                var html_68153e386ae7b821c5462a112d69912b = $(`&lt;div id=&quot;html_68153e386ae7b821c5462a112d69912b&quot; style=&quot;width: 100.0%; height: 100.0%;&quot;&gt;CCAFS SLC 40 – True ASDS&lt;/div&gt;`)[0];\n",
       "                popup_e98a88bd80a3fd08832a48f6409faed9.setContent(html_68153e386ae7b821c5462a112d69912b);\n",
       "            \n",
       "        \n",
       "\n",
       "        circle_marker_88ab1bceee2417fea25c8fa7d37ab0e6.bindPopup(popup_e98a88bd80a3fd08832a48f6409faed9)\n",
       "        ;\n",
       "\n",
       "        \n",
       "    \n",
       "    \n",
       "            var circle_marker_05527ce99cbcfd30093c44222697e308 = L.circleMarker(\n",
       "                [28.6080585, -80.6039558],\n",
       "                {&quot;bubblingMouseEvents&quot;: true, &quot;color&quot;: &quot;red&quot;, &quot;dashArray&quot;: null, &quot;dashOffset&quot;: null, &quot;fill&quot;: false, &quot;fillColor&quot;: &quot;red&quot;, &quot;fillOpacity&quot;: 0.2, &quot;fillRule&quot;: &quot;evenodd&quot;, &quot;lineCap&quot;: &quot;round&quot;, &quot;lineJoin&quot;: &quot;round&quot;, &quot;opacity&quot;: 1.0, &quot;radius&quot;: 5, &quot;stroke&quot;: true, &quot;weight&quot;: 3}\n",
       "            ).addTo(map_93fd54de75ac8712b24d4c562f2f91ec);\n",
       "        \n",
       "    \n",
       "        var popup_d1e0df44c6d431cd3be467e13fff598e = L.popup({\n",
       "  &quot;maxWidth&quot;: &quot;100%&quot;,\n",
       "});\n",
       "\n",
       "        \n",
       "            \n",
       "                var html_e37bbad67c4a54659d88042e129b4a7b = $(`&lt;div id=&quot;html_e37bbad67c4a54659d88042e129b4a7b&quot; style=&quot;width: 100.0%; height: 100.0%;&quot;&gt;KSC LC 39A – None None&lt;/div&gt;`)[0];\n",
       "                popup_d1e0df44c6d431cd3be467e13fff598e.setContent(html_e37bbad67c4a54659d88042e129b4a7b);\n",
       "            \n",
       "        \n",
       "\n",
       "        circle_marker_05527ce99cbcfd30093c44222697e308.bindPopup(popup_d1e0df44c6d431cd3be467e13fff598e)\n",
       "        ;\n",
       "\n",
       "        \n",
       "    \n",
       "    \n",
       "            var circle_marker_852db3185769908b67466ce7937159ac = L.circleMarker(\n",
       "                [28.5618571, -80.577366],\n",
       "                {&quot;bubblingMouseEvents&quot;: true, &quot;color&quot;: &quot;green&quot;, &quot;dashArray&quot;: null, &quot;dashOffset&quot;: null, &quot;fill&quot;: false, &quot;fillColor&quot;: &quot;green&quot;, &quot;fillOpacity&quot;: 0.2, &quot;fillRule&quot;: &quot;evenodd&quot;, &quot;lineCap&quot;: &quot;round&quot;, &quot;lineJoin&quot;: &quot;round&quot;, &quot;opacity&quot;: 1.0, &quot;radius&quot;: 5, &quot;stroke&quot;: true, &quot;weight&quot;: 3}\n",
       "            ).addTo(map_93fd54de75ac8712b24d4c562f2f91ec);\n",
       "        \n",
       "    \n",
       "        var popup_979c466ceeadbc7560855d16ff2f7917 = L.popup({\n",
       "  &quot;maxWidth&quot;: &quot;100%&quot;,\n",
       "});\n",
       "\n",
       "        \n",
       "            \n",
       "                var html_0ab552a7c19561e72460f2c128fa3510 = $(`&lt;div id=&quot;html_0ab552a7c19561e72460f2c128fa3510&quot; style=&quot;width: 100.0%; height: 100.0%;&quot;&gt;CCAFS SLC 40 – True ASDS&lt;/div&gt;`)[0];\n",
       "                popup_979c466ceeadbc7560855d16ff2f7917.setContent(html_0ab552a7c19561e72460f2c128fa3510);\n",
       "            \n",
       "        \n",
       "\n",
       "        circle_marker_852db3185769908b67466ce7937159ac.bindPopup(popup_979c466ceeadbc7560855d16ff2f7917)\n",
       "        ;\n",
       "\n",
       "        \n",
       "    \n",
       "    \n",
       "            var circle_marker_83e70c8a448857acc6b806d8afed319c = L.circleMarker(\n",
       "                [28.5618571, -80.577366],\n",
       "                {&quot;bubblingMouseEvents&quot;: true, &quot;color&quot;: &quot;red&quot;, &quot;dashArray&quot;: null, &quot;dashOffset&quot;: null, &quot;fill&quot;: false, &quot;fillColor&quot;: &quot;red&quot;, &quot;fillOpacity&quot;: 0.2, &quot;fillRule&quot;: &quot;evenodd&quot;, &quot;lineCap&quot;: &quot;round&quot;, &quot;lineJoin&quot;: &quot;round&quot;, &quot;opacity&quot;: 1.0, &quot;radius&quot;: 5, &quot;stroke&quot;: true, &quot;weight&quot;: 3}\n",
       "            ).addTo(map_93fd54de75ac8712b24d4c562f2f91ec);\n",
       "        \n",
       "    \n",
       "        var popup_eec4b5b368ea487c3ae629b003a15691 = L.popup({\n",
       "  &quot;maxWidth&quot;: &quot;100%&quot;,\n",
       "});\n",
       "\n",
       "        \n",
       "            \n",
       "                var html_f17f6356f5a855978dac4b00033f6029 = $(`&lt;div id=&quot;html_f17f6356f5a855978dac4b00033f6029&quot; style=&quot;width: 100.0%; height: 100.0%;&quot;&gt;CCAFS SLC 40 – False ASDS&lt;/div&gt;`)[0];\n",
       "                popup_eec4b5b368ea487c3ae629b003a15691.setContent(html_f17f6356f5a855978dac4b00033f6029);\n",
       "            \n",
       "        \n",
       "\n",
       "        circle_marker_83e70c8a448857acc6b806d8afed319c.bindPopup(popup_eec4b5b368ea487c3ae629b003a15691)\n",
       "        ;\n",
       "\n",
       "        \n",
       "    \n",
       "    \n",
       "            var circle_marker_b0fd2e57c986399df5a47b63312a8d98 = L.circleMarker(\n",
       "                [28.5618571, -80.577366],\n",
       "                {&quot;bubblingMouseEvents&quot;: true, &quot;color&quot;: &quot;green&quot;, &quot;dashArray&quot;: null, &quot;dashOffset&quot;: null, &quot;fill&quot;: false, &quot;fillColor&quot;: &quot;green&quot;, &quot;fillOpacity&quot;: 0.2, &quot;fillRule&quot;: &quot;evenodd&quot;, &quot;lineCap&quot;: &quot;round&quot;, &quot;lineJoin&quot;: &quot;round&quot;, &quot;opacity&quot;: 1.0, &quot;radius&quot;: 5, &quot;stroke&quot;: true, &quot;weight&quot;: 3}\n",
       "            ).addTo(map_93fd54de75ac8712b24d4c562f2f91ec);\n",
       "        \n",
       "    \n",
       "        var popup_50ca1c3194121c78ab97da53e9516fa8 = L.popup({\n",
       "  &quot;maxWidth&quot;: &quot;100%&quot;,\n",
       "});\n",
       "\n",
       "        \n",
       "            \n",
       "                var html_2c46523d8e105715efdb29db1aff5baa = $(`&lt;div id=&quot;html_2c46523d8e105715efdb29db1aff5baa&quot; style=&quot;width: 100.0%; height: 100.0%;&quot;&gt;CCAFS SLC 40 – True RTLS&lt;/div&gt;`)[0];\n",
       "                popup_50ca1c3194121c78ab97da53e9516fa8.setContent(html_2c46523d8e105715efdb29db1aff5baa);\n",
       "            \n",
       "        \n",
       "\n",
       "        circle_marker_b0fd2e57c986399df5a47b63312a8d98.bindPopup(popup_50ca1c3194121c78ab97da53e9516fa8)\n",
       "        ;\n",
       "\n",
       "        \n",
       "    \n",
       "    \n",
       "            var circle_marker_7e7ec315a91f72d2203dc43ebf5763b0 = L.circleMarker(\n",
       "                [28.6080585, -80.6039558],\n",
       "                {&quot;bubblingMouseEvents&quot;: true, &quot;color&quot;: &quot;red&quot;, &quot;dashArray&quot;: null, &quot;dashOffset&quot;: null, &quot;fill&quot;: false, &quot;fillColor&quot;: &quot;red&quot;, &quot;fillOpacity&quot;: 0.2, &quot;fillRule&quot;: &quot;evenodd&quot;, &quot;lineCap&quot;: &quot;round&quot;, &quot;lineJoin&quot;: &quot;round&quot;, &quot;opacity&quot;: 1.0, &quot;radius&quot;: 5, &quot;stroke&quot;: true, &quot;weight&quot;: 3}\n",
       "            ).addTo(map_93fd54de75ac8712b24d4c562f2f91ec);\n",
       "        \n",
       "    \n",
       "        var popup_f5696970d7412dba974fddf24885ddc7 = L.popup({\n",
       "  &quot;maxWidth&quot;: &quot;100%&quot;,\n",
       "});\n",
       "\n",
       "        \n",
       "            \n",
       "                var html_7b48cbea84cf5bdb465b89a5101485fe = $(`&lt;div id=&quot;html_7b48cbea84cf5bdb465b89a5101485fe&quot; style=&quot;width: 100.0%; height: 100.0%;&quot;&gt;KSC LC 39A – False ASDS&lt;/div&gt;`)[0];\n",
       "                popup_f5696970d7412dba974fddf24885ddc7.setContent(html_7b48cbea84cf5bdb465b89a5101485fe);\n",
       "            \n",
       "        \n",
       "\n",
       "        circle_marker_7e7ec315a91f72d2203dc43ebf5763b0.bindPopup(popup_f5696970d7412dba974fddf24885ddc7)\n",
       "        ;\n",
       "\n",
       "        \n",
       "    \n",
       "    \n",
       "            var circle_marker_3d2a1d150b29db8979fd6646098c54a4 = L.circleMarker(\n",
       "                [28.6080585, -80.6039558],\n",
       "                {&quot;bubblingMouseEvents&quot;: true, &quot;color&quot;: &quot;green&quot;, &quot;dashArray&quot;: null, &quot;dashOffset&quot;: null, &quot;fill&quot;: false, &quot;fillColor&quot;: &quot;green&quot;, &quot;fillOpacity&quot;: 0.2, &quot;fillRule&quot;: &quot;evenodd&quot;, &quot;lineCap&quot;: &quot;round&quot;, &quot;lineJoin&quot;: &quot;round&quot;, &quot;opacity&quot;: 1.0, &quot;radius&quot;: 5, &quot;stroke&quot;: true, &quot;weight&quot;: 3}\n",
       "            ).addTo(map_93fd54de75ac8712b24d4c562f2f91ec);\n",
       "        \n",
       "    \n",
       "        var popup_132ff2df76c688c015b095f69e3323c4 = L.popup({\n",
       "  &quot;maxWidth&quot;: &quot;100%&quot;,\n",
       "});\n",
       "\n",
       "        \n",
       "            \n",
       "                var html_2ded2a46f11caa52e87366b7ef77dd51 = $(`&lt;div id=&quot;html_2ded2a46f11caa52e87366b7ef77dd51&quot; style=&quot;width: 100.0%; height: 100.0%;&quot;&gt;KSC LC 39A – True ASDS&lt;/div&gt;`)[0];\n",
       "                popup_132ff2df76c688c015b095f69e3323c4.setContent(html_2ded2a46f11caa52e87366b7ef77dd51);\n",
       "            \n",
       "        \n",
       "\n",
       "        circle_marker_3d2a1d150b29db8979fd6646098c54a4.bindPopup(popup_132ff2df76c688c015b095f69e3323c4)\n",
       "        ;\n",
       "\n",
       "        \n",
       "    \n",
       "    \n",
       "            var circle_marker_bc25c923cfe6620786b1a1242c51db81 = L.circleMarker(\n",
       "                [28.6080585, -80.6039558],\n",
       "                {&quot;bubblingMouseEvents&quot;: true, &quot;color&quot;: &quot;green&quot;, &quot;dashArray&quot;: null, &quot;dashOffset&quot;: null, &quot;fill&quot;: false, &quot;fillColor&quot;: &quot;green&quot;, &quot;fillOpacity&quot;: 0.2, &quot;fillRule&quot;: &quot;evenodd&quot;, &quot;lineCap&quot;: &quot;round&quot;, &quot;lineJoin&quot;: &quot;round&quot;, &quot;opacity&quot;: 1.0, &quot;radius&quot;: 5, &quot;stroke&quot;: true, &quot;weight&quot;: 3}\n",
       "            ).addTo(map_93fd54de75ac8712b24d4c562f2f91ec);\n",
       "        \n",
       "    \n",
       "        var popup_807a6da54c5a9dd9802a07262a890f41 = L.popup({\n",
       "  &quot;maxWidth&quot;: &quot;100%&quot;,\n",
       "});\n",
       "\n",
       "        \n",
       "            \n",
       "                var html_3f3788caadb53d1f0306f2c618c65d9a = $(`&lt;div id=&quot;html_3f3788caadb53d1f0306f2c618c65d9a&quot; style=&quot;width: 100.0%; height: 100.0%;&quot;&gt;KSC LC 39A – True ASDS&lt;/div&gt;`)[0];\n",
       "                popup_807a6da54c5a9dd9802a07262a890f41.setContent(html_3f3788caadb53d1f0306f2c618c65d9a);\n",
       "            \n",
       "        \n",
       "\n",
       "        circle_marker_bc25c923cfe6620786b1a1242c51db81.bindPopup(popup_807a6da54c5a9dd9802a07262a890f41)\n",
       "        ;\n",
       "\n",
       "        \n",
       "    \n",
       "    \n",
       "            var circle_marker_e5737d3f8d962cb93ed4938c42e8c2a6 = L.circleMarker(\n",
       "                [28.5618571, -80.577366],\n",
       "                {&quot;bubblingMouseEvents&quot;: true, &quot;color&quot;: &quot;green&quot;, &quot;dashArray&quot;: null, &quot;dashOffset&quot;: null, &quot;fill&quot;: false, &quot;fillColor&quot;: &quot;green&quot;, &quot;fillOpacity&quot;: 0.2, &quot;fillRule&quot;: &quot;evenodd&quot;, &quot;lineCap&quot;: &quot;round&quot;, &quot;lineJoin&quot;: &quot;round&quot;, &quot;opacity&quot;: 1.0, &quot;radius&quot;: 5, &quot;stroke&quot;: true, &quot;weight&quot;: 3}\n",
       "            ).addTo(map_93fd54de75ac8712b24d4c562f2f91ec);\n",
       "        \n",
       "    \n",
       "        var popup_3bdc1fc517e034c5a00c285c155c15df = L.popup({\n",
       "  &quot;maxWidth&quot;: &quot;100%&quot;,\n",
       "});\n",
       "\n",
       "        \n",
       "            \n",
       "                var html_26114daad987ac58059b69f24d7376a1 = $(`&lt;div id=&quot;html_26114daad987ac58059b69f24d7376a1&quot; style=&quot;width: 100.0%; height: 100.0%;&quot;&gt;CCAFS SLC 40 – True ASDS&lt;/div&gt;`)[0];\n",
       "                popup_3bdc1fc517e034c5a00c285c155c15df.setContent(html_26114daad987ac58059b69f24d7376a1);\n",
       "            \n",
       "        \n",
       "\n",
       "        circle_marker_e5737d3f8d962cb93ed4938c42e8c2a6.bindPopup(popup_3bdc1fc517e034c5a00c285c155c15df)\n",
       "        ;\n",
       "\n",
       "        \n",
       "    \n",
       "    \n",
       "            var circle_marker_e929e88f970fa41220aea627b469c904 = L.circleMarker(\n",
       "                [28.5618571, -80.577366],\n",
       "                {&quot;bubblingMouseEvents&quot;: true, &quot;color&quot;: &quot;green&quot;, &quot;dashArray&quot;: null, &quot;dashOffset&quot;: null, &quot;fill&quot;: false, &quot;fillColor&quot;: &quot;green&quot;, &quot;fillOpacity&quot;: 0.2, &quot;fillRule&quot;: &quot;evenodd&quot;, &quot;lineCap&quot;: &quot;round&quot;, &quot;lineJoin&quot;: &quot;round&quot;, &quot;opacity&quot;: 1.0, &quot;radius&quot;: 5, &quot;stroke&quot;: true, &quot;weight&quot;: 3}\n",
       "            ).addTo(map_93fd54de75ac8712b24d4c562f2f91ec);\n",
       "        \n",
       "    \n",
       "        var popup_2d9d2be05a2f99abed3d04a74300bc0c = L.popup({\n",
       "  &quot;maxWidth&quot;: &quot;100%&quot;,\n",
       "});\n",
       "\n",
       "        \n",
       "            \n",
       "                var html_5156953e1120794825a67da4d70cc3b6 = $(`&lt;div id=&quot;html_5156953e1120794825a67da4d70cc3b6&quot; style=&quot;width: 100.0%; height: 100.0%;&quot;&gt;CCAFS SLC 40 – True ASDS&lt;/div&gt;`)[0];\n",
       "                popup_2d9d2be05a2f99abed3d04a74300bc0c.setContent(html_5156953e1120794825a67da4d70cc3b6);\n",
       "            \n",
       "        \n",
       "\n",
       "        circle_marker_e929e88f970fa41220aea627b469c904.bindPopup(popup_2d9d2be05a2f99abed3d04a74300bc0c)\n",
       "        ;\n",
       "\n",
       "        \n",
       "    \n",
       "    \n",
       "            var circle_marker_2cb822ae58a9d0b11bb39d4bc9923f4c = L.circleMarker(\n",
       "                [28.5618571, -80.577366],\n",
       "                {&quot;bubblingMouseEvents&quot;: true, &quot;color&quot;: &quot;green&quot;, &quot;dashArray&quot;: null, &quot;dashOffset&quot;: null, &quot;fill&quot;: false, &quot;fillColor&quot;: &quot;green&quot;, &quot;fillOpacity&quot;: 0.2, &quot;fillRule&quot;: &quot;evenodd&quot;, &quot;lineCap&quot;: &quot;round&quot;, &quot;lineJoin&quot;: &quot;round&quot;, &quot;opacity&quot;: 1.0, &quot;radius&quot;: 5, &quot;stroke&quot;: true, &quot;weight&quot;: 3}\n",
       "            ).addTo(map_93fd54de75ac8712b24d4c562f2f91ec);\n",
       "        \n",
       "    \n",
       "        var popup_ae5507a5aa050438109c8ac2d1ceb867 = L.popup({\n",
       "  &quot;maxWidth&quot;: &quot;100%&quot;,\n",
       "});\n",
       "\n",
       "        \n",
       "            \n",
       "                var html_f0ee6cd457c26ba47d413065e80536b4 = $(`&lt;div id=&quot;html_f0ee6cd457c26ba47d413065e80536b4&quot; style=&quot;width: 100.0%; height: 100.0%;&quot;&gt;CCAFS SLC 40 – True ASDS&lt;/div&gt;`)[0];\n",
       "                popup_ae5507a5aa050438109c8ac2d1ceb867.setContent(html_f0ee6cd457c26ba47d413065e80536b4);\n",
       "            \n",
       "        \n",
       "\n",
       "        circle_marker_2cb822ae58a9d0b11bb39d4bc9923f4c.bindPopup(popup_ae5507a5aa050438109c8ac2d1ceb867)\n",
       "        ;\n",
       "\n",
       "        \n",
       "    \n",
       "    \n",
       "            var circle_marker_bc9a7f07dbe2a93f18390b58e15c23a9 = L.circleMarker(\n",
       "                [28.5618571, -80.577366],\n",
       "                {&quot;bubblingMouseEvents&quot;: true, &quot;color&quot;: &quot;green&quot;, &quot;dashArray&quot;: null, &quot;dashOffset&quot;: null, &quot;fill&quot;: false, &quot;fillColor&quot;: &quot;green&quot;, &quot;fillOpacity&quot;: 0.2, &quot;fillRule&quot;: &quot;evenodd&quot;, &quot;lineCap&quot;: &quot;round&quot;, &quot;lineJoin&quot;: &quot;round&quot;, &quot;opacity&quot;: 1.0, &quot;radius&quot;: 5, &quot;stroke&quot;: true, &quot;weight&quot;: 3}\n",
       "            ).addTo(map_93fd54de75ac8712b24d4c562f2f91ec);\n",
       "        \n",
       "    \n",
       "        var popup_b9ff2ab055311b47874a14e3829bb77c = L.popup({\n",
       "  &quot;maxWidth&quot;: &quot;100%&quot;,\n",
       "});\n",
       "\n",
       "        \n",
       "            \n",
       "                var html_ae80be12c1b2f7ca7fa312a90b5f95a4 = $(`&lt;div id=&quot;html_ae80be12c1b2f7ca7fa312a90b5f95a4&quot; style=&quot;width: 100.0%; height: 100.0%;&quot;&gt;CCAFS SLC 40 – True ASDS&lt;/div&gt;`)[0];\n",
       "                popup_b9ff2ab055311b47874a14e3829bb77c.setContent(html_ae80be12c1b2f7ca7fa312a90b5f95a4);\n",
       "            \n",
       "        \n",
       "\n",
       "        circle_marker_bc9a7f07dbe2a93f18390b58e15c23a9.bindPopup(popup_b9ff2ab055311b47874a14e3829bb77c)\n",
       "        ;\n",
       "\n",
       "        \n",
       "    \n",
       "    \n",
       "            var circle_marker_b59681bab00a29097de7696b660244dd = L.circleMarker(\n",
       "                [28.5618571, -80.577366],\n",
       "                {&quot;bubblingMouseEvents&quot;: true, &quot;color&quot;: &quot;green&quot;, &quot;dashArray&quot;: null, &quot;dashOffset&quot;: null, &quot;fill&quot;: false, &quot;fillColor&quot;: &quot;green&quot;, &quot;fillOpacity&quot;: 0.2, &quot;fillRule&quot;: &quot;evenodd&quot;, &quot;lineCap&quot;: &quot;round&quot;, &quot;lineJoin&quot;: &quot;round&quot;, &quot;opacity&quot;: 1.0, &quot;radius&quot;: 5, &quot;stroke&quot;: true, &quot;weight&quot;: 3}\n",
       "            ).addTo(map_93fd54de75ac8712b24d4c562f2f91ec);\n",
       "        \n",
       "    \n",
       "        var popup_17e16b6e635a616f91c9efe6ee83bf54 = L.popup({\n",
       "  &quot;maxWidth&quot;: &quot;100%&quot;,\n",
       "});\n",
       "\n",
       "        \n",
       "            \n",
       "                var html_2438c43de30ad9b0bd6c671d9ee665dd = $(`&lt;div id=&quot;html_2438c43de30ad9b0bd6c671d9ee665dd&quot; style=&quot;width: 100.0%; height: 100.0%;&quot;&gt;CCAFS SLC 40 – True ASDS&lt;/div&gt;`)[0];\n",
       "                popup_17e16b6e635a616f91c9efe6ee83bf54.setContent(html_2438c43de30ad9b0bd6c671d9ee665dd);\n",
       "            \n",
       "        \n",
       "\n",
       "        circle_marker_b59681bab00a29097de7696b660244dd.bindPopup(popup_17e16b6e635a616f91c9efe6ee83bf54)\n",
       "        ;\n",
       "\n",
       "        \n",
       "    \n",
       "    \n",
       "            var circle_marker_2377e05055f25106f5d797dbd9ad4160 = L.circleMarker(\n",
       "                [28.5618571, -80.577366],\n",
       "                {&quot;bubblingMouseEvents&quot;: true, &quot;color&quot;: &quot;green&quot;, &quot;dashArray&quot;: null, &quot;dashOffset&quot;: null, &quot;fill&quot;: false, &quot;fillColor&quot;: &quot;green&quot;, &quot;fillOpacity&quot;: 0.2, &quot;fillRule&quot;: &quot;evenodd&quot;, &quot;lineCap&quot;: &quot;round&quot;, &quot;lineJoin&quot;: &quot;round&quot;, &quot;opacity&quot;: 1.0, &quot;radius&quot;: 5, &quot;stroke&quot;: true, &quot;weight&quot;: 3}\n",
       "            ).addTo(map_93fd54de75ac8712b24d4c562f2f91ec);\n",
       "        \n",
       "    \n",
       "        var popup_e253713fd9b24f9093f7aaf4398d1e8d = L.popup({\n",
       "  &quot;maxWidth&quot;: &quot;100%&quot;,\n",
       "});\n",
       "\n",
       "        \n",
       "            \n",
       "                var html_5c7f891de05a21f16913c1d589357bf7 = $(`&lt;div id=&quot;html_5c7f891de05a21f16913c1d589357bf7&quot; style=&quot;width: 100.0%; height: 100.0%;&quot;&gt;CCAFS SLC 40 – True RTLS&lt;/div&gt;`)[0];\n",
       "                popup_e253713fd9b24f9093f7aaf4398d1e8d.setContent(html_5c7f891de05a21f16913c1d589357bf7);\n",
       "            \n",
       "        \n",
       "\n",
       "        circle_marker_2377e05055f25106f5d797dbd9ad4160.bindPopup(popup_e253713fd9b24f9093f7aaf4398d1e8d)\n",
       "        ;\n",
       "\n",
       "        \n",
       "    \n",
       "    \n",
       "            var circle_marker_9b613b0496be51d0c9846f9a9ad4230a = L.circleMarker(\n",
       "                [28.6080585, -80.6039558],\n",
       "                {&quot;bubblingMouseEvents&quot;: true, &quot;color&quot;: &quot;green&quot;, &quot;dashArray&quot;: null, &quot;dashOffset&quot;: null, &quot;fill&quot;: false, &quot;fillColor&quot;: &quot;green&quot;, &quot;fillOpacity&quot;: 0.2, &quot;fillRule&quot;: &quot;evenodd&quot;, &quot;lineCap&quot;: &quot;round&quot;, &quot;lineJoin&quot;: &quot;round&quot;, &quot;opacity&quot;: 1.0, &quot;radius&quot;: 5, &quot;stroke&quot;: true, &quot;weight&quot;: 3}\n",
       "            ).addTo(map_93fd54de75ac8712b24d4c562f2f91ec);\n",
       "        \n",
       "    \n",
       "        var popup_5bcdec6d6c6f2c5384163fcc7fbca164 = L.popup({\n",
       "  &quot;maxWidth&quot;: &quot;100%&quot;,\n",
       "});\n",
       "\n",
       "        \n",
       "            \n",
       "                var html_83f683f4e18c250dbdd162bdfe674df9 = $(`&lt;div id=&quot;html_83f683f4e18c250dbdd162bdfe674df9&quot; style=&quot;width: 100.0%; height: 100.0%;&quot;&gt;KSC LC 39A – True ASDS&lt;/div&gt;`)[0];\n",
       "                popup_5bcdec6d6c6f2c5384163fcc7fbca164.setContent(html_83f683f4e18c250dbdd162bdfe674df9);\n",
       "            \n",
       "        \n",
       "\n",
       "        circle_marker_9b613b0496be51d0c9846f9a9ad4230a.bindPopup(popup_5bcdec6d6c6f2c5384163fcc7fbca164)\n",
       "        ;\n",
       "\n",
       "        \n",
       "    \n",
       "    \n",
       "            var circle_marker_827cbb90ee2bb73916edf5df37016037 = L.circleMarker(\n",
       "                [28.6080585, -80.6039558],\n",
       "                {&quot;bubblingMouseEvents&quot;: true, &quot;color&quot;: &quot;green&quot;, &quot;dashArray&quot;: null, &quot;dashOffset&quot;: null, &quot;fill&quot;: false, &quot;fillColor&quot;: &quot;green&quot;, &quot;fillOpacity&quot;: 0.2, &quot;fillRule&quot;: &quot;evenodd&quot;, &quot;lineCap&quot;: &quot;round&quot;, &quot;lineJoin&quot;: &quot;round&quot;, &quot;opacity&quot;: 1.0, &quot;radius&quot;: 5, &quot;stroke&quot;: true, &quot;weight&quot;: 3}\n",
       "            ).addTo(map_93fd54de75ac8712b24d4c562f2f91ec);\n",
       "        \n",
       "    \n",
       "        var popup_a24d0307f250aa8e7e602d8be0f5e080 = L.popup({\n",
       "  &quot;maxWidth&quot;: &quot;100%&quot;,\n",
       "});\n",
       "\n",
       "        \n",
       "            \n",
       "                var html_e4dd8936c2ecfa4a7e87ed32501dfc6c = $(`&lt;div id=&quot;html_e4dd8936c2ecfa4a7e87ed32501dfc6c&quot; style=&quot;width: 100.0%; height: 100.0%;&quot;&gt;KSC LC 39A – True ASDS&lt;/div&gt;`)[0];\n",
       "                popup_a24d0307f250aa8e7e602d8be0f5e080.setContent(html_e4dd8936c2ecfa4a7e87ed32501dfc6c);\n",
       "            \n",
       "        \n",
       "\n",
       "        circle_marker_827cbb90ee2bb73916edf5df37016037.bindPopup(popup_a24d0307f250aa8e7e602d8be0f5e080)\n",
       "        ;\n",
       "\n",
       "        \n",
       "    \n",
       "    \n",
       "            var circle_marker_94253a306c9bd6c8bd679ade00bdc6e4 = L.circleMarker(\n",
       "                [28.6080585, -80.6039558],\n",
       "                {&quot;bubblingMouseEvents&quot;: true, &quot;color&quot;: &quot;green&quot;, &quot;dashArray&quot;: null, &quot;dashOffset&quot;: null, &quot;fill&quot;: false, &quot;fillColor&quot;: &quot;green&quot;, &quot;fillOpacity&quot;: 0.2, &quot;fillRule&quot;: &quot;evenodd&quot;, &quot;lineCap&quot;: &quot;round&quot;, &quot;lineJoin&quot;: &quot;round&quot;, &quot;opacity&quot;: 1.0, &quot;radius&quot;: 5, &quot;stroke&quot;: true, &quot;weight&quot;: 3}\n",
       "            ).addTo(map_93fd54de75ac8712b24d4c562f2f91ec);\n",
       "        \n",
       "    \n",
       "        var popup_47e4e65edc5f30ac261ada6c646c2108 = L.popup({\n",
       "  &quot;maxWidth&quot;: &quot;100%&quot;,\n",
       "});\n",
       "\n",
       "        \n",
       "            \n",
       "                var html_115e3657acc90fdb6dfe6c1524577008 = $(`&lt;div id=&quot;html_115e3657acc90fdb6dfe6c1524577008&quot; style=&quot;width: 100.0%; height: 100.0%;&quot;&gt;KSC LC 39A – True ASDS&lt;/div&gt;`)[0];\n",
       "                popup_47e4e65edc5f30ac261ada6c646c2108.setContent(html_115e3657acc90fdb6dfe6c1524577008);\n",
       "            \n",
       "        \n",
       "\n",
       "        circle_marker_94253a306c9bd6c8bd679ade00bdc6e4.bindPopup(popup_47e4e65edc5f30ac261ada6c646c2108)\n",
       "        ;\n",
       "\n",
       "        \n",
       "    \n",
       "    \n",
       "            var circle_marker_33e7fe068fad897d5c3a196520fa9b44 = L.circleMarker(\n",
       "                [28.5618571, -80.577366],\n",
       "                {&quot;bubblingMouseEvents&quot;: true, &quot;color&quot;: &quot;green&quot;, &quot;dashArray&quot;: null, &quot;dashOffset&quot;: null, &quot;fill&quot;: false, &quot;fillColor&quot;: &quot;green&quot;, &quot;fillOpacity&quot;: 0.2, &quot;fillRule&quot;: &quot;evenodd&quot;, &quot;lineCap&quot;: &quot;round&quot;, &quot;lineJoin&quot;: &quot;round&quot;, &quot;opacity&quot;: 1.0, &quot;radius&quot;: 5, &quot;stroke&quot;: true, &quot;weight&quot;: 3}\n",
       "            ).addTo(map_93fd54de75ac8712b24d4c562f2f91ec);\n",
       "        \n",
       "    \n",
       "        var popup_473e03dcdbdc08f72c284157bab1ed3f = L.popup({\n",
       "  &quot;maxWidth&quot;: &quot;100%&quot;,\n",
       "});\n",
       "\n",
       "        \n",
       "            \n",
       "                var html_64cb8d378d01e7c6d5a6907722967474 = $(`&lt;div id=&quot;html_64cb8d378d01e7c6d5a6907722967474&quot; style=&quot;width: 100.0%; height: 100.0%;&quot;&gt;CCAFS SLC 40 – True ASDS&lt;/div&gt;`)[0];\n",
       "                popup_473e03dcdbdc08f72c284157bab1ed3f.setContent(html_64cb8d378d01e7c6d5a6907722967474);\n",
       "            \n",
       "        \n",
       "\n",
       "        circle_marker_33e7fe068fad897d5c3a196520fa9b44.bindPopup(popup_473e03dcdbdc08f72c284157bab1ed3f)\n",
       "        ;\n",
       "\n",
       "        \n",
       "    \n",
       "    \n",
       "            var circle_marker_aaa6b77990b6ff8e08a88e3afbfcec45 = L.circleMarker(\n",
       "                [28.5618571, -80.577366],\n",
       "                {&quot;bubblingMouseEvents&quot;: true, &quot;color&quot;: &quot;green&quot;, &quot;dashArray&quot;: null, &quot;dashOffset&quot;: null, &quot;fill&quot;: false, &quot;fillColor&quot;: &quot;green&quot;, &quot;fillOpacity&quot;: 0.2, &quot;fillRule&quot;: &quot;evenodd&quot;, &quot;lineCap&quot;: &quot;round&quot;, &quot;lineJoin&quot;: &quot;round&quot;, &quot;opacity&quot;: 1.0, &quot;radius&quot;: 5, &quot;stroke&quot;: true, &quot;weight&quot;: 3}\n",
       "            ).addTo(map_93fd54de75ac8712b24d4c562f2f91ec);\n",
       "        \n",
       "    \n",
       "        var popup_8a610d892f14297f22996384986b2765 = L.popup({\n",
       "  &quot;maxWidth&quot;: &quot;100%&quot;,\n",
       "});\n",
       "\n",
       "        \n",
       "            \n",
       "                var html_8ae50db1bd2995d8068488f5b6ffff16 = $(`&lt;div id=&quot;html_8ae50db1bd2995d8068488f5b6ffff16&quot; style=&quot;width: 100.0%; height: 100.0%;&quot;&gt;CCAFS SLC 40 – True ASDS&lt;/div&gt;`)[0];\n",
       "                popup_8a610d892f14297f22996384986b2765.setContent(html_8ae50db1bd2995d8068488f5b6ffff16);\n",
       "            \n",
       "        \n",
       "\n",
       "        circle_marker_aaa6b77990b6ff8e08a88e3afbfcec45.bindPopup(popup_8a610d892f14297f22996384986b2765)\n",
       "        ;\n",
       "\n",
       "        \n",
       "    \n",
       "&lt;/script&gt;\n",
       "&lt;/html&gt;\" style=\"position:absolute;width:100%;height:100%;left:0;top:0;border:none !important;\" allowfullscreen webkitallowfullscreen mozallowfullscreen></iframe></div></div>"
      ],
      "text/plain": [
       "<folium.folium.Map at 0x25b4527fce0>"
      ]
     },
     "execution_count": 28,
     "metadata": {},
     "output_type": "execute_result"
    }
   ],
   "source": [
    "import folium\n",
    "\n",
    "m = folium.Map(location=[df['Latitude'].mean(), df['Longitude'].mean()],\n",
    "               zoom_start=2, tiles='CartoDB positron')\n",
    "\n",
    "for _, r in df.iterrows():\n",
    "    folium.CircleMarker(\n",
    "        [r['Latitude'], r['Longitude']],\n",
    "        radius=5,\n",
    "        color='green' if 'True' in r['Outcome'] else 'red',\n",
    "        popup=f\"{r['LaunchSite']} – {r['Outcome']}\"\n",
    "    ).add_to(m)\n",
    "\n",
    "m  # Jupyter will display the map\n"
   ]
  },
  {
   "cell_type": "code",
   "execution_count": 34,
   "metadata": {},
   "outputs": [
    {
     "data": {
      "application/vnd.plotly.v1+json": {
       "config": {
        "plotlyServerURL": "https://plot.ly"
       },
       "data": [
        {
         "customdata": [
          [
           "LEO",
           "None None"
          ],
          [
           "LEO",
           "None None"
          ],
          [
           "ISS",
           "None None"
          ],
          [
           "GTO",
           "None None"
          ],
          [
           "GTO",
           "None None"
          ],
          [
           "ISS",
           "True Ocean"
          ],
          [
           "LEO",
           "True Ocean"
          ],
          [
           "GTO",
           "None None"
          ],
          [
           "GTO",
           "None None"
          ],
          [
           "ISS",
           "False Ocean"
          ],
          [
           "ISS",
           "False ASDS"
          ],
          [
           "ES-L1",
           "True Ocean"
          ],
          [
           "ISS",
           "False ASDS"
          ],
          [
           "GTO",
           "None None"
          ],
          [
           "ISS",
           "None ASDS"
          ],
          [
           "LEO",
           "True RTLS"
          ],
          [
           "GTO",
           "False ASDS"
          ],
          [
           "ISS",
           "True ASDS"
          ],
          [
           "GTO",
           "True ASDS"
          ],
          [
           "GTO",
           "True ASDS"
          ],
          [
           "ISS",
           "True RTLS"
          ],
          [
           "GTO",
           "True ASDS"
          ],
          [
           "GTO",
           "None ASDS"
          ],
          [
           "ISS",
           "True RTLS"
          ],
          [
           "LEO",
           "True RTLS"
          ],
          [
           "GTO",
           "True Ocean"
          ],
          [
           "GTO",
           "None None"
          ],
          [
           "ISS",
           "None None"
          ],
          [
           "HEO",
           "True ASDS"
          ],
          [
           "GTO",
           "None None"
          ],
          [
           "ISS",
           "None None"
          ],
          [
           "GTO",
           "True ASDS"
          ],
          [
           "GTO",
           "True ASDS"
          ],
          [
           "GTO",
           "True ASDS"
          ],
          [
           "ISS",
           "False RTLS"
          ],
          [
           "MEO",
           "None None"
          ],
          [
           "ISS",
           "True ASDS"
          ],
          [
           "VLEO",
           "True ASDS"
          ],
          [
           "ISS",
           "True RTLS"
          ],
          [
           "GTO",
           "None None"
          ],
          [
           "VLEO",
           "True ASDS"
          ],
          [
           "ISS",
           "True ASDS"
          ],
          [
           "GTO",
           "True ASDS"
          ],
          [
           "VLEO",
           "True ASDS"
          ],
          [
           "VLEO",
           "True ASDS"
          ],
          [
           "VLEO",
           "False ASDS"
          ],
          [
           "ISS",
           "True RTLS"
          ],
          [
           "VLEO",
           "True ASDS"
          ],
          [
           "VLEO",
           "True ASDS"
          ],
          [
           "MEO",
           "True ASDS"
          ],
          [
           "GEO",
           "True ASDS"
          ],
          [
           "VLEO",
           "True ASDS"
          ],
          [
           "SSO",
           "True RTLS"
          ],
          [
           "VLEO",
           "True ASDS"
          ],
          [
           "MEO",
           "True ASDS"
          ]
         ],
         "hovertemplate": "LaunchSite=CCAFS SLC 40<br>PayloadMass=%{x}<br>Class=%{y}<br>Orbit=%{customdata[0]}<br>Outcome=%{customdata[1]}<extra></extra>",
         "legendgroup": "CCAFS SLC 40",
         "marker": {
          "color": "#636efa",
          "symbol": "circle"
         },
         "mode": "markers",
         "name": "CCAFS SLC 40",
         "orientation": "v",
         "showlegend": true,
         "type": "scatter",
         "x": {
          "bdata": "z2gCnPXYt0AAAAAAAGiAQAAAAAAAKIVAAAAAAADEqEAAAAAAAPqpQAAAAAAA8KFAAAAAAACQlEAAAAAAALexQAAAAAAATLFAAAAAAABQoUAAAAAAALaiQAAAAAAA0IFAAAAAAAConUAAAAAAAGOyQAAAAAAAWqNAAAAAAADIn0AAAAAAAJe0QAAAAAAAgKhAAAAAAABYskAAAAAAADioQAAAAAAAoqFAAAAAAAD4sUAAAAAAAHy1QAAAAAAAOqFAz2gCnPXYt0AAAAAAAIawQAAAAAAAzLdAAAAAAACQpUAAAAAAAOB1QJqZmZnZB7VAAAAAAADUokAAAAAAAKS7QAAAAAAAqLZAAAAAAACUu0AAAAAAABqkQAAAAAAAMLFAAAAAAABko0AAAAAAAJrKQGZmZmZmZ6FAAAAAAABkuUAAAAAAAHjOQAAAAAAAiLNAAAAAAACQukAAAAAAABTOQAAAAAAAeM5AAAAAAAAUzkAAAAAAAOSeQAAAAAAAFM5AAAAAAAAUzkAAAAAAAFCuQM9oApz12LdAAAAAAAAUzkAAAAAAAACZQAAAAAAAFM5AAAAAAADCrEA=",
          "dtype": "f8"
         },
         "xaxis": "x",
         "y": {
          "bdata": "AQEBAQEBAQEBAAABAAEBAQABAQEBAQEBAQEBAQEBAQEBAQABAQEBAQEBAQEBAAEBAQEBAQEBAQ==",
          "dtype": "i1"
         },
         "yaxis": "y"
        },
        {
         "customdata": [
          [
           "PO",
           "False Ocean"
          ],
          [
           "PO",
           "False ASDS"
          ],
          [
           "PO",
           "True ASDS"
          ],
          [
           "PO",
           "True ASDS"
          ],
          [
           "SSO",
           "True ASDS"
          ],
          [
           "PO",
           "True ASDS"
          ],
          [
           "PO",
           "True Ocean"
          ],
          [
           "PO",
           "None None"
          ],
          [
           "PO",
           "True ASDS"
          ],
          [
           "SSO",
           "True RTLS"
          ],
          [
           "SSO",
           "True ASDS"
          ],
          [
           "PO",
           "True ASDS"
          ],
          [
           "SSO",
           "True RTLS"
          ]
         ],
         "hovertemplate": "LaunchSite=VAFB SLC 4E<br>PayloadMass=%{x}<br>Class=%{y}<br>Orbit=%{customdata[0]}<br>Outcome=%{customdata[1]}<extra></extra>",
         "legendgroup": "VAFB SLC 4E",
         "marker": {
          "color": "#EF553B",
          "symbol": "circle"
         },
         "mode": "markers",
         "name": "VAFB SLC 4E",
         "orientation": "v",
         "showlegend": true,
         "type": "scatter",
         "x": {
          "bdata": "AAAAAABAf0AAAAAAAEiBQAAAAAAAwMJAAAAAAADAwkAAAAAAALB9QAAAAAAAwMJAAAAAAADAwkAAAAAAAMDCQAAAAAAAwMJAAAAAAADgpUAAAAAAAECvQAAAAAAAwMJAAAAAAABElkA=",
          "dtype": "f8"
         },
         "xaxis": "x",
         "y": {
          "bdata": "AAABAQEBAQEBAQEBAQ==",
          "dtype": "i1"
         },
         "yaxis": "y"
        },
        {
         "customdata": [
          [
           "ISS",
           "True RTLS"
          ],
          [
           "GTO",
           "None None"
          ],
          [
           "GTO",
           "True ASDS"
          ],
          [
           "LEO",
           "True RTLS"
          ],
          [
           "GTO",
           "None None"
          ],
          [
           "ISS",
           "True RTLS"
          ],
          [
           "GTO",
           "True ASDS"
          ],
          [
           "GTO",
           "None None"
          ],
          [
           "ISS",
           "True RTLS"
          ],
          [
           "LEO",
           "True RTLS"
          ],
          [
           "GTO",
           "True ASDS"
          ],
          [
           "GTO",
           "True ASDS"
          ],
          [
           "GTO",
           "True ASDS"
          ],
          [
           "GTO",
           "True ASDS"
          ],
          [
           "ISS",
           "True ASDS"
          ],
          [
           "SO",
           "None None"
          ],
          [
           "VLEO",
           "False ASDS"
          ],
          [
           "VLEO",
           "True ASDS"
          ],
          [
           "ISS",
           "True ASDS"
          ],
          [
           "VLEO",
           "True ASDS"
          ],
          [
           "VLEO",
           "True ASDS"
          ],
          [
           "VLEO",
           "True ASDS"
          ]
         ],
         "hovertemplate": "LaunchSite=KSC LC 39A<br>PayloadMass=%{x}<br>Class=%{y}<br>Orbit=%{customdata[0]}<br>Outcome=%{customdata[1]}<extra></extra>",
         "legendgroup": "KSC LC 39A",
         "marker": {
          "color": "#00cc96",
          "symbol": "circle"
         },
         "mode": "markers",
         "name": "KSC LC 39A",
         "orientation": "v",
         "showlegend": true,
         "type": "scatter",
         "x": {
          "bdata": "AAAAAAB0o0AAAAAAAOC1QAAAAAAAtLRAz2gCnPXYt0AAAAAAALa3QAAAAAAAKKVAAAAAAACqrEAAAAAAAGm6QAAAAAAAvKZAAAAAAAB+s0AAAAAAAFC0QAAAAAAA6KxAAAAAAABMrUAAAAAAAHCnQAAAAACA8cdAz2gCnPXYt0AAAAAAAHjOQAAAAAAAFM5AAAAAAICawkAAAAAAABTOQAAAAAAAFM5AAAAAAAAUzkA=",
          "dtype": "f8"
         },
         "xaxis": "x",
         "y": {
          "bdata": "AQEBAQEBAQEBAQEBAQEBAQABAQEBAQ==",
          "dtype": "i1"
         },
         "yaxis": "y"
        }
       ],
       "layout": {
        "legend": {
         "title": {
          "text": "LaunchSite"
         },
         "tracegroupgap": 0
        },
        "template": {
         "data": {
          "bar": [
           {
            "error_x": {
             "color": "#2a3f5f"
            },
            "error_y": {
             "color": "#2a3f5f"
            },
            "marker": {
             "line": {
              "color": "#E5ECF6",
              "width": 0.5
             },
             "pattern": {
              "fillmode": "overlay",
              "size": 10,
              "solidity": 0.2
             }
            },
            "type": "bar"
           }
          ],
          "barpolar": [
           {
            "marker": {
             "line": {
              "color": "#E5ECF6",
              "width": 0.5
             },
             "pattern": {
              "fillmode": "overlay",
              "size": 10,
              "solidity": 0.2
             }
            },
            "type": "barpolar"
           }
          ],
          "carpet": [
           {
            "aaxis": {
             "endlinecolor": "#2a3f5f",
             "gridcolor": "white",
             "linecolor": "white",
             "minorgridcolor": "white",
             "startlinecolor": "#2a3f5f"
            },
            "baxis": {
             "endlinecolor": "#2a3f5f",
             "gridcolor": "white",
             "linecolor": "white",
             "minorgridcolor": "white",
             "startlinecolor": "#2a3f5f"
            },
            "type": "carpet"
           }
          ],
          "choropleth": [
           {
            "colorbar": {
             "outlinewidth": 0,
             "ticks": ""
            },
            "type": "choropleth"
           }
          ],
          "contour": [
           {
            "colorbar": {
             "outlinewidth": 0,
             "ticks": ""
            },
            "colorscale": [
             [
              0,
              "#0d0887"
             ],
             [
              0.1111111111111111,
              "#46039f"
             ],
             [
              0.2222222222222222,
              "#7201a8"
             ],
             [
              0.3333333333333333,
              "#9c179e"
             ],
             [
              0.4444444444444444,
              "#bd3786"
             ],
             [
              0.5555555555555556,
              "#d8576b"
             ],
             [
              0.6666666666666666,
              "#ed7953"
             ],
             [
              0.7777777777777778,
              "#fb9f3a"
             ],
             [
              0.8888888888888888,
              "#fdca26"
             ],
             [
              1,
              "#f0f921"
             ]
            ],
            "type": "contour"
           }
          ],
          "contourcarpet": [
           {
            "colorbar": {
             "outlinewidth": 0,
             "ticks": ""
            },
            "type": "contourcarpet"
           }
          ],
          "heatmap": [
           {
            "colorbar": {
             "outlinewidth": 0,
             "ticks": ""
            },
            "colorscale": [
             [
              0,
              "#0d0887"
             ],
             [
              0.1111111111111111,
              "#46039f"
             ],
             [
              0.2222222222222222,
              "#7201a8"
             ],
             [
              0.3333333333333333,
              "#9c179e"
             ],
             [
              0.4444444444444444,
              "#bd3786"
             ],
             [
              0.5555555555555556,
              "#d8576b"
             ],
             [
              0.6666666666666666,
              "#ed7953"
             ],
             [
              0.7777777777777778,
              "#fb9f3a"
             ],
             [
              0.8888888888888888,
              "#fdca26"
             ],
             [
              1,
              "#f0f921"
             ]
            ],
            "type": "heatmap"
           }
          ],
          "histogram": [
           {
            "marker": {
             "pattern": {
              "fillmode": "overlay",
              "size": 10,
              "solidity": 0.2
             }
            },
            "type": "histogram"
           }
          ],
          "histogram2d": [
           {
            "colorbar": {
             "outlinewidth": 0,
             "ticks": ""
            },
            "colorscale": [
             [
              0,
              "#0d0887"
             ],
             [
              0.1111111111111111,
              "#46039f"
             ],
             [
              0.2222222222222222,
              "#7201a8"
             ],
             [
              0.3333333333333333,
              "#9c179e"
             ],
             [
              0.4444444444444444,
              "#bd3786"
             ],
             [
              0.5555555555555556,
              "#d8576b"
             ],
             [
              0.6666666666666666,
              "#ed7953"
             ],
             [
              0.7777777777777778,
              "#fb9f3a"
             ],
             [
              0.8888888888888888,
              "#fdca26"
             ],
             [
              1,
              "#f0f921"
             ]
            ],
            "type": "histogram2d"
           }
          ],
          "histogram2dcontour": [
           {
            "colorbar": {
             "outlinewidth": 0,
             "ticks": ""
            },
            "colorscale": [
             [
              0,
              "#0d0887"
             ],
             [
              0.1111111111111111,
              "#46039f"
             ],
             [
              0.2222222222222222,
              "#7201a8"
             ],
             [
              0.3333333333333333,
              "#9c179e"
             ],
             [
              0.4444444444444444,
              "#bd3786"
             ],
             [
              0.5555555555555556,
              "#d8576b"
             ],
             [
              0.6666666666666666,
              "#ed7953"
             ],
             [
              0.7777777777777778,
              "#fb9f3a"
             ],
             [
              0.8888888888888888,
              "#fdca26"
             ],
             [
              1,
              "#f0f921"
             ]
            ],
            "type": "histogram2dcontour"
           }
          ],
          "mesh3d": [
           {
            "colorbar": {
             "outlinewidth": 0,
             "ticks": ""
            },
            "type": "mesh3d"
           }
          ],
          "parcoords": [
           {
            "line": {
             "colorbar": {
              "outlinewidth": 0,
              "ticks": ""
             }
            },
            "type": "parcoords"
           }
          ],
          "pie": [
           {
            "automargin": true,
            "type": "pie"
           }
          ],
          "scatter": [
           {
            "fillpattern": {
             "fillmode": "overlay",
             "size": 10,
             "solidity": 0.2
            },
            "type": "scatter"
           }
          ],
          "scatter3d": [
           {
            "line": {
             "colorbar": {
              "outlinewidth": 0,
              "ticks": ""
             }
            },
            "marker": {
             "colorbar": {
              "outlinewidth": 0,
              "ticks": ""
             }
            },
            "type": "scatter3d"
           }
          ],
          "scattercarpet": [
           {
            "marker": {
             "colorbar": {
              "outlinewidth": 0,
              "ticks": ""
             }
            },
            "type": "scattercarpet"
           }
          ],
          "scattergeo": [
           {
            "marker": {
             "colorbar": {
              "outlinewidth": 0,
              "ticks": ""
             }
            },
            "type": "scattergeo"
           }
          ],
          "scattergl": [
           {
            "marker": {
             "colorbar": {
              "outlinewidth": 0,
              "ticks": ""
             }
            },
            "type": "scattergl"
           }
          ],
          "scattermap": [
           {
            "marker": {
             "colorbar": {
              "outlinewidth": 0,
              "ticks": ""
             }
            },
            "type": "scattermap"
           }
          ],
          "scattermapbox": [
           {
            "marker": {
             "colorbar": {
              "outlinewidth": 0,
              "ticks": ""
             }
            },
            "type": "scattermapbox"
           }
          ],
          "scatterpolar": [
           {
            "marker": {
             "colorbar": {
              "outlinewidth": 0,
              "ticks": ""
             }
            },
            "type": "scatterpolar"
           }
          ],
          "scatterpolargl": [
           {
            "marker": {
             "colorbar": {
              "outlinewidth": 0,
              "ticks": ""
             }
            },
            "type": "scatterpolargl"
           }
          ],
          "scatterternary": [
           {
            "marker": {
             "colorbar": {
              "outlinewidth": 0,
              "ticks": ""
             }
            },
            "type": "scatterternary"
           }
          ],
          "surface": [
           {
            "colorbar": {
             "outlinewidth": 0,
             "ticks": ""
            },
            "colorscale": [
             [
              0,
              "#0d0887"
             ],
             [
              0.1111111111111111,
              "#46039f"
             ],
             [
              0.2222222222222222,
              "#7201a8"
             ],
             [
              0.3333333333333333,
              "#9c179e"
             ],
             [
              0.4444444444444444,
              "#bd3786"
             ],
             [
              0.5555555555555556,
              "#d8576b"
             ],
             [
              0.6666666666666666,
              "#ed7953"
             ],
             [
              0.7777777777777778,
              "#fb9f3a"
             ],
             [
              0.8888888888888888,
              "#fdca26"
             ],
             [
              1,
              "#f0f921"
             ]
            ],
            "type": "surface"
           }
          ],
          "table": [
           {
            "cells": {
             "fill": {
              "color": "#EBF0F8"
             },
             "line": {
              "color": "white"
             }
            },
            "header": {
             "fill": {
              "color": "#C8D4E3"
             },
             "line": {
              "color": "white"
             }
            },
            "type": "table"
           }
          ]
         },
         "layout": {
          "annotationdefaults": {
           "arrowcolor": "#2a3f5f",
           "arrowhead": 0,
           "arrowwidth": 1
          },
          "autotypenumbers": "strict",
          "coloraxis": {
           "colorbar": {
            "outlinewidth": 0,
            "ticks": ""
           }
          },
          "colorscale": {
           "diverging": [
            [
             0,
             "#8e0152"
            ],
            [
             0.1,
             "#c51b7d"
            ],
            [
             0.2,
             "#de77ae"
            ],
            [
             0.3,
             "#f1b6da"
            ],
            [
             0.4,
             "#fde0ef"
            ],
            [
             0.5,
             "#f7f7f7"
            ],
            [
             0.6,
             "#e6f5d0"
            ],
            [
             0.7,
             "#b8e186"
            ],
            [
             0.8,
             "#7fbc41"
            ],
            [
             0.9,
             "#4d9221"
            ],
            [
             1,
             "#276419"
            ]
           ],
           "sequential": [
            [
             0,
             "#0d0887"
            ],
            [
             0.1111111111111111,
             "#46039f"
            ],
            [
             0.2222222222222222,
             "#7201a8"
            ],
            [
             0.3333333333333333,
             "#9c179e"
            ],
            [
             0.4444444444444444,
             "#bd3786"
            ],
            [
             0.5555555555555556,
             "#d8576b"
            ],
            [
             0.6666666666666666,
             "#ed7953"
            ],
            [
             0.7777777777777778,
             "#fb9f3a"
            ],
            [
             0.8888888888888888,
             "#fdca26"
            ],
            [
             1,
             "#f0f921"
            ]
           ],
           "sequentialminus": [
            [
             0,
             "#0d0887"
            ],
            [
             0.1111111111111111,
             "#46039f"
            ],
            [
             0.2222222222222222,
             "#7201a8"
            ],
            [
             0.3333333333333333,
             "#9c179e"
            ],
            [
             0.4444444444444444,
             "#bd3786"
            ],
            [
             0.5555555555555556,
             "#d8576b"
            ],
            [
             0.6666666666666666,
             "#ed7953"
            ],
            [
             0.7777777777777778,
             "#fb9f3a"
            ],
            [
             0.8888888888888888,
             "#fdca26"
            ],
            [
             1,
             "#f0f921"
            ]
           ]
          },
          "colorway": [
           "#636efa",
           "#EF553B",
           "#00cc96",
           "#ab63fa",
           "#FFA15A",
           "#19d3f3",
           "#FF6692",
           "#B6E880",
           "#FF97FF",
           "#FECB52"
          ],
          "font": {
           "color": "#2a3f5f"
          },
          "geo": {
           "bgcolor": "white",
           "lakecolor": "white",
           "landcolor": "#E5ECF6",
           "showlakes": true,
           "showland": true,
           "subunitcolor": "white"
          },
          "hoverlabel": {
           "align": "left"
          },
          "hovermode": "closest",
          "mapbox": {
           "style": "light"
          },
          "paper_bgcolor": "white",
          "plot_bgcolor": "#E5ECF6",
          "polar": {
           "angularaxis": {
            "gridcolor": "white",
            "linecolor": "white",
            "ticks": ""
           },
           "bgcolor": "#E5ECF6",
           "radialaxis": {
            "gridcolor": "white",
            "linecolor": "white",
            "ticks": ""
           }
          },
          "scene": {
           "xaxis": {
            "backgroundcolor": "#E5ECF6",
            "gridcolor": "white",
            "gridwidth": 2,
            "linecolor": "white",
            "showbackground": true,
            "ticks": "",
            "zerolinecolor": "white"
           },
           "yaxis": {
            "backgroundcolor": "#E5ECF6",
            "gridcolor": "white",
            "gridwidth": 2,
            "linecolor": "white",
            "showbackground": true,
            "ticks": "",
            "zerolinecolor": "white"
           },
           "zaxis": {
            "backgroundcolor": "#E5ECF6",
            "gridcolor": "white",
            "gridwidth": 2,
            "linecolor": "white",
            "showbackground": true,
            "ticks": "",
            "zerolinecolor": "white"
           }
          },
          "shapedefaults": {
           "line": {
            "color": "#2a3f5f"
           }
          },
          "ternary": {
           "aaxis": {
            "gridcolor": "white",
            "linecolor": "white",
            "ticks": ""
           },
           "baxis": {
            "gridcolor": "white",
            "linecolor": "white",
            "ticks": ""
           },
           "bgcolor": "#E5ECF6",
           "caxis": {
            "gridcolor": "white",
            "linecolor": "white",
            "ticks": ""
           }
          },
          "title": {
           "x": 0.05
          },
          "xaxis": {
           "automargin": true,
           "gridcolor": "white",
           "linecolor": "white",
           "ticks": "",
           "title": {
            "standoff": 15
           },
           "zerolinecolor": "white",
           "zerolinewidth": 2
          },
          "yaxis": {
           "automargin": true,
           "gridcolor": "white",
           "linecolor": "white",
           "ticks": "",
           "title": {
            "standoff": 15
           },
           "zerolinecolor": "white",
           "zerolinewidth": 2
          }
         }
        },
        "title": {
         "text": "Payload vs Launch Success"
        },
        "xaxis": {
         "anchor": "y",
         "domain": [
          0,
          1
         ],
         "title": {
          "text": "PayloadMass"
         }
        },
        "yaxis": {
         "anchor": "x",
         "domain": [
          0,
          1
         ],
         "title": {
          "text": "Class"
         }
        }
       }
      }
     },
     "metadata": {},
     "output_type": "display_data"
    }
   ],
   "source": [
    "import plotly.express as px\n",
    "\n",
    "fig = px.scatter(df,\n",
    "                 x='PayloadMass',\n",
    "                 y='Class',\n",
    "                 color='LaunchSite',\n",
    "                 hover_data=['Orbit', 'Outcome'],\n",
    "                 title='Payload vs Launch Success')\n",
    "fig.show()\n"
   ]
  },
  {
   "cell_type": "code",
   "execution_count": null,
   "metadata": {},
   "outputs": [],
   "source": []
  },
  {
   "cell_type": "markdown",
   "id": "6ef71dc8-94a4-49a9-ba5e-8805dc39ed60",
   "metadata": {},
   "source": [
    "### TASK 4: Create a landing outcome label from Outcome column\n"
   ]
  },
  {
   "cell_type": "markdown",
   "id": "90c28aa2-b8ee-4653-b5ac-978fdee1c194",
   "metadata": {},
   "source": [
    "Using the <code>Outcome</code>,  create a list where the element is zero if the corresponding  row  in  <code>Outcome</code> is in the set <code>bad_outcome</code>; otherwise, it's one. Then assign it to the variable <code>landing_class</code>:\n"
   ]
  },
  {
   "cell_type": "code",
   "execution_count": 18,
   "id": "3b48e4ce-4902-41b0-bf70-f82a7ae4eecd",
   "metadata": {},
   "outputs": [],
   "source": [
    "# landing_class = 0 if bad_outcome\n",
    "# landing_class = 1 otherwise\n",
    "bad_outcomes = ['None', 'False ASDS', 'False Ocean', 'False RTLS']\n",
    "landing_class = df['Outcome'].apply(lambda x: 0 if x in bad_outcomes else 1)\n"
   ]
  },
  {
   "cell_type": "markdown",
   "id": "31816b5a-2c00-4317-9544-9d63083e7710",
   "metadata": {},
   "source": [
    "This variable will represent the classification variable that represents the outcome of each launch. If the value is zero, the  first stage did not land successfully; one means  the first stage landed Successfully \n"
   ]
  },
  {
   "cell_type": "code",
   "execution_count": 19,
   "id": "f93db6a1-eb99-4322-bc8f-bb86292eb551",
   "metadata": {},
   "outputs": [
    {
     "data": {
      "text/html": [
       "<div>\n",
       "<style scoped>\n",
       "    .dataframe tbody tr th:only-of-type {\n",
       "        vertical-align: middle;\n",
       "    }\n",
       "\n",
       "    .dataframe tbody tr th {\n",
       "        vertical-align: top;\n",
       "    }\n",
       "\n",
       "    .dataframe thead th {\n",
       "        text-align: right;\n",
       "    }\n",
       "</style>\n",
       "<table border=\"1\" class=\"dataframe\">\n",
       "  <thead>\n",
       "    <tr style=\"text-align: right;\">\n",
       "      <th></th>\n",
       "      <th>Class</th>\n",
       "    </tr>\n",
       "  </thead>\n",
       "  <tbody>\n",
       "    <tr>\n",
       "      <th>0</th>\n",
       "      <td>1</td>\n",
       "    </tr>\n",
       "    <tr>\n",
       "      <th>1</th>\n",
       "      <td>1</td>\n",
       "    </tr>\n",
       "    <tr>\n",
       "      <th>2</th>\n",
       "      <td>1</td>\n",
       "    </tr>\n",
       "    <tr>\n",
       "      <th>3</th>\n",
       "      <td>0</td>\n",
       "    </tr>\n",
       "    <tr>\n",
       "      <th>4</th>\n",
       "      <td>1</td>\n",
       "    </tr>\n",
       "    <tr>\n",
       "      <th>5</th>\n",
       "      <td>1</td>\n",
       "    </tr>\n",
       "    <tr>\n",
       "      <th>6</th>\n",
       "      <td>1</td>\n",
       "    </tr>\n",
       "    <tr>\n",
       "      <th>7</th>\n",
       "      <td>1</td>\n",
       "    </tr>\n",
       "  </tbody>\n",
       "</table>\n",
       "</div>"
      ],
      "text/plain": [
       "   Class\n",
       "0      1\n",
       "1      1\n",
       "2      1\n",
       "3      0\n",
       "4      1\n",
       "5      1\n",
       "6      1\n",
       "7      1"
      ]
     },
     "execution_count": 19,
     "metadata": {},
     "output_type": "execute_result"
    }
   ],
   "source": [
    "df['Class']=landing_class\n",
    "df[['Class']].head(8)"
   ]
  },
  {
   "cell_type": "code",
   "execution_count": 20,
   "id": "cf72dd27-bb5c-4a1f-b90d-48eccf1c84af",
   "metadata": {},
   "outputs": [
    {
     "data": {
      "text/html": [
       "<div>\n",
       "<style scoped>\n",
       "    .dataframe tbody tr th:only-of-type {\n",
       "        vertical-align: middle;\n",
       "    }\n",
       "\n",
       "    .dataframe tbody tr th {\n",
       "        vertical-align: top;\n",
       "    }\n",
       "\n",
       "    .dataframe thead th {\n",
       "        text-align: right;\n",
       "    }\n",
       "</style>\n",
       "<table border=\"1\" class=\"dataframe\">\n",
       "  <thead>\n",
       "    <tr style=\"text-align: right;\">\n",
       "      <th></th>\n",
       "      <th>FlightNumber</th>\n",
       "      <th>Date</th>\n",
       "      <th>BoosterVersion</th>\n",
       "      <th>PayloadMass</th>\n",
       "      <th>Orbit</th>\n",
       "      <th>LaunchSite</th>\n",
       "      <th>Outcome</th>\n",
       "      <th>Flights</th>\n",
       "      <th>GridFins</th>\n",
       "      <th>Reused</th>\n",
       "      <th>Legs</th>\n",
       "      <th>LandingPad</th>\n",
       "      <th>Block</th>\n",
       "      <th>ReusedCount</th>\n",
       "      <th>Serial</th>\n",
       "      <th>Longitude</th>\n",
       "      <th>Latitude</th>\n",
       "      <th>Class</th>\n",
       "    </tr>\n",
       "  </thead>\n",
       "  <tbody>\n",
       "    <tr>\n",
       "      <th>0</th>\n",
       "      <td>1</td>\n",
       "      <td>2010-06-04</td>\n",
       "      <td>Falcon 9</td>\n",
       "      <td>6104.959412</td>\n",
       "      <td>LEO</td>\n",
       "      <td>CCAFS SLC 40</td>\n",
       "      <td>None None</td>\n",
       "      <td>1</td>\n",
       "      <td>False</td>\n",
       "      <td>False</td>\n",
       "      <td>False</td>\n",
       "      <td>NaN</td>\n",
       "      <td>1.0</td>\n",
       "      <td>0</td>\n",
       "      <td>B0003</td>\n",
       "      <td>-80.577366</td>\n",
       "      <td>28.561857</td>\n",
       "      <td>1</td>\n",
       "    </tr>\n",
       "    <tr>\n",
       "      <th>1</th>\n",
       "      <td>2</td>\n",
       "      <td>2012-05-22</td>\n",
       "      <td>Falcon 9</td>\n",
       "      <td>525.000000</td>\n",
       "      <td>LEO</td>\n",
       "      <td>CCAFS SLC 40</td>\n",
       "      <td>None None</td>\n",
       "      <td>1</td>\n",
       "      <td>False</td>\n",
       "      <td>False</td>\n",
       "      <td>False</td>\n",
       "      <td>NaN</td>\n",
       "      <td>1.0</td>\n",
       "      <td>0</td>\n",
       "      <td>B0005</td>\n",
       "      <td>-80.577366</td>\n",
       "      <td>28.561857</td>\n",
       "      <td>1</td>\n",
       "    </tr>\n",
       "    <tr>\n",
       "      <th>2</th>\n",
       "      <td>3</td>\n",
       "      <td>2013-03-01</td>\n",
       "      <td>Falcon 9</td>\n",
       "      <td>677.000000</td>\n",
       "      <td>ISS</td>\n",
       "      <td>CCAFS SLC 40</td>\n",
       "      <td>None None</td>\n",
       "      <td>1</td>\n",
       "      <td>False</td>\n",
       "      <td>False</td>\n",
       "      <td>False</td>\n",
       "      <td>NaN</td>\n",
       "      <td>1.0</td>\n",
       "      <td>0</td>\n",
       "      <td>B0007</td>\n",
       "      <td>-80.577366</td>\n",
       "      <td>28.561857</td>\n",
       "      <td>1</td>\n",
       "    </tr>\n",
       "    <tr>\n",
       "      <th>3</th>\n",
       "      <td>4</td>\n",
       "      <td>2013-09-29</td>\n",
       "      <td>Falcon 9</td>\n",
       "      <td>500.000000</td>\n",
       "      <td>PO</td>\n",
       "      <td>VAFB SLC 4E</td>\n",
       "      <td>False Ocean</td>\n",
       "      <td>1</td>\n",
       "      <td>False</td>\n",
       "      <td>False</td>\n",
       "      <td>False</td>\n",
       "      <td>NaN</td>\n",
       "      <td>1.0</td>\n",
       "      <td>0</td>\n",
       "      <td>B1003</td>\n",
       "      <td>-120.610829</td>\n",
       "      <td>34.632093</td>\n",
       "      <td>0</td>\n",
       "    </tr>\n",
       "    <tr>\n",
       "      <th>4</th>\n",
       "      <td>5</td>\n",
       "      <td>2013-12-03</td>\n",
       "      <td>Falcon 9</td>\n",
       "      <td>3170.000000</td>\n",
       "      <td>GTO</td>\n",
       "      <td>CCAFS SLC 40</td>\n",
       "      <td>None None</td>\n",
       "      <td>1</td>\n",
       "      <td>False</td>\n",
       "      <td>False</td>\n",
       "      <td>False</td>\n",
       "      <td>NaN</td>\n",
       "      <td>1.0</td>\n",
       "      <td>0</td>\n",
       "      <td>B1004</td>\n",
       "      <td>-80.577366</td>\n",
       "      <td>28.561857</td>\n",
       "      <td>1</td>\n",
       "    </tr>\n",
       "  </tbody>\n",
       "</table>\n",
       "</div>"
      ],
      "text/plain": [
       "   FlightNumber        Date BoosterVersion  PayloadMass Orbit    LaunchSite  \\\n",
       "0             1  2010-06-04       Falcon 9  6104.959412   LEO  CCAFS SLC 40   \n",
       "1             2  2012-05-22       Falcon 9   525.000000   LEO  CCAFS SLC 40   \n",
       "2             3  2013-03-01       Falcon 9   677.000000   ISS  CCAFS SLC 40   \n",
       "3             4  2013-09-29       Falcon 9   500.000000    PO   VAFB SLC 4E   \n",
       "4             5  2013-12-03       Falcon 9  3170.000000   GTO  CCAFS SLC 40   \n",
       "\n",
       "       Outcome  Flights  GridFins  Reused   Legs LandingPad  Block  \\\n",
       "0    None None        1     False   False  False        NaN    1.0   \n",
       "1    None None        1     False   False  False        NaN    1.0   \n",
       "2    None None        1     False   False  False        NaN    1.0   \n",
       "3  False Ocean        1     False   False  False        NaN    1.0   \n",
       "4    None None        1     False   False  False        NaN    1.0   \n",
       "\n",
       "   ReusedCount Serial   Longitude   Latitude  Class  \n",
       "0            0  B0003  -80.577366  28.561857      1  \n",
       "1            0  B0005  -80.577366  28.561857      1  \n",
       "2            0  B0007  -80.577366  28.561857      1  \n",
       "3            0  B1003 -120.610829  34.632093      0  \n",
       "4            0  B1004  -80.577366  28.561857      1  "
      ]
     },
     "execution_count": 20,
     "metadata": {},
     "output_type": "execute_result"
    }
   ],
   "source": [
    "df.head(5)"
   ]
  },
  {
   "cell_type": "markdown",
   "id": "e494ccc2-f3a4-4768-bb35-91420ad59ded",
   "metadata": {},
   "source": [
    "We can use the following line of code to determine  the success rate:\n"
   ]
  },
  {
   "cell_type": "code",
   "execution_count": 21,
   "id": "dff9204e-32a4-4315-b0d2-1e4f48ec82c0",
   "metadata": {},
   "outputs": [
    {
     "data": {
      "text/plain": [
       "0.9"
      ]
     },
     "execution_count": 21,
     "metadata": {},
     "output_type": "execute_result"
    }
   ],
   "source": [
    "df[\"Class\"].mean()"
   ]
  },
  {
   "cell_type": "code",
   "execution_count": 22,
   "metadata": {},
   "outputs": [
    {
     "data": {
      "text/plain": [
       "27"
      ]
     },
     "execution_count": 22,
     "metadata": {},
     "output_type": "execute_result"
    }
   ],
   "source": [
    "df['Orbit'].value_counts()['GTO']\n"
   ]
  },
  {
   "cell_type": "code",
   "execution_count": 23,
   "metadata": {},
   "outputs": [
    {
     "data": {
      "text/plain": [
       "41"
      ]
     },
     "execution_count": 23,
     "metadata": {},
     "output_type": "execute_result"
    }
   ],
   "source": [
    "df['Outcome'].value_counts()['True ASDS']\n"
   ]
  },
  {
   "cell_type": "code",
   "execution_count": 35,
   "metadata": {},
   "outputs": [
    {
     "name": "stdout",
     "output_type": "stream",
     "text": [
      "Linear Regression R² on test set: -0.5600762251690348\n"
     ]
    }
   ],
   "source": [
    "from sklearn.model_selection import train_test_split\n",
    "from sklearn.linear_model import LinearRegression\n",
    "\n",
    "# EXAMPLE: predict PayloadMass from FlightNumber\n",
    "X = df[['FlightNumber']]\n",
    "y = df['PayloadMass']\n",
    "\n",
    "X_tr, X_te, y_tr, y_te = train_test_split(X, y, test_size=0.2, random_state=0)\n",
    "lin = LinearRegression().fit(X_tr, y_tr)\n",
    "\n",
    "print(\"Linear Regression R² on test set:\", lin.score(X_te, y_te))\n"
   ]
  },
  {
   "cell_type": "code",
   "execution_count": 36,
   "metadata": {},
   "outputs": [
    {
     "name": "stdout",
     "output_type": "stream",
     "text": [
      "Ridge (Poly deg 2) R² on test set: -0.8187567869903685\n"
     ]
    }
   ],
   "source": [
    "from sklearn.preprocessing import StandardScaler, PolynomialFeatures\n",
    "from sklearn.linear_model import Ridge\n",
    "\n",
    "poly      = PolynomialFeatures(degree=2, include_bias=False)\n",
    "scaler    = StandardScaler()\n",
    "\n",
    "X_poly_tr = poly.fit_transform(scaler.fit_transform(X_tr))\n",
    "X_poly_te = poly.transform(scaler.transform(X_te))\n",
    "\n",
    "ridge = Ridge(alpha=0.1).fit(X_poly_tr, y_tr)\n",
    "print(\"Ridge (Poly deg 2) R² on test set:\", ridge.score(X_poly_te, y_te))\n"
   ]
  },
  {
   "cell_type": "code",
   "execution_count": 37,
   "metadata": {},
   "outputs": [
    {
     "name": "stdout",
     "output_type": "stream",
     "text": [
      "Logistic Regression accuracy: 0.8888888888888888\n",
      "Confusion matrix:\n",
      " [[ 4  2]\n",
      " [ 0 12]]\n"
     ]
    },
    {
     "name": "stderr",
     "output_type": "stream",
     "text": [
      "C:\\Users\\Sreel\\AppData\\Roaming\\Python\\Python312\\site-packages\\sklearn\\linear_model\\_logistic.py:470: ConvergenceWarning:\n",
      "\n",
      "lbfgs failed to converge after 500 iteration(s) (status=1):\n",
      "STOP: TOTAL NO. of ITERATIONS REACHED LIMIT\n",
      "\n",
      "Increase the number of iterations to improve the convergence (max_iter=500).\n",
      "You might also want to scale the data as shown in:\n",
      "    https://scikit-learn.org/stable/modules/preprocessing.html\n",
      "Please also refer to the documentation for alternative solver options:\n",
      "    https://scikit-learn.org/stable/modules/linear_model.html#logistic-regression\n",
      "\n"
     ]
    }
   ],
   "source": [
    "from sklearn.linear_model import LogisticRegression\n",
    "from sklearn.metrics import accuracy_score, confusion_matrix\n",
    "\n",
    "# Classification target: 1 = successful landing, 0 = failure\n",
    "y_cls = df['Outcome'].apply(lambda x: 1 if 'True' in x else 0)\n",
    "\n",
    "features = [\n",
    "    \"PayloadMass\", \"FlightNumber\", \"Orbit\", \"LaunchSite\",\n",
    "    \"GridFins\", \"Reused\", \"Legs\", \"Block\"\n",
    "]\n",
    "# one‑hot‑encode categorical columns\n",
    "X_cls = pd.get_dummies(df[features], drop_first=True)\n",
    "\n",
    "Xc_tr, Xc_te, yc_tr, yc_te = train_test_split(X_cls, y_cls, test_size=0.2, random_state=1)\n",
    "\n",
    "logreg = LogisticRegression(max_iter=500).fit(Xc_tr, yc_tr)\n",
    "y_pred = logreg.predict(Xc_te)\n",
    "\n",
    "print(\"Logistic Regression accuracy:\", accuracy_score(yc_te, y_pred))\n",
    "print(\"Confusion matrix:\\n\", confusion_matrix(yc_te, y_pred))\n"
   ]
  },
  {
   "cell_type": "code",
   "execution_count": 41,
   "metadata": {},
   "outputs": [
    {
     "name": "stdout",
     "output_type": "stream",
     "text": [
      "Total launches to GEO: 27\n",
      "Total successful landings on drone ships (True ASDS): 41\n"
     ]
    }
   ],
   "source": [
    "# Total launches to GEO (Orbit == 'GTO' in this dataset)\n",
    "geo_total = df['Orbit'].value_counts().get('GTO', 0)\n",
    "print(\"Total launches to GEO:\", geo_total)\n",
    "\n",
    "# Total successful drone‑ship landings (Outcome == 'True ASDS')\n",
    "drone_success_total = df['Outcome'].value_counts().get('True ASDS', 0)\n",
    "print(\"Total successful landings on drone ships (True ASDS):\", drone_success_total)\n"
   ]
  },
  {
   "cell_type": "code",
   "execution_count": null,
   "metadata": {},
   "outputs": [],
   "source": []
  },
  {
   "cell_type": "markdown",
   "id": "65d61994-cb6d-4d4b-9966-661b3b291f50",
   "metadata": {},
   "source": [
    "We can now export it to a CSV for the next section,but to make the answers consistent, in the next lab we will provide data in a pre-selected date range.\n"
   ]
  },
  {
   "cell_type": "markdown",
   "id": "4ca113ae-cb2b-43d4-8195-33f3c87d7d01",
   "metadata": {},
   "source": [
    "<code>df.to_csv(\"dataset_part_2.csv\", index=False)</code>\n"
   ]
  },
  {
   "cell_type": "markdown",
   "id": "bc8ab378-fbde-4a1d-a162-0bfd56626ef1",
   "metadata": {},
   "source": [
    "## Authors\n"
   ]
  },
  {
   "cell_type": "markdown",
   "id": "266c6659-13fc-4475-8048-852457644c7d",
   "metadata": {},
   "source": [
    "<a href=\"https://www.linkedin.com/in/joseph-s-50398b136/\">Joseph Santarcangelo</a> has a PhD in Electrical Engineering, his research focused on using machine learning, signal processing, and computer vision to determine how videos impact human cognition. Joseph has been working for IBM since he completed his PhD.\n"
   ]
  },
  {
   "cell_type": "markdown",
   "id": "76d28f1e-45b7-4779-8cfb-41559dbbcaa3",
   "metadata": {},
   "source": [
    "<a href=\"https://www.linkedin.com/in/nayefaboutayoun/\">Nayef Abou Tayoun</a> is a Data Scientist at IBM and pursuing a Master of Management in Artificial intelligence degree at Queen's University.\n"
   ]
  },
  {
   "cell_type": "markdown",
   "id": "0ae91eaa-467a-4f96-808f-a32574d38247",
   "metadata": {},
   "source": [
    "<!--\n",
    "## Change Log\n",
    "-->\n"
   ]
  },
  {
   "cell_type": "markdown",
   "id": "1dcbf68c-397b-4751-a0e7-4621c4f2df20",
   "metadata": {},
   "source": [
    "<!--\n",
    "| Date (YYYY-MM-DD) | Version | Changed By | Change Description      |\n",
    "| ----------------- | ------- | ---------- | ----------------------- |\n",
    "| 2021-08-31        | 1.1     | Lakshmi Holla    | Changed Markdown |\n",
    "| 2020-09-20        | 1.0     | Joseph     | Modified Multiple Areas |\n",
    "| 2020-11-04        | 1.1.    | Nayef      | updating the input data |\n",
    "| 2021-05-026       | 1.1.    | Joseph      | updating the input data |\n",
    "-->\n"
   ]
  },
  {
   "cell_type": "markdown",
   "id": "58231250-e020-43c2-9e80-b14e01451c83",
   "metadata": {},
   "source": [
    "Copyright © 2021 IBM Corporation. All rights reserved.\n"
   ]
  }
 ],
 "metadata": {
  "kernelspec": {
   "display_name": "Python 3",
   "language": "python",
   "name": "python3"
  },
  "language_info": {
   "codemirror_mode": {
    "name": "ipython",
    "version": 3
   },
   "file_extension": ".py",
   "mimetype": "text/x-python",
   "name": "python",
   "nbconvert_exporter": "python",
   "pygments_lexer": "ipython3",
   "version": "3.12.4"
  },
  "prev_pub_hash": "489c82f6b50cd749a6989b32709fa6722970710ac5090b645e53e7c8e87c0dd5"
 },
 "nbformat": 4,
 "nbformat_minor": 4
}
